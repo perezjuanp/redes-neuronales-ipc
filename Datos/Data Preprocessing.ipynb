{
 "cells": [
  {
   "cell_type": "markdown",
   "id": "0ed9a9ad-a60a-41ac-a8a6-885223b8776a",
   "metadata": {},
   "source": [
    "## Índice\n",
    "* [Relevamiento de Expectativas de Mercado](#REM)\n",
    "    * [REM Período 2016-Actualidad](#REM2016)\n",
    "    * [REM Período 2004-2012](#REM2004)\n",
    "    * [Uniendo ambos dataframes en uno solo](#data1)\n",
    "* [Otros datos del BCRA](#BCRA)\n",
    "    * [Tasa BADLAR](#BADLAR)\n",
    "    * [Base Monetaria](#base)\n",
    "    * [Reservas Internacionales](#reservas)\n",
    "    * [Tipo de Cambio Mayorista](#mayorista)\n",
    "* [Datos Obtenidos de Ambito Financiero](#ambito)\n",
    "    * [Tipo de Cambio \"Informal\"](#informal)\n",
    "* [Datos de Otras Fuentes](#otros)\n",
    "    * [Encuesta Expectativas de Inflacion UTDT](#utdt)\n",
    "    * [Estimador Mensual de Actividad Economica](#emae)\n",
    "* [Indice de Precios al Consumidor](#ipc)\n",
    "    * [Datos Anteriores al 2007](#ipc1943)\n",
    "    * [Datos entre 2007 y 2017](#ipc2007)\n",
    "        * [IPC San Luis](#ipcsl)\n",
    "        * [IPC CABA](#ipccaba)\n",
    "        * [Uniendo y Tomando la Media de Ambos](#uniendo)\n",
    "    * [Datos Posteriores a 2017](#ipc2017)\n",
    "    * [Uniendo los Datos del IPC](#ipcfin)\n",
    "* [Elaboracion del Dataset Final](#dataset)\n",
    "    * [Ordenando los Datos cronologicamente](#sorting)\n",
    "    * [Delimitando los Datos al periodo 2002-2021](#delimitando)\n",
    "    * [Creando una columna que contiene el mes](#mes)\n",
    "    * [Preparando las variables de frecuencia mensual](#month_var)\n",
    "    * [Preparando las variables diarias](#\"day_var\")\n",
    "    * [Uniendo ambos dataframes y rellenando datos faltantes](#rellenando)\n",
    "* [Guardando los datos en un archivo](#guardando)"
   ]
  },
  {
   "cell_type": "code",
   "execution_count": 1,
   "id": "09f7da5c",
   "metadata": {
    "tags": []
   },
   "outputs": [],
   "source": [
    "import pandas as pd\n",
    "import numpy as np\n",
    "import datetime as dt"
   ]
  },
  {
   "cell_type": "markdown",
   "id": "a38274bf",
   "metadata": {},
   "source": [
    "## Relevamiento de Expectativas de Mercado <a class=\"anchor\" id=\"REM\"> </a>\n",
    "### REM Perido 2016-Actualidad <a class=\"anchor\" id=\"REM2016\"> </a>"
   ]
  },
  {
   "cell_type": "code",
   "execution_count": 2,
   "id": "d33227dd",
   "metadata": {},
   "outputs": [
    {
     "output_type": "stream",
     "name": "stderr",
     "text": [
      "/home/julian/miniconda3/envs/bcra/lib/python3.8/site-packages/openpyxl/worksheet/header_footer.py:48: UserWarning: Cannot parse header or footer so it will be ignored\n  warn(\"\"\"Cannot parse header or footer so it will be ignored\"\"\")\n"
     ]
    },
    {
     "output_type": "execute_result",
     "data": {
      "text/plain": [
       "0     Fecha de pronóstico                                           Variable  \\\n",
       "1     2016-06-30 00:00:00  Precios minoristas (IPC nivel general-GBA; INDEC)   \n",
       "2     2016-06-30 00:00:00  Precios minoristas (IPC nivel general-GBA; INDEC)   \n",
       "3     2016-06-30 00:00:00  Precios minoristas (IPC nivel general-GBA; INDEC)   \n",
       "4     2016-06-30 00:00:00  Precios minoristas (IPC nivel general-GBA; INDEC)   \n",
       "5     2016-06-30 00:00:00  Precios minoristas (IPC nivel general-GBA; INDEC)   \n",
       "...                   ...                                                ...   \n",
       "3127  2021-04-30 00:00:00                           PIB a precios constantes   \n",
       "3128  2021-04-30 00:00:00                           PIB a precios constantes   \n",
       "3129  2021-04-30 00:00:00                           PIB a precios constantes   \n",
       "3130  2021-04-30 00:00:00                           PIB a precios constantes   \n",
       "3131  2021-04-30 00:00:00                           PIB a precios constantes   \n",
       "\n",
       "0             Referencia              Período   Mediana  Promedio    Desvío  \\\n",
       "1         var. % mensual  2016-07-01 00:00:00       2.2  2.242308  0.437367   \n",
       "2         var. % mensual  2016-08-01 00:00:00       1.9   1.88359  0.348348   \n",
       "3         var. % mensual  2016-09-01 00:00:00      1.74  1.755897  0.293805   \n",
       "4         var. % mensual  2016-10-01 00:00:00       1.6  1.614359  0.284459   \n",
       "5         var. % mensual  2016-11-01 00:00:00       1.5  1.542821  0.244791   \n",
       "...                  ...                  ...       ...       ...       ...   \n",
       "3127   var. % trim. s.e.          Trim. II-21     -1.45 -1.562117  1.600867   \n",
       "3128   var. % trim. s.e.         Trim. III-21       0.6  0.655821  1.206015   \n",
       "3129  var. % prom. anual                 2021  6.405921   6.34247  0.756899   \n",
       "3130  var. % prom. anual                 2022       2.5  2.459023  1.065667   \n",
       "3131  var. % prom. anual                 2023   2.52251  2.522975  0.596139   \n",
       "\n",
       "0    Máximo    Mínimo Percentil 90 Percentil 75 Percentil 25 Percentil 10  \\\n",
       "1       3.6       1.6        2.672          2.5        1.945         1.78   \n",
       "2       3.3      1.13         2.21            2          1.7        1.556   \n",
       "3         3      1.26            2         1.89          1.6         1.49   \n",
       "4       2.5      1.04            2        1.775          1.5        1.252   \n",
       "5         2      0.88          1.9          1.7        1.425        1.256   \n",
       "...     ...       ...          ...          ...          ...          ...   \n",
       "3127      1      -5.4        0.305       -0.075        -2.65         -3.8   \n",
       "3128    4.1      -3.5          1.9         1.31        0.075    -0.367785   \n",
       "3129      8       3.7            7     6.894982            6         5.61   \n",
       "3130    4.6         0          3.5         3.05     1.994737     1.154353   \n",
       "3131      4  1.451453            3            3          2.1     1.542723   \n",
       "\n",
       "0    Cantidad de participantes  \n",
       "1                           39  \n",
       "2                           39  \n",
       "3                           39  \n",
       "4                           39  \n",
       "5                           39  \n",
       "...                        ...  \n",
       "3127                        36  \n",
       "3128                        36  \n",
       "3129                        42  \n",
       "3130                        40  \n",
       "3131                        33  \n",
       "\n",
       "[3131 rows x 14 columns]"
      ],
      "text/html": "<div>\n<style scoped>\n    .dataframe tbody tr th:only-of-type {\n        vertical-align: middle;\n    }\n\n    .dataframe tbody tr th {\n        vertical-align: top;\n    }\n\n    .dataframe thead th {\n        text-align: right;\n    }\n</style>\n<table border=\"1\" class=\"dataframe\">\n  <thead>\n    <tr style=\"text-align: right;\">\n      <th></th>\n      <th>Fecha de pronóstico</th>\n      <th>Variable</th>\n      <th>Referencia</th>\n      <th>Período</th>\n      <th>Mediana</th>\n      <th>Promedio</th>\n      <th>Desvío</th>\n      <th>Máximo</th>\n      <th>Mínimo</th>\n      <th>Percentil 90</th>\n      <th>Percentil 75</th>\n      <th>Percentil 25</th>\n      <th>Percentil 10</th>\n      <th>Cantidad de participantes</th>\n    </tr>\n  </thead>\n  <tbody>\n    <tr>\n      <th>1</th>\n      <td>2016-06-30 00:00:00</td>\n      <td>Precios minoristas (IPC nivel general-GBA; INDEC)</td>\n      <td>var. % mensual</td>\n      <td>2016-07-01 00:00:00</td>\n      <td>2.2</td>\n      <td>2.242308</td>\n      <td>0.437367</td>\n      <td>3.6</td>\n      <td>1.6</td>\n      <td>2.672</td>\n      <td>2.5</td>\n      <td>1.945</td>\n      <td>1.78</td>\n      <td>39</td>\n    </tr>\n    <tr>\n      <th>2</th>\n      <td>2016-06-30 00:00:00</td>\n      <td>Precios minoristas (IPC nivel general-GBA; INDEC)</td>\n      <td>var. % mensual</td>\n      <td>2016-08-01 00:00:00</td>\n      <td>1.9</td>\n      <td>1.88359</td>\n      <td>0.348348</td>\n      <td>3.3</td>\n      <td>1.13</td>\n      <td>2.21</td>\n      <td>2</td>\n      <td>1.7</td>\n      <td>1.556</td>\n      <td>39</td>\n    </tr>\n    <tr>\n      <th>3</th>\n      <td>2016-06-30 00:00:00</td>\n      <td>Precios minoristas (IPC nivel general-GBA; INDEC)</td>\n      <td>var. % mensual</td>\n      <td>2016-09-01 00:00:00</td>\n      <td>1.74</td>\n      <td>1.755897</td>\n      <td>0.293805</td>\n      <td>3</td>\n      <td>1.26</td>\n      <td>2</td>\n      <td>1.89</td>\n      <td>1.6</td>\n      <td>1.49</td>\n      <td>39</td>\n    </tr>\n    <tr>\n      <th>4</th>\n      <td>2016-06-30 00:00:00</td>\n      <td>Precios minoristas (IPC nivel general-GBA; INDEC)</td>\n      <td>var. % mensual</td>\n      <td>2016-10-01 00:00:00</td>\n      <td>1.6</td>\n      <td>1.614359</td>\n      <td>0.284459</td>\n      <td>2.5</td>\n      <td>1.04</td>\n      <td>2</td>\n      <td>1.775</td>\n      <td>1.5</td>\n      <td>1.252</td>\n      <td>39</td>\n    </tr>\n    <tr>\n      <th>5</th>\n      <td>2016-06-30 00:00:00</td>\n      <td>Precios minoristas (IPC nivel general-GBA; INDEC)</td>\n      <td>var. % mensual</td>\n      <td>2016-11-01 00:00:00</td>\n      <td>1.5</td>\n      <td>1.542821</td>\n      <td>0.244791</td>\n      <td>2</td>\n      <td>0.88</td>\n      <td>1.9</td>\n      <td>1.7</td>\n      <td>1.425</td>\n      <td>1.256</td>\n      <td>39</td>\n    </tr>\n    <tr>\n      <th>...</th>\n      <td>...</td>\n      <td>...</td>\n      <td>...</td>\n      <td>...</td>\n      <td>...</td>\n      <td>...</td>\n      <td>...</td>\n      <td>...</td>\n      <td>...</td>\n      <td>...</td>\n      <td>...</td>\n      <td>...</td>\n      <td>...</td>\n      <td>...</td>\n    </tr>\n    <tr>\n      <th>3127</th>\n      <td>2021-04-30 00:00:00</td>\n      <td>PIB a precios constantes</td>\n      <td>var. % trim. s.e.</td>\n      <td>Trim. II-21</td>\n      <td>-1.45</td>\n      <td>-1.562117</td>\n      <td>1.600867</td>\n      <td>1</td>\n      <td>-5.4</td>\n      <td>0.305</td>\n      <td>-0.075</td>\n      <td>-2.65</td>\n      <td>-3.8</td>\n      <td>36</td>\n    </tr>\n    <tr>\n      <th>3128</th>\n      <td>2021-04-30 00:00:00</td>\n      <td>PIB a precios constantes</td>\n      <td>var. % trim. s.e.</td>\n      <td>Trim. III-21</td>\n      <td>0.6</td>\n      <td>0.655821</td>\n      <td>1.206015</td>\n      <td>4.1</td>\n      <td>-3.5</td>\n      <td>1.9</td>\n      <td>1.31</td>\n      <td>0.075</td>\n      <td>-0.367785</td>\n      <td>36</td>\n    </tr>\n    <tr>\n      <th>3129</th>\n      <td>2021-04-30 00:00:00</td>\n      <td>PIB a precios constantes</td>\n      <td>var. % prom. anual</td>\n      <td>2021</td>\n      <td>6.405921</td>\n      <td>6.34247</td>\n      <td>0.756899</td>\n      <td>8</td>\n      <td>3.7</td>\n      <td>7</td>\n      <td>6.894982</td>\n      <td>6</td>\n      <td>5.61</td>\n      <td>42</td>\n    </tr>\n    <tr>\n      <th>3130</th>\n      <td>2021-04-30 00:00:00</td>\n      <td>PIB a precios constantes</td>\n      <td>var. % prom. anual</td>\n      <td>2022</td>\n      <td>2.5</td>\n      <td>2.459023</td>\n      <td>1.065667</td>\n      <td>4.6</td>\n      <td>0</td>\n      <td>3.5</td>\n      <td>3.05</td>\n      <td>1.994737</td>\n      <td>1.154353</td>\n      <td>40</td>\n    </tr>\n    <tr>\n      <th>3131</th>\n      <td>2021-04-30 00:00:00</td>\n      <td>PIB a precios constantes</td>\n      <td>var. % prom. anual</td>\n      <td>2023</td>\n      <td>2.52251</td>\n      <td>2.522975</td>\n      <td>0.596139</td>\n      <td>4</td>\n      <td>1.451453</td>\n      <td>3</td>\n      <td>3</td>\n      <td>2.1</td>\n      <td>1.542723</td>\n      <td>33</td>\n    </tr>\n  </tbody>\n</table>\n<p>3131 rows × 14 columns</p>\n</div>"
     },
     "metadata": {},
     "execution_count": 2
    }
   ],
   "source": [
    "# Reading the .xlsx file\n",
    "\n",
    "def read_xlsx(path, sheet_name):\n",
    "    '''This function reads the .xlsx file and formats the columns correctly '''\n",
    "    # Reading the file\n",
    "    new_df = pd.read_excel(path, sheet_name=sheet_name)\n",
    "    # Setting the first row as the column names\n",
    "    new_df.columns = new_df.iloc[0, :]\n",
    "    new_df = new_df.iloc[1:, :]\n",
    "    return new_df\n",
    "\n",
    "rem_nuevo = read_xlsx('BCRA/REM/REM nuevo.xlsx', 'Base de Datos Completa')\n",
    "rem_nuevo"
   ]
  },
  {
   "cell_type": "code",
   "execution_count": 3,
   "id": "665096f7",
   "metadata": {
    "tags": []
   },
   "outputs": [
    {
     "output_type": "execute_result",
     "data": {
      "text/plain": [
       "0     Fecha de pronóstico                                           Variable  \\\n",
       "1     2016-06-30 00:00:00  Precios minoristas (IPC nivel general-GBA; INDEC)   \n",
       "2     2016-06-30 00:00:00  Precios minoristas (IPC nivel general-GBA; INDEC)   \n",
       "3     2016-06-30 00:00:00  Precios minoristas (IPC nivel general-GBA; INDEC)   \n",
       "4     2016-06-30 00:00:00  Precios minoristas (IPC nivel general-GBA; INDEC)   \n",
       "5     2016-06-30 00:00:00  Precios minoristas (IPC nivel general-GBA; INDEC)   \n",
       "...                   ...                                                ...   \n",
       "3127  2021-04-30 00:00:00                           PIB a precios constantes   \n",
       "3128  2021-04-30 00:00:00                           PIB a precios constantes   \n",
       "3129  2021-04-30 00:00:00                           PIB a precios constantes   \n",
       "3130  2021-04-30 00:00:00                           PIB a precios constantes   \n",
       "3131  2021-04-30 00:00:00                           PIB a precios constantes   \n",
       "\n",
       "0             Referencia              Período  Promedio  \n",
       "1         var. % mensual  2016-07-01 00:00:00  2.242308  \n",
       "2         var. % mensual  2016-08-01 00:00:00   1.88359  \n",
       "3         var. % mensual  2016-09-01 00:00:00  1.755897  \n",
       "4         var. % mensual  2016-10-01 00:00:00  1.614359  \n",
       "5         var. % mensual  2016-11-01 00:00:00  1.542821  \n",
       "...                  ...                  ...       ...  \n",
       "3127   var. % trim. s.e.          Trim. II-21 -1.562117  \n",
       "3128   var. % trim. s.e.         Trim. III-21  0.655821  \n",
       "3129  var. % prom. anual                 2021   6.34247  \n",
       "3130  var. % prom. anual                 2022  2.459023  \n",
       "3131  var. % prom. anual                 2023  2.522975  \n",
       "\n",
       "[3131 rows x 5 columns]"
      ],
      "text/html": "<div>\n<style scoped>\n    .dataframe tbody tr th:only-of-type {\n        vertical-align: middle;\n    }\n\n    .dataframe tbody tr th {\n        vertical-align: top;\n    }\n\n    .dataframe thead th {\n        text-align: right;\n    }\n</style>\n<table border=\"1\" class=\"dataframe\">\n  <thead>\n    <tr style=\"text-align: right;\">\n      <th></th>\n      <th>Fecha de pronóstico</th>\n      <th>Variable</th>\n      <th>Referencia</th>\n      <th>Período</th>\n      <th>Promedio</th>\n    </tr>\n  </thead>\n  <tbody>\n    <tr>\n      <th>1</th>\n      <td>2016-06-30 00:00:00</td>\n      <td>Precios minoristas (IPC nivel general-GBA; INDEC)</td>\n      <td>var. % mensual</td>\n      <td>2016-07-01 00:00:00</td>\n      <td>2.242308</td>\n    </tr>\n    <tr>\n      <th>2</th>\n      <td>2016-06-30 00:00:00</td>\n      <td>Precios minoristas (IPC nivel general-GBA; INDEC)</td>\n      <td>var. % mensual</td>\n      <td>2016-08-01 00:00:00</td>\n      <td>1.88359</td>\n    </tr>\n    <tr>\n      <th>3</th>\n      <td>2016-06-30 00:00:00</td>\n      <td>Precios minoristas (IPC nivel general-GBA; INDEC)</td>\n      <td>var. % mensual</td>\n      <td>2016-09-01 00:00:00</td>\n      <td>1.755897</td>\n    </tr>\n    <tr>\n      <th>4</th>\n      <td>2016-06-30 00:00:00</td>\n      <td>Precios minoristas (IPC nivel general-GBA; INDEC)</td>\n      <td>var. % mensual</td>\n      <td>2016-10-01 00:00:00</td>\n      <td>1.614359</td>\n    </tr>\n    <tr>\n      <th>5</th>\n      <td>2016-06-30 00:00:00</td>\n      <td>Precios minoristas (IPC nivel general-GBA; INDEC)</td>\n      <td>var. % mensual</td>\n      <td>2016-11-01 00:00:00</td>\n      <td>1.542821</td>\n    </tr>\n    <tr>\n      <th>...</th>\n      <td>...</td>\n      <td>...</td>\n      <td>...</td>\n      <td>...</td>\n      <td>...</td>\n    </tr>\n    <tr>\n      <th>3127</th>\n      <td>2021-04-30 00:00:00</td>\n      <td>PIB a precios constantes</td>\n      <td>var. % trim. s.e.</td>\n      <td>Trim. II-21</td>\n      <td>-1.562117</td>\n    </tr>\n    <tr>\n      <th>3128</th>\n      <td>2021-04-30 00:00:00</td>\n      <td>PIB a precios constantes</td>\n      <td>var. % trim. s.e.</td>\n      <td>Trim. III-21</td>\n      <td>0.655821</td>\n    </tr>\n    <tr>\n      <th>3129</th>\n      <td>2021-04-30 00:00:00</td>\n      <td>PIB a precios constantes</td>\n      <td>var. % prom. anual</td>\n      <td>2021</td>\n      <td>6.34247</td>\n    </tr>\n    <tr>\n      <th>3130</th>\n      <td>2021-04-30 00:00:00</td>\n      <td>PIB a precios constantes</td>\n      <td>var. % prom. anual</td>\n      <td>2022</td>\n      <td>2.459023</td>\n    </tr>\n    <tr>\n      <th>3131</th>\n      <td>2021-04-30 00:00:00</td>\n      <td>PIB a precios constantes</td>\n      <td>var. % prom. anual</td>\n      <td>2023</td>\n      <td>2.522975</td>\n    </tr>\n  </tbody>\n</table>\n<p>3131 rows × 5 columns</p>\n</div>"
     },
     "metadata": {},
     "execution_count": 3
    }
   ],
   "source": [
    "# Dropping unnecesary columns\n",
    "\n",
    "rem_nuevo = rem_nuevo[['Fecha de pronóstico', 'Variable', 'Referencia', 'Período', 'Promedio']]\n",
    "rem_nuevo"
   ]
  },
  {
   "cell_type": "code",
   "execution_count": 4,
   "id": "4a44685f",
   "metadata": {
    "tags": []
   },
   "outputs": [
    {
     "output_type": "execute_result",
     "data": {
      "text/plain": [
       "0    Fecha de pronóstico                                       Variable  \\\n",
       "0    2016-06-30 00:00:00  Precios minoristas (IPC nivel general; INDEC)   \n",
       "1    2016-06-30 00:00:00  Precios minoristas (IPC nivel general; INDEC)   \n",
       "2    2016-06-30 00:00:00  Precios minoristas (IPC nivel general; INDEC)   \n",
       "3    2016-06-30 00:00:00  Precios minoristas (IPC nivel general; INDEC)   \n",
       "4    2016-06-30 00:00:00  Precios minoristas (IPC nivel general; INDEC)   \n",
       "..                   ...                                            ...   \n",
       "377  2021-04-30 00:00:00  Precios minoristas (IPC nivel general; INDEC)   \n",
       "378  2021-04-30 00:00:00  Precios minoristas (IPC nivel general; INDEC)   \n",
       "379  2021-04-30 00:00:00  Precios minoristas (IPC nivel general; INDEC)   \n",
       "380  2021-04-30 00:00:00  Precios minoristas (IPC nivel general; INDEC)   \n",
       "381  2021-04-30 00:00:00  Precios minoristas (IPC nivel general; INDEC)   \n",
       "\n",
       "0        Referencia              Período  Promedio  \n",
       "0    var. % mensual  2016-07-01 00:00:00  2.298095  \n",
       "1    var. % mensual  2016-08-01 00:00:00  1.962857  \n",
       "2    var. % mensual  2016-09-01 00:00:00  1.825714  \n",
       "3    var. % mensual  2016-10-01 00:00:00  1.682857  \n",
       "4    var. % mensual  2016-11-01 00:00:00  1.609524  \n",
       "..              ...                  ...       ...  \n",
       "377  var. % mensual               jun-21  2.957047  \n",
       "378  var. % mensual               jul-21  2.820179  \n",
       "379  var. % mensual               ago-21  2.674699  \n",
       "380  var. % mensual               sep-21   2.65295  \n",
       "381  var. % mensual               oct-21  2.635735  \n",
       "\n",
       "[382 rows x 5 columns]"
      ],
      "text/html": "<div>\n<style scoped>\n    .dataframe tbody tr th:only-of-type {\n        vertical-align: middle;\n    }\n\n    .dataframe tbody tr th {\n        vertical-align: top;\n    }\n\n    .dataframe thead th {\n        text-align: right;\n    }\n</style>\n<table border=\"1\" class=\"dataframe\">\n  <thead>\n    <tr style=\"text-align: right;\">\n      <th></th>\n      <th>Fecha de pronóstico</th>\n      <th>Variable</th>\n      <th>Referencia</th>\n      <th>Período</th>\n      <th>Promedio</th>\n    </tr>\n  </thead>\n  <tbody>\n    <tr>\n      <th>0</th>\n      <td>2016-06-30 00:00:00</td>\n      <td>Precios minoristas (IPC nivel general; INDEC)</td>\n      <td>var. % mensual</td>\n      <td>2016-07-01 00:00:00</td>\n      <td>2.298095</td>\n    </tr>\n    <tr>\n      <th>1</th>\n      <td>2016-06-30 00:00:00</td>\n      <td>Precios minoristas (IPC nivel general; INDEC)</td>\n      <td>var. % mensual</td>\n      <td>2016-08-01 00:00:00</td>\n      <td>1.962857</td>\n    </tr>\n    <tr>\n      <th>2</th>\n      <td>2016-06-30 00:00:00</td>\n      <td>Precios minoristas (IPC nivel general; INDEC)</td>\n      <td>var. % mensual</td>\n      <td>2016-09-01 00:00:00</td>\n      <td>1.825714</td>\n    </tr>\n    <tr>\n      <th>3</th>\n      <td>2016-06-30 00:00:00</td>\n      <td>Precios minoristas (IPC nivel general; INDEC)</td>\n      <td>var. % mensual</td>\n      <td>2016-10-01 00:00:00</td>\n      <td>1.682857</td>\n    </tr>\n    <tr>\n      <th>4</th>\n      <td>2016-06-30 00:00:00</td>\n      <td>Precios minoristas (IPC nivel general; INDEC)</td>\n      <td>var. % mensual</td>\n      <td>2016-11-01 00:00:00</td>\n      <td>1.609524</td>\n    </tr>\n    <tr>\n      <th>...</th>\n      <td>...</td>\n      <td>...</td>\n      <td>...</td>\n      <td>...</td>\n      <td>...</td>\n    </tr>\n    <tr>\n      <th>377</th>\n      <td>2021-04-30 00:00:00</td>\n      <td>Precios minoristas (IPC nivel general; INDEC)</td>\n      <td>var. % mensual</td>\n      <td>jun-21</td>\n      <td>2.957047</td>\n    </tr>\n    <tr>\n      <th>378</th>\n      <td>2021-04-30 00:00:00</td>\n      <td>Precios minoristas (IPC nivel general; INDEC)</td>\n      <td>var. % mensual</td>\n      <td>jul-21</td>\n      <td>2.820179</td>\n    </tr>\n    <tr>\n      <th>379</th>\n      <td>2021-04-30 00:00:00</td>\n      <td>Precios minoristas (IPC nivel general; INDEC)</td>\n      <td>var. % mensual</td>\n      <td>ago-21</td>\n      <td>2.674699</td>\n    </tr>\n    <tr>\n      <th>380</th>\n      <td>2021-04-30 00:00:00</td>\n      <td>Precios minoristas (IPC nivel general; INDEC)</td>\n      <td>var. % mensual</td>\n      <td>sep-21</td>\n      <td>2.65295</td>\n    </tr>\n    <tr>\n      <th>381</th>\n      <td>2021-04-30 00:00:00</td>\n      <td>Precios minoristas (IPC nivel general; INDEC)</td>\n      <td>var. % mensual</td>\n      <td>oct-21</td>\n      <td>2.635735</td>\n    </tr>\n  </tbody>\n</table>\n<p>382 rows × 5 columns</p>\n</div>"
     },
     "metadata": {},
     "execution_count": 4
    }
   ],
   "source": [
    "# Dropping rows unrelated to the monthly IPC variation\n",
    "\n",
    "rem_nuevo = rem_nuevo[rem_nuevo['Variable'] == 'Precios minoristas (IPC nivel general; INDEC)']\n",
    "rem_nuevo = rem_nuevo[rem_nuevo['Referencia'] == 'var. % mensual'].reset_index(drop=True)\n",
    "rem_nuevo"
   ]
  },
  {
   "cell_type": "code",
   "execution_count": 5,
   "id": "70088573",
   "metadata": {
    "tags": []
   },
   "outputs": [
    {
     "output_type": "execute_result",
     "data": {
      "text/plain": [
       "0   Fecha de pronóstico                                       Variable  \\\n",
       "0   2016-06-30 00:00:00  Precios minoristas (IPC nivel general; INDEC)   \n",
       "1   2016-07-29 00:00:00  Precios minoristas (IPC nivel general; INDEC)   \n",
       "2   2016-08-31 00:00:00  Precios minoristas (IPC nivel general; INDEC)   \n",
       "3   2016-09-30 00:00:00  Precios minoristas (IPC nivel general; INDEC)   \n",
       "4   2016-10-31 00:00:00  Precios minoristas (IPC nivel general; INDEC)   \n",
       "5   2016-11-30 00:00:00  Precios minoristas (IPC nivel general; INDEC)   \n",
       "6   2016-12-29 00:00:00  Precios minoristas (IPC nivel general; INDEC)   \n",
       "7   2017-01-31 00:00:00  Precios minoristas (IPC nivel general; INDEC)   \n",
       "8   2017-02-24 00:00:00  Precios minoristas (IPC nivel general; INDEC)   \n",
       "9   2017-03-31 00:00:00  Precios minoristas (IPC nivel general; INDEC)   \n",
       "10  2017-04-28 00:00:00  Precios minoristas (IPC nivel general; INDEC)   \n",
       "11  2017-05-31 00:00:00  Precios minoristas (IPC nivel general; INDEC)   \n",
       "12  2017-06-30 00:00:00  Precios minoristas (IPC nivel general; INDEC)   \n",
       "13  2017-07-31 00:00:00  Precios minoristas (IPC nivel general; INDEC)   \n",
       "14  2017-08-31 00:00:00  Precios minoristas (IPC nivel general; INDEC)   \n",
       "15  2017-09-29 00:00:00  Precios minoristas (IPC nivel general; INDEC)   \n",
       "16  2017-10-31 00:00:00  Precios minoristas (IPC nivel general; INDEC)   \n",
       "17  2017-11-30 00:00:00  Precios minoristas (IPC nivel general; INDEC)   \n",
       "18  2017-12-28 00:00:00  Precios minoristas (IPC nivel general; INDEC)   \n",
       "19  2018-01-31 00:00:00  Precios minoristas (IPC nivel general; INDEC)   \n",
       "20  2018-02-28 00:00:00  Precios minoristas (IPC nivel general; INDEC)   \n",
       "21  2018-03-28 00:00:00  Precios minoristas (IPC nivel general; INDEC)   \n",
       "22  2018-04-27 00:00:00  Precios minoristas (IPC nivel general; INDEC)   \n",
       "23  2018-05-31 00:00:00  Precios minoristas (IPC nivel general; INDEC)   \n",
       "24  2018-06-29 00:00:00  Precios minoristas (IPC nivel general; INDEC)   \n",
       "25  2018-07-31 00:00:00  Precios minoristas (IPC nivel general; INDEC)   \n",
       "26  2018-08-31 00:00:00  Precios minoristas (IPC nivel general; INDEC)   \n",
       "27  2018-09-28 00:00:00  Precios minoristas (IPC nivel general; INDEC)   \n",
       "28  2018-10-31 00:00:00  Precios minoristas (IPC nivel general; INDEC)   \n",
       "29  2018-11-29 00:00:00  Precios minoristas (IPC nivel general; INDEC)   \n",
       "30  2018-12-28 00:00:00  Precios minoristas (IPC nivel general; INDEC)   \n",
       "31  2019-01-31 00:00:00  Precios minoristas (IPC nivel general; INDEC)   \n",
       "32  2019-02-28 00:00:00  Precios minoristas (IPC nivel general; INDEC)   \n",
       "33  2019-03-29 00:00:00  Precios minoristas (IPC nivel general; INDEC)   \n",
       "34  2019-04-30 00:00:00  Precios minoristas (IPC nivel general; INDEC)   \n",
       "35  2019-05-31 00:00:00  Precios minoristas (IPC nivel general; INDEC)   \n",
       "36  2019-06-28 00:00:00  Precios minoristas (IPC nivel general; INDEC)   \n",
       "37  2019-07-31 00:00:00  Precios minoristas (IPC nivel general; INDEC)   \n",
       "38  2019-08-30 00:00:00  Precios minoristas (IPC nivel general; INDEC)   \n",
       "39  2019-09-30 00:00:00  Precios minoristas (IPC nivel general; INDEC)   \n",
       "40  2019-10-31 00:00:00  Precios minoristas (IPC nivel general; INDEC)   \n",
       "41  2019-11-29 00:00:00  Precios minoristas (IPC nivel general; INDEC)   \n",
       "42  2019-12-30 00:00:00  Precios minoristas (IPC nivel general; INDEC)   \n",
       "43  2020-01-31 00:00:00  Precios minoristas (IPC nivel general; INDEC)   \n",
       "44  2020-02-28 00:00:00  Precios minoristas (IPC nivel general; INDEC)   \n",
       "45  2020-03-31 00:00:00  Precios minoristas (IPC nivel general; INDEC)   \n",
       "46  2020-04-30 00:00:00  Precios minoristas (IPC nivel general; INDEC)   \n",
       "47  2020-05-29 00:00:00  Precios minoristas (IPC nivel general; INDEC)   \n",
       "48  2020-06-30 00:00:00  Precios minoristas (IPC nivel general; INDEC)   \n",
       "49  2020-07-31 00:00:00  Precios minoristas (IPC nivel general; INDEC)   \n",
       "50  2020-08-31 00:00:00  Precios minoristas (IPC nivel general; INDEC)   \n",
       "51  2020-09-30 00:00:00  Precios minoristas (IPC nivel general; INDEC)   \n",
       "52  2020-10-30 00:00:00  Precios minoristas (IPC nivel general; INDEC)   \n",
       "53  2020-11-30 00:00:00  Precios minoristas (IPC nivel general; INDEC)   \n",
       "54  2020-12-30 00:00:00  Precios minoristas (IPC nivel general; INDEC)   \n",
       "55  2021-01-29 00:00:00  Precios minoristas (IPC nivel general; INDEC)   \n",
       "56  2021-02-26 00:00:00  Precios minoristas (IPC nivel general; INDEC)   \n",
       "57  2021-03-31 00:00:00  Precios minoristas (IPC nivel general; INDEC)   \n",
       "58  2021-04-30 00:00:00  Precios minoristas (IPC nivel general; INDEC)   \n",
       "\n",
       "0       Referencia              Período  Promedio  \n",
       "0   var. % mensual  2016-07-01 00:00:00  2.298095  \n",
       "1   var. % mensual  2016-08-01 00:00:00  2.011034  \n",
       "2   var. % mensual  2016-09-01 00:00:00  1.525714  \n",
       "3   var. % mensual  2016-10-01 00:00:00  1.872222  \n",
       "4   var. % mensual  2016-11-01 00:00:00  1.613333  \n",
       "5   var. % mensual  2016-12-01 00:00:00     1.635  \n",
       "6   var. % mensual  2017-01-01 00:00:00  1.750741  \n",
       "7   var. % mensual  2017-02-01 00:00:00  1.724138  \n",
       "8   var. % mensual  2017-03-01 00:00:00  1.769615  \n",
       "9   var. % mensual  2017-04-01 00:00:00   1.91375  \n",
       "10  var. % mensual  2017-05-01 00:00:00  1.602609  \n",
       "11  var. % mensual  2017-06-01 00:00:00      1.48  \n",
       "12  var. % mensual  2017-07-01 00:00:00  1.435714  \n",
       "13  var. % mensual  2017-08-01 00:00:00   1.44561  \n",
       "14  var. % mensual  2017-09-01 00:00:00  1.332143  \n",
       "15  var. % mensual  2017-10-01 00:00:00  1.389565  \n",
       "16  var. % mensual  2017-11-01 00:00:00   1.58617  \n",
       "17  var. % mensual  2017-12-01 00:00:00  2.064792  \n",
       "18  var. % mensual  2018-01-01 00:00:00  1.645556  \n",
       "19  var. % mensual  2018-02-01 00:00:00     2.146  \n",
       "20  var. % mensual  2018-03-01 00:00:00  1.720192  \n",
       "21  var. % mensual  2018-04-01 00:00:00     2.061  \n",
       "22  var. % mensual  2018-05-01 00:00:00  1.705778  \n",
       "23  var. % mensual  2018-06-01 00:00:00  2.462885  \n",
       "24  var. % mensual  2018-07-01 00:00:00  2.633529  \n",
       "25  var. % mensual  2018-08-01 00:00:00  2.382353  \n",
       "26  var. % mensual  2018-09-01 00:00:00     3.992  \n",
       "27  var. % mensual  2018-10-01 00:00:00  4.102955  \n",
       "28  var. % mensual  2018-11-01 00:00:00  3.283654  \n",
       "29  var. % mensual  2018-12-01 00:00:00     2.764  \n",
       "30  var. % mensual  2019-01-01 00:00:00  2.580208  \n",
       "31  var. % mensual  2019-01-01 00:00:00  2.546731  \n",
       "32  var. % mensual  2019-02-01 00:00:00  3.439057  \n",
       "33  var. % mensual  2019-03-01 00:00:00      3.73  \n",
       "34  var. % mensual  2019-04-01 00:00:00   3.98098  \n",
       "35  var. % mensual  2019-05-01 00:00:00  3.086042  \n",
       "36  var. % mensual  2019-06-01 00:00:00  2.602598  \n",
       "37  var. % mensual  2019-07-01 00:00:00  2.372574  \n",
       "38  var. % mensual  2019-08-01 00:00:00  4.429039  \n",
       "39  var. % mensual  2019-09-01 00:00:00  5.746716  \n",
       "40  var. % mensual  2019-10-01 00:00:00  4.401506  \n",
       "41  var. % mensual  2019-11-01 00:00:00  4.107656  \n",
       "42  var. % mensual  2019-12-01 00:00:00  4.202258  \n",
       "43  var. % mensual  2020-01-01 00:00:00  3.460822  \n",
       "44  var. % mensual  2020-02-01 00:00:00  2.468749  \n",
       "45  var. % mensual               mar-20  2.580729  \n",
       "46  var. % mensual  2020-04-30 00:00:00  2.430546  \n",
       "47  var. % mensual               may-20  1.759992  \n",
       "48  var. % mensual               jun-20  1.917893  \n",
       "49  var. % mensual               jul-20  2.368798  \n",
       "50  var. % mensual  2020-08-31 00:00:00  2.786919  \n",
       "51  var. % mensual               sep-20  2.996612  \n",
       "52  var. % mensual               oct-20  3.206148  \n",
       "53  var. % mensual               nov-20  3.652041  \n",
       "54  var. % mensual  2020-12-31 00:00:00  3.852123  \n",
       "55  var. % mensual  2021-01-31 00:00:00  3.803133  \n",
       "56  var. % mensual  2021-02-28 00:00:00  3.530524  \n",
       "57  var. % mensual               mar-21  3.945794  \n",
       "58  var. % mensual               abr-21  3.802645  "
      ],
      "text/html": "<div>\n<style scoped>\n    .dataframe tbody tr th:only-of-type {\n        vertical-align: middle;\n    }\n\n    .dataframe tbody tr th {\n        vertical-align: top;\n    }\n\n    .dataframe thead th {\n        text-align: right;\n    }\n</style>\n<table border=\"1\" class=\"dataframe\">\n  <thead>\n    <tr style=\"text-align: right;\">\n      <th></th>\n      <th>Fecha de pronóstico</th>\n      <th>Variable</th>\n      <th>Referencia</th>\n      <th>Período</th>\n      <th>Promedio</th>\n    </tr>\n  </thead>\n  <tbody>\n    <tr>\n      <th>0</th>\n      <td>2016-06-30 00:00:00</td>\n      <td>Precios minoristas (IPC nivel general; INDEC)</td>\n      <td>var. % mensual</td>\n      <td>2016-07-01 00:00:00</td>\n      <td>2.298095</td>\n    </tr>\n    <tr>\n      <th>1</th>\n      <td>2016-07-29 00:00:00</td>\n      <td>Precios minoristas (IPC nivel general; INDEC)</td>\n      <td>var. % mensual</td>\n      <td>2016-08-01 00:00:00</td>\n      <td>2.011034</td>\n    </tr>\n    <tr>\n      <th>2</th>\n      <td>2016-08-31 00:00:00</td>\n      <td>Precios minoristas (IPC nivel general; INDEC)</td>\n      <td>var. % mensual</td>\n      <td>2016-09-01 00:00:00</td>\n      <td>1.525714</td>\n    </tr>\n    <tr>\n      <th>3</th>\n      <td>2016-09-30 00:00:00</td>\n      <td>Precios minoristas (IPC nivel general; INDEC)</td>\n      <td>var. % mensual</td>\n      <td>2016-10-01 00:00:00</td>\n      <td>1.872222</td>\n    </tr>\n    <tr>\n      <th>4</th>\n      <td>2016-10-31 00:00:00</td>\n      <td>Precios minoristas (IPC nivel general; INDEC)</td>\n      <td>var. % mensual</td>\n      <td>2016-11-01 00:00:00</td>\n      <td>1.613333</td>\n    </tr>\n    <tr>\n      <th>5</th>\n      <td>2016-11-30 00:00:00</td>\n      <td>Precios minoristas (IPC nivel general; INDEC)</td>\n      <td>var. % mensual</td>\n      <td>2016-12-01 00:00:00</td>\n      <td>1.635</td>\n    </tr>\n    <tr>\n      <th>6</th>\n      <td>2016-12-29 00:00:00</td>\n      <td>Precios minoristas (IPC nivel general; INDEC)</td>\n      <td>var. % mensual</td>\n      <td>2017-01-01 00:00:00</td>\n      <td>1.750741</td>\n    </tr>\n    <tr>\n      <th>7</th>\n      <td>2017-01-31 00:00:00</td>\n      <td>Precios minoristas (IPC nivel general; INDEC)</td>\n      <td>var. % mensual</td>\n      <td>2017-02-01 00:00:00</td>\n      <td>1.724138</td>\n    </tr>\n    <tr>\n      <th>8</th>\n      <td>2017-02-24 00:00:00</td>\n      <td>Precios minoristas (IPC nivel general; INDEC)</td>\n      <td>var. % mensual</td>\n      <td>2017-03-01 00:00:00</td>\n      <td>1.769615</td>\n    </tr>\n    <tr>\n      <th>9</th>\n      <td>2017-03-31 00:00:00</td>\n      <td>Precios minoristas (IPC nivel general; INDEC)</td>\n      <td>var. % mensual</td>\n      <td>2017-04-01 00:00:00</td>\n      <td>1.91375</td>\n    </tr>\n    <tr>\n      <th>10</th>\n      <td>2017-04-28 00:00:00</td>\n      <td>Precios minoristas (IPC nivel general; INDEC)</td>\n      <td>var. % mensual</td>\n      <td>2017-05-01 00:00:00</td>\n      <td>1.602609</td>\n    </tr>\n    <tr>\n      <th>11</th>\n      <td>2017-05-31 00:00:00</td>\n      <td>Precios minoristas (IPC nivel general; INDEC)</td>\n      <td>var. % mensual</td>\n      <td>2017-06-01 00:00:00</td>\n      <td>1.48</td>\n    </tr>\n    <tr>\n      <th>12</th>\n      <td>2017-06-30 00:00:00</td>\n      <td>Precios minoristas (IPC nivel general; INDEC)</td>\n      <td>var. % mensual</td>\n      <td>2017-07-01 00:00:00</td>\n      <td>1.435714</td>\n    </tr>\n    <tr>\n      <th>13</th>\n      <td>2017-07-31 00:00:00</td>\n      <td>Precios minoristas (IPC nivel general; INDEC)</td>\n      <td>var. % mensual</td>\n      <td>2017-08-01 00:00:00</td>\n      <td>1.44561</td>\n    </tr>\n    <tr>\n      <th>14</th>\n      <td>2017-08-31 00:00:00</td>\n      <td>Precios minoristas (IPC nivel general; INDEC)</td>\n      <td>var. % mensual</td>\n      <td>2017-09-01 00:00:00</td>\n      <td>1.332143</td>\n    </tr>\n    <tr>\n      <th>15</th>\n      <td>2017-09-29 00:00:00</td>\n      <td>Precios minoristas (IPC nivel general; INDEC)</td>\n      <td>var. % mensual</td>\n      <td>2017-10-01 00:00:00</td>\n      <td>1.389565</td>\n    </tr>\n    <tr>\n      <th>16</th>\n      <td>2017-10-31 00:00:00</td>\n      <td>Precios minoristas (IPC nivel general; INDEC)</td>\n      <td>var. % mensual</td>\n      <td>2017-11-01 00:00:00</td>\n      <td>1.58617</td>\n    </tr>\n    <tr>\n      <th>17</th>\n      <td>2017-11-30 00:00:00</td>\n      <td>Precios minoristas (IPC nivel general; INDEC)</td>\n      <td>var. % mensual</td>\n      <td>2017-12-01 00:00:00</td>\n      <td>2.064792</td>\n    </tr>\n    <tr>\n      <th>18</th>\n      <td>2017-12-28 00:00:00</td>\n      <td>Precios minoristas (IPC nivel general; INDEC)</td>\n      <td>var. % mensual</td>\n      <td>2018-01-01 00:00:00</td>\n      <td>1.645556</td>\n    </tr>\n    <tr>\n      <th>19</th>\n      <td>2018-01-31 00:00:00</td>\n      <td>Precios minoristas (IPC nivel general; INDEC)</td>\n      <td>var. % mensual</td>\n      <td>2018-02-01 00:00:00</td>\n      <td>2.146</td>\n    </tr>\n    <tr>\n      <th>20</th>\n      <td>2018-02-28 00:00:00</td>\n      <td>Precios minoristas (IPC nivel general; INDEC)</td>\n      <td>var. % mensual</td>\n      <td>2018-03-01 00:00:00</td>\n      <td>1.720192</td>\n    </tr>\n    <tr>\n      <th>21</th>\n      <td>2018-03-28 00:00:00</td>\n      <td>Precios minoristas (IPC nivel general; INDEC)</td>\n      <td>var. % mensual</td>\n      <td>2018-04-01 00:00:00</td>\n      <td>2.061</td>\n    </tr>\n    <tr>\n      <th>22</th>\n      <td>2018-04-27 00:00:00</td>\n      <td>Precios minoristas (IPC nivel general; INDEC)</td>\n      <td>var. % mensual</td>\n      <td>2018-05-01 00:00:00</td>\n      <td>1.705778</td>\n    </tr>\n    <tr>\n      <th>23</th>\n      <td>2018-05-31 00:00:00</td>\n      <td>Precios minoristas (IPC nivel general; INDEC)</td>\n      <td>var. % mensual</td>\n      <td>2018-06-01 00:00:00</td>\n      <td>2.462885</td>\n    </tr>\n    <tr>\n      <th>24</th>\n      <td>2018-06-29 00:00:00</td>\n      <td>Precios minoristas (IPC nivel general; INDEC)</td>\n      <td>var. % mensual</td>\n      <td>2018-07-01 00:00:00</td>\n      <td>2.633529</td>\n    </tr>\n    <tr>\n      <th>25</th>\n      <td>2018-07-31 00:00:00</td>\n      <td>Precios minoristas (IPC nivel general; INDEC)</td>\n      <td>var. % mensual</td>\n      <td>2018-08-01 00:00:00</td>\n      <td>2.382353</td>\n    </tr>\n    <tr>\n      <th>26</th>\n      <td>2018-08-31 00:00:00</td>\n      <td>Precios minoristas (IPC nivel general; INDEC)</td>\n      <td>var. % mensual</td>\n      <td>2018-09-01 00:00:00</td>\n      <td>3.992</td>\n    </tr>\n    <tr>\n      <th>27</th>\n      <td>2018-09-28 00:00:00</td>\n      <td>Precios minoristas (IPC nivel general; INDEC)</td>\n      <td>var. % mensual</td>\n      <td>2018-10-01 00:00:00</td>\n      <td>4.102955</td>\n    </tr>\n    <tr>\n      <th>28</th>\n      <td>2018-10-31 00:00:00</td>\n      <td>Precios minoristas (IPC nivel general; INDEC)</td>\n      <td>var. % mensual</td>\n      <td>2018-11-01 00:00:00</td>\n      <td>3.283654</td>\n    </tr>\n    <tr>\n      <th>29</th>\n      <td>2018-11-29 00:00:00</td>\n      <td>Precios minoristas (IPC nivel general; INDEC)</td>\n      <td>var. % mensual</td>\n      <td>2018-12-01 00:00:00</td>\n      <td>2.764</td>\n    </tr>\n    <tr>\n      <th>30</th>\n      <td>2018-12-28 00:00:00</td>\n      <td>Precios minoristas (IPC nivel general; INDEC)</td>\n      <td>var. % mensual</td>\n      <td>2019-01-01 00:00:00</td>\n      <td>2.580208</td>\n    </tr>\n    <tr>\n      <th>31</th>\n      <td>2019-01-31 00:00:00</td>\n      <td>Precios minoristas (IPC nivel general; INDEC)</td>\n      <td>var. % mensual</td>\n      <td>2019-01-01 00:00:00</td>\n      <td>2.546731</td>\n    </tr>\n    <tr>\n      <th>32</th>\n      <td>2019-02-28 00:00:00</td>\n      <td>Precios minoristas (IPC nivel general; INDEC)</td>\n      <td>var. % mensual</td>\n      <td>2019-02-01 00:00:00</td>\n      <td>3.439057</td>\n    </tr>\n    <tr>\n      <th>33</th>\n      <td>2019-03-29 00:00:00</td>\n      <td>Precios minoristas (IPC nivel general; INDEC)</td>\n      <td>var. % mensual</td>\n      <td>2019-03-01 00:00:00</td>\n      <td>3.73</td>\n    </tr>\n    <tr>\n      <th>34</th>\n      <td>2019-04-30 00:00:00</td>\n      <td>Precios minoristas (IPC nivel general; INDEC)</td>\n      <td>var. % mensual</td>\n      <td>2019-04-01 00:00:00</td>\n      <td>3.98098</td>\n    </tr>\n    <tr>\n      <th>35</th>\n      <td>2019-05-31 00:00:00</td>\n      <td>Precios minoristas (IPC nivel general; INDEC)</td>\n      <td>var. % mensual</td>\n      <td>2019-05-01 00:00:00</td>\n      <td>3.086042</td>\n    </tr>\n    <tr>\n      <th>36</th>\n      <td>2019-06-28 00:00:00</td>\n      <td>Precios minoristas (IPC nivel general; INDEC)</td>\n      <td>var. % mensual</td>\n      <td>2019-06-01 00:00:00</td>\n      <td>2.602598</td>\n    </tr>\n    <tr>\n      <th>37</th>\n      <td>2019-07-31 00:00:00</td>\n      <td>Precios minoristas (IPC nivel general; INDEC)</td>\n      <td>var. % mensual</td>\n      <td>2019-07-01 00:00:00</td>\n      <td>2.372574</td>\n    </tr>\n    <tr>\n      <th>38</th>\n      <td>2019-08-30 00:00:00</td>\n      <td>Precios minoristas (IPC nivel general; INDEC)</td>\n      <td>var. % mensual</td>\n      <td>2019-08-01 00:00:00</td>\n      <td>4.429039</td>\n    </tr>\n    <tr>\n      <th>39</th>\n      <td>2019-09-30 00:00:00</td>\n      <td>Precios minoristas (IPC nivel general; INDEC)</td>\n      <td>var. % mensual</td>\n      <td>2019-09-01 00:00:00</td>\n      <td>5.746716</td>\n    </tr>\n    <tr>\n      <th>40</th>\n      <td>2019-10-31 00:00:00</td>\n      <td>Precios minoristas (IPC nivel general; INDEC)</td>\n      <td>var. % mensual</td>\n      <td>2019-10-01 00:00:00</td>\n      <td>4.401506</td>\n    </tr>\n    <tr>\n      <th>41</th>\n      <td>2019-11-29 00:00:00</td>\n      <td>Precios minoristas (IPC nivel general; INDEC)</td>\n      <td>var. % mensual</td>\n      <td>2019-11-01 00:00:00</td>\n      <td>4.107656</td>\n    </tr>\n    <tr>\n      <th>42</th>\n      <td>2019-12-30 00:00:00</td>\n      <td>Precios minoristas (IPC nivel general; INDEC)</td>\n      <td>var. % mensual</td>\n      <td>2019-12-01 00:00:00</td>\n      <td>4.202258</td>\n    </tr>\n    <tr>\n      <th>43</th>\n      <td>2020-01-31 00:00:00</td>\n      <td>Precios minoristas (IPC nivel general; INDEC)</td>\n      <td>var. % mensual</td>\n      <td>2020-01-01 00:00:00</td>\n      <td>3.460822</td>\n    </tr>\n    <tr>\n      <th>44</th>\n      <td>2020-02-28 00:00:00</td>\n      <td>Precios minoristas (IPC nivel general; INDEC)</td>\n      <td>var. % mensual</td>\n      <td>2020-02-01 00:00:00</td>\n      <td>2.468749</td>\n    </tr>\n    <tr>\n      <th>45</th>\n      <td>2020-03-31 00:00:00</td>\n      <td>Precios minoristas (IPC nivel general; INDEC)</td>\n      <td>var. % mensual</td>\n      <td>mar-20</td>\n      <td>2.580729</td>\n    </tr>\n    <tr>\n      <th>46</th>\n      <td>2020-04-30 00:00:00</td>\n      <td>Precios minoristas (IPC nivel general; INDEC)</td>\n      <td>var. % mensual</td>\n      <td>2020-04-30 00:00:00</td>\n      <td>2.430546</td>\n    </tr>\n    <tr>\n      <th>47</th>\n      <td>2020-05-29 00:00:00</td>\n      <td>Precios minoristas (IPC nivel general; INDEC)</td>\n      <td>var. % mensual</td>\n      <td>may-20</td>\n      <td>1.759992</td>\n    </tr>\n    <tr>\n      <th>48</th>\n      <td>2020-06-30 00:00:00</td>\n      <td>Precios minoristas (IPC nivel general; INDEC)</td>\n      <td>var. % mensual</td>\n      <td>jun-20</td>\n      <td>1.917893</td>\n    </tr>\n    <tr>\n      <th>49</th>\n      <td>2020-07-31 00:00:00</td>\n      <td>Precios minoristas (IPC nivel general; INDEC)</td>\n      <td>var. % mensual</td>\n      <td>jul-20</td>\n      <td>2.368798</td>\n    </tr>\n    <tr>\n      <th>50</th>\n      <td>2020-08-31 00:00:00</td>\n      <td>Precios minoristas (IPC nivel general; INDEC)</td>\n      <td>var. % mensual</td>\n      <td>2020-08-31 00:00:00</td>\n      <td>2.786919</td>\n    </tr>\n    <tr>\n      <th>51</th>\n      <td>2020-09-30 00:00:00</td>\n      <td>Precios minoristas (IPC nivel general; INDEC)</td>\n      <td>var. % mensual</td>\n      <td>sep-20</td>\n      <td>2.996612</td>\n    </tr>\n    <tr>\n      <th>52</th>\n      <td>2020-10-30 00:00:00</td>\n      <td>Precios minoristas (IPC nivel general; INDEC)</td>\n      <td>var. % mensual</td>\n      <td>oct-20</td>\n      <td>3.206148</td>\n    </tr>\n    <tr>\n      <th>53</th>\n      <td>2020-11-30 00:00:00</td>\n      <td>Precios minoristas (IPC nivel general; INDEC)</td>\n      <td>var. % mensual</td>\n      <td>nov-20</td>\n      <td>3.652041</td>\n    </tr>\n    <tr>\n      <th>54</th>\n      <td>2020-12-30 00:00:00</td>\n      <td>Precios minoristas (IPC nivel general; INDEC)</td>\n      <td>var. % mensual</td>\n      <td>2020-12-31 00:00:00</td>\n      <td>3.852123</td>\n    </tr>\n    <tr>\n      <th>55</th>\n      <td>2021-01-29 00:00:00</td>\n      <td>Precios minoristas (IPC nivel general; INDEC)</td>\n      <td>var. % mensual</td>\n      <td>2021-01-31 00:00:00</td>\n      <td>3.803133</td>\n    </tr>\n    <tr>\n      <th>56</th>\n      <td>2021-02-26 00:00:00</td>\n      <td>Precios minoristas (IPC nivel general; INDEC)</td>\n      <td>var. % mensual</td>\n      <td>2021-02-28 00:00:00</td>\n      <td>3.530524</td>\n    </tr>\n    <tr>\n      <th>57</th>\n      <td>2021-03-31 00:00:00</td>\n      <td>Precios minoristas (IPC nivel general; INDEC)</td>\n      <td>var. % mensual</td>\n      <td>mar-21</td>\n      <td>3.945794</td>\n    </tr>\n    <tr>\n      <th>58</th>\n      <td>2021-04-30 00:00:00</td>\n      <td>Precios minoristas (IPC nivel general; INDEC)</td>\n      <td>var. % mensual</td>\n      <td>abr-21</td>\n      <td>3.802645</td>\n    </tr>\n  </tbody>\n</table>\n</div>"
     },
     "metadata": {},
     "execution_count": 5
    }
   ],
   "source": [
    "# Dropping rows that make predictions on following months\n",
    "\n",
    "def keep_first_date(df, date_col):\n",
    "    '''This function keeps the first date for each month\n",
    "       and removes the rest'''\n",
    "    # List that will contain all the dates\n",
    "    date_list = []\n",
    "    n_rows = df.shape[0]\n",
    "    \n",
    "    # List that will contatin the index of the rows to drop\n",
    "    rows_to_drop = []\n",
    "    \n",
    "    # Looping over the rows\n",
    "    for i in range(n_rows):\n",
    "        \n",
    "        if df.loc[i, date_col] not in date_list:\n",
    "            date_list.append(df.loc[i, date_col])\n",
    "            \n",
    "        elif df.loc[i, date_col] in date_list:   \n",
    "            rows_to_drop.append(i)\n",
    "            \n",
    "    # Using rows_to_drop to remove the undesired rows    \n",
    "    new_df = df.drop(index=rows_to_drop).reset_index(drop=True)\n",
    "    return new_df\n",
    "\n",
    "rem_nuevo = keep_first_date(rem_nuevo, 'Fecha de pronóstico')\n",
    "rem_nuevo"
   ]
  },
  {
   "cell_type": "code",
   "execution_count": 6,
   "id": "31fe1191",
   "metadata": {
    "tags": []
   },
   "outputs": [
    {
     "output_type": "execute_result",
     "data": {
      "text/plain": [
       "0   Fecha de pronóstico  Promedio\n",
       "0   2016-06-30 00:00:00  2.298095\n",
       "1   2016-07-29 00:00:00  2.011034\n",
       "2   2016-08-31 00:00:00  1.525714\n",
       "3   2016-09-30 00:00:00  1.872222\n",
       "4   2016-10-31 00:00:00  1.613333\n",
       "5   2016-11-30 00:00:00     1.635\n",
       "6   2016-12-29 00:00:00  1.750741\n",
       "7   2017-01-31 00:00:00  1.724138\n",
       "8   2017-02-24 00:00:00  1.769615\n",
       "9   2017-03-31 00:00:00   1.91375\n",
       "10  2017-04-28 00:00:00  1.602609\n",
       "11  2017-05-31 00:00:00      1.48\n",
       "12  2017-06-30 00:00:00  1.435714\n",
       "13  2017-07-31 00:00:00   1.44561\n",
       "14  2017-08-31 00:00:00  1.332143\n",
       "15  2017-09-29 00:00:00  1.389565\n",
       "16  2017-10-31 00:00:00   1.58617\n",
       "17  2017-11-30 00:00:00  2.064792\n",
       "18  2017-12-28 00:00:00  1.645556\n",
       "19  2018-01-31 00:00:00     2.146\n",
       "20  2018-02-28 00:00:00  1.720192\n",
       "21  2018-03-28 00:00:00     2.061\n",
       "22  2018-04-27 00:00:00  1.705778\n",
       "23  2018-05-31 00:00:00  2.462885\n",
       "24  2018-06-29 00:00:00  2.633529\n",
       "25  2018-07-31 00:00:00  2.382353\n",
       "26  2018-08-31 00:00:00     3.992\n",
       "27  2018-09-28 00:00:00  4.102955\n",
       "28  2018-10-31 00:00:00  3.283654\n",
       "29  2018-11-29 00:00:00     2.764\n",
       "30  2018-12-28 00:00:00  2.580208\n",
       "31  2019-01-31 00:00:00  2.546731\n",
       "32  2019-02-28 00:00:00  3.439057\n",
       "33  2019-03-29 00:00:00      3.73\n",
       "34  2019-04-30 00:00:00   3.98098\n",
       "35  2019-05-31 00:00:00  3.086042\n",
       "36  2019-06-28 00:00:00  2.602598\n",
       "37  2019-07-31 00:00:00  2.372574\n",
       "38  2019-08-30 00:00:00  4.429039\n",
       "39  2019-09-30 00:00:00  5.746716\n",
       "40  2019-10-31 00:00:00  4.401506\n",
       "41  2019-11-29 00:00:00  4.107656\n",
       "42  2019-12-30 00:00:00  4.202258\n",
       "43  2020-01-31 00:00:00  3.460822\n",
       "44  2020-02-28 00:00:00  2.468749\n",
       "45  2020-03-31 00:00:00  2.580729\n",
       "46  2020-04-30 00:00:00  2.430546\n",
       "47  2020-05-29 00:00:00  1.759992\n",
       "48  2020-06-30 00:00:00  1.917893\n",
       "49  2020-07-31 00:00:00  2.368798\n",
       "50  2020-08-31 00:00:00  2.786919\n",
       "51  2020-09-30 00:00:00  2.996612\n",
       "52  2020-10-30 00:00:00  3.206148\n",
       "53  2020-11-30 00:00:00  3.652041\n",
       "54  2020-12-30 00:00:00  3.852123\n",
       "55  2021-01-29 00:00:00  3.803133\n",
       "56  2021-02-26 00:00:00  3.530524\n",
       "57  2021-03-31 00:00:00  3.945794\n",
       "58  2021-04-30 00:00:00  3.802645"
      ],
      "text/html": "<div>\n<style scoped>\n    .dataframe tbody tr th:only-of-type {\n        vertical-align: middle;\n    }\n\n    .dataframe tbody tr th {\n        vertical-align: top;\n    }\n\n    .dataframe thead th {\n        text-align: right;\n    }\n</style>\n<table border=\"1\" class=\"dataframe\">\n  <thead>\n    <tr style=\"text-align: right;\">\n      <th></th>\n      <th>Fecha de pronóstico</th>\n      <th>Promedio</th>\n    </tr>\n  </thead>\n  <tbody>\n    <tr>\n      <th>0</th>\n      <td>2016-06-30 00:00:00</td>\n      <td>2.298095</td>\n    </tr>\n    <tr>\n      <th>1</th>\n      <td>2016-07-29 00:00:00</td>\n      <td>2.011034</td>\n    </tr>\n    <tr>\n      <th>2</th>\n      <td>2016-08-31 00:00:00</td>\n      <td>1.525714</td>\n    </tr>\n    <tr>\n      <th>3</th>\n      <td>2016-09-30 00:00:00</td>\n      <td>1.872222</td>\n    </tr>\n    <tr>\n      <th>4</th>\n      <td>2016-10-31 00:00:00</td>\n      <td>1.613333</td>\n    </tr>\n    <tr>\n      <th>5</th>\n      <td>2016-11-30 00:00:00</td>\n      <td>1.635</td>\n    </tr>\n    <tr>\n      <th>6</th>\n      <td>2016-12-29 00:00:00</td>\n      <td>1.750741</td>\n    </tr>\n    <tr>\n      <th>7</th>\n      <td>2017-01-31 00:00:00</td>\n      <td>1.724138</td>\n    </tr>\n    <tr>\n      <th>8</th>\n      <td>2017-02-24 00:00:00</td>\n      <td>1.769615</td>\n    </tr>\n    <tr>\n      <th>9</th>\n      <td>2017-03-31 00:00:00</td>\n      <td>1.91375</td>\n    </tr>\n    <tr>\n      <th>10</th>\n      <td>2017-04-28 00:00:00</td>\n      <td>1.602609</td>\n    </tr>\n    <tr>\n      <th>11</th>\n      <td>2017-05-31 00:00:00</td>\n      <td>1.48</td>\n    </tr>\n    <tr>\n      <th>12</th>\n      <td>2017-06-30 00:00:00</td>\n      <td>1.435714</td>\n    </tr>\n    <tr>\n      <th>13</th>\n      <td>2017-07-31 00:00:00</td>\n      <td>1.44561</td>\n    </tr>\n    <tr>\n      <th>14</th>\n      <td>2017-08-31 00:00:00</td>\n      <td>1.332143</td>\n    </tr>\n    <tr>\n      <th>15</th>\n      <td>2017-09-29 00:00:00</td>\n      <td>1.389565</td>\n    </tr>\n    <tr>\n      <th>16</th>\n      <td>2017-10-31 00:00:00</td>\n      <td>1.58617</td>\n    </tr>\n    <tr>\n      <th>17</th>\n      <td>2017-11-30 00:00:00</td>\n      <td>2.064792</td>\n    </tr>\n    <tr>\n      <th>18</th>\n      <td>2017-12-28 00:00:00</td>\n      <td>1.645556</td>\n    </tr>\n    <tr>\n      <th>19</th>\n      <td>2018-01-31 00:00:00</td>\n      <td>2.146</td>\n    </tr>\n    <tr>\n      <th>20</th>\n      <td>2018-02-28 00:00:00</td>\n      <td>1.720192</td>\n    </tr>\n    <tr>\n      <th>21</th>\n      <td>2018-03-28 00:00:00</td>\n      <td>2.061</td>\n    </tr>\n    <tr>\n      <th>22</th>\n      <td>2018-04-27 00:00:00</td>\n      <td>1.705778</td>\n    </tr>\n    <tr>\n      <th>23</th>\n      <td>2018-05-31 00:00:00</td>\n      <td>2.462885</td>\n    </tr>\n    <tr>\n      <th>24</th>\n      <td>2018-06-29 00:00:00</td>\n      <td>2.633529</td>\n    </tr>\n    <tr>\n      <th>25</th>\n      <td>2018-07-31 00:00:00</td>\n      <td>2.382353</td>\n    </tr>\n    <tr>\n      <th>26</th>\n      <td>2018-08-31 00:00:00</td>\n      <td>3.992</td>\n    </tr>\n    <tr>\n      <th>27</th>\n      <td>2018-09-28 00:00:00</td>\n      <td>4.102955</td>\n    </tr>\n    <tr>\n      <th>28</th>\n      <td>2018-10-31 00:00:00</td>\n      <td>3.283654</td>\n    </tr>\n    <tr>\n      <th>29</th>\n      <td>2018-11-29 00:00:00</td>\n      <td>2.764</td>\n    </tr>\n    <tr>\n      <th>30</th>\n      <td>2018-12-28 00:00:00</td>\n      <td>2.580208</td>\n    </tr>\n    <tr>\n      <th>31</th>\n      <td>2019-01-31 00:00:00</td>\n      <td>2.546731</td>\n    </tr>\n    <tr>\n      <th>32</th>\n      <td>2019-02-28 00:00:00</td>\n      <td>3.439057</td>\n    </tr>\n    <tr>\n      <th>33</th>\n      <td>2019-03-29 00:00:00</td>\n      <td>3.73</td>\n    </tr>\n    <tr>\n      <th>34</th>\n      <td>2019-04-30 00:00:00</td>\n      <td>3.98098</td>\n    </tr>\n    <tr>\n      <th>35</th>\n      <td>2019-05-31 00:00:00</td>\n      <td>3.086042</td>\n    </tr>\n    <tr>\n      <th>36</th>\n      <td>2019-06-28 00:00:00</td>\n      <td>2.602598</td>\n    </tr>\n    <tr>\n      <th>37</th>\n      <td>2019-07-31 00:00:00</td>\n      <td>2.372574</td>\n    </tr>\n    <tr>\n      <th>38</th>\n      <td>2019-08-30 00:00:00</td>\n      <td>4.429039</td>\n    </tr>\n    <tr>\n      <th>39</th>\n      <td>2019-09-30 00:00:00</td>\n      <td>5.746716</td>\n    </tr>\n    <tr>\n      <th>40</th>\n      <td>2019-10-31 00:00:00</td>\n      <td>4.401506</td>\n    </tr>\n    <tr>\n      <th>41</th>\n      <td>2019-11-29 00:00:00</td>\n      <td>4.107656</td>\n    </tr>\n    <tr>\n      <th>42</th>\n      <td>2019-12-30 00:00:00</td>\n      <td>4.202258</td>\n    </tr>\n    <tr>\n      <th>43</th>\n      <td>2020-01-31 00:00:00</td>\n      <td>3.460822</td>\n    </tr>\n    <tr>\n      <th>44</th>\n      <td>2020-02-28 00:00:00</td>\n      <td>2.468749</td>\n    </tr>\n    <tr>\n      <th>45</th>\n      <td>2020-03-31 00:00:00</td>\n      <td>2.580729</td>\n    </tr>\n    <tr>\n      <th>46</th>\n      <td>2020-04-30 00:00:00</td>\n      <td>2.430546</td>\n    </tr>\n    <tr>\n      <th>47</th>\n      <td>2020-05-29 00:00:00</td>\n      <td>1.759992</td>\n    </tr>\n    <tr>\n      <th>48</th>\n      <td>2020-06-30 00:00:00</td>\n      <td>1.917893</td>\n    </tr>\n    <tr>\n      <th>49</th>\n      <td>2020-07-31 00:00:00</td>\n      <td>2.368798</td>\n    </tr>\n    <tr>\n      <th>50</th>\n      <td>2020-08-31 00:00:00</td>\n      <td>2.786919</td>\n    </tr>\n    <tr>\n      <th>51</th>\n      <td>2020-09-30 00:00:00</td>\n      <td>2.996612</td>\n    </tr>\n    <tr>\n      <th>52</th>\n      <td>2020-10-30 00:00:00</td>\n      <td>3.206148</td>\n    </tr>\n    <tr>\n      <th>53</th>\n      <td>2020-11-30 00:00:00</td>\n      <td>3.652041</td>\n    </tr>\n    <tr>\n      <th>54</th>\n      <td>2020-12-30 00:00:00</td>\n      <td>3.852123</td>\n    </tr>\n    <tr>\n      <th>55</th>\n      <td>2021-01-29 00:00:00</td>\n      <td>3.803133</td>\n    </tr>\n    <tr>\n      <th>56</th>\n      <td>2021-02-26 00:00:00</td>\n      <td>3.530524</td>\n    </tr>\n    <tr>\n      <th>57</th>\n      <td>2021-03-31 00:00:00</td>\n      <td>3.945794</td>\n    </tr>\n    <tr>\n      <th>58</th>\n      <td>2021-04-30 00:00:00</td>\n      <td>3.802645</td>\n    </tr>\n  </tbody>\n</table>\n</div>"
     },
     "metadata": {},
     "execution_count": 6
    }
   ],
   "source": [
    "# Dropping more unnecessary columns\n",
    "rem_nuevo = rem_nuevo.drop(columns=['Variable', 'Referencia', 'Período'])\n",
    "rem_nuevo"
   ]
  },
  {
   "cell_type": "code",
   "execution_count": 7,
   "id": "d08be394",
   "metadata": {
    "tags": []
   },
   "outputs": [
    {
     "output_type": "execute_result",
     "data": {
      "text/plain": [
       "0   Promedio      fecha\n",
       "0   2.298095 2016-07-01\n",
       "1   2.011034 2016-08-01\n",
       "2   1.525714 2016-09-01\n",
       "3   1.872222 2016-10-01\n",
       "4   1.613333 2016-11-01\n",
       "5      1.635 2016-12-01\n",
       "6   1.750741 2017-01-01\n",
       "7   1.724138 2017-02-01\n",
       "8   1.769615 2017-03-01\n",
       "9    1.91375 2017-04-01\n",
       "10  1.602609 2017-05-01\n",
       "11      1.48 2017-06-01\n",
       "12  1.435714 2017-07-01\n",
       "13   1.44561 2017-08-01\n",
       "14  1.332143 2017-09-01\n",
       "15  1.389565 2017-10-01\n",
       "16   1.58617 2017-11-01\n",
       "17  2.064792 2017-12-01\n",
       "18  1.645556 2018-01-01\n",
       "19     2.146 2018-02-01\n",
       "20  1.720192 2018-03-01\n",
       "21     2.061 2018-04-01\n",
       "22  1.705778 2018-05-01\n",
       "23  2.462885 2018-06-01\n",
       "24  2.633529 2018-07-01\n",
       "25  2.382353 2018-08-01\n",
       "26     3.992 2018-09-01\n",
       "27  4.102955 2018-10-01\n",
       "28  3.283654 2018-11-01\n",
       "29     2.764 2018-12-01\n",
       "30  2.580208 2019-01-01\n",
       "31  2.546731 2019-02-01\n",
       "32  3.439057 2019-03-01\n",
       "33      3.73 2019-04-01\n",
       "34   3.98098 2019-05-01\n",
       "35  3.086042 2019-06-01\n",
       "36  2.602598 2019-07-01\n",
       "37  2.372574 2019-08-01\n",
       "38  4.429039 2019-09-01\n",
       "39  5.746716 2019-10-01\n",
       "40  4.401506 2019-11-01\n",
       "41  4.107656 2019-12-01\n",
       "42  4.202258 2020-01-01\n",
       "43  3.460822 2020-02-01\n",
       "44  2.468749 2020-03-01\n",
       "45  2.580729 2020-04-01\n",
       "46  2.430546 2020-05-01\n",
       "47  1.759992 2020-06-01\n",
       "48  1.917893 2020-07-01\n",
       "49  2.368798 2020-08-01\n",
       "50  2.786919 2020-09-01\n",
       "51  2.996612 2020-10-01\n",
       "52  3.206148 2020-11-01\n",
       "53  3.652041 2020-12-01\n",
       "54  3.852123 2021-01-01\n",
       "55  3.803133 2021-02-01\n",
       "56  3.530524 2021-03-01\n",
       "57  3.945794 2021-04-01\n",
       "58  3.802645 2021-05-01"
      ],
      "text/html": "<div>\n<style scoped>\n    .dataframe tbody tr th:only-of-type {\n        vertical-align: middle;\n    }\n\n    .dataframe tbody tr th {\n        vertical-align: top;\n    }\n\n    .dataframe thead th {\n        text-align: right;\n    }\n</style>\n<table border=\"1\" class=\"dataframe\">\n  <thead>\n    <tr style=\"text-align: right;\">\n      <th></th>\n      <th>Promedio</th>\n      <th>fecha</th>\n    </tr>\n  </thead>\n  <tbody>\n    <tr>\n      <th>0</th>\n      <td>2.298095</td>\n      <td>2016-07-01</td>\n    </tr>\n    <tr>\n      <th>1</th>\n      <td>2.011034</td>\n      <td>2016-08-01</td>\n    </tr>\n    <tr>\n      <th>2</th>\n      <td>1.525714</td>\n      <td>2016-09-01</td>\n    </tr>\n    <tr>\n      <th>3</th>\n      <td>1.872222</td>\n      <td>2016-10-01</td>\n    </tr>\n    <tr>\n      <th>4</th>\n      <td>1.613333</td>\n      <td>2016-11-01</td>\n    </tr>\n    <tr>\n      <th>5</th>\n      <td>1.635</td>\n      <td>2016-12-01</td>\n    </tr>\n    <tr>\n      <th>6</th>\n      <td>1.750741</td>\n      <td>2017-01-01</td>\n    </tr>\n    <tr>\n      <th>7</th>\n      <td>1.724138</td>\n      <td>2017-02-01</td>\n    </tr>\n    <tr>\n      <th>8</th>\n      <td>1.769615</td>\n      <td>2017-03-01</td>\n    </tr>\n    <tr>\n      <th>9</th>\n      <td>1.91375</td>\n      <td>2017-04-01</td>\n    </tr>\n    <tr>\n      <th>10</th>\n      <td>1.602609</td>\n      <td>2017-05-01</td>\n    </tr>\n    <tr>\n      <th>11</th>\n      <td>1.48</td>\n      <td>2017-06-01</td>\n    </tr>\n    <tr>\n      <th>12</th>\n      <td>1.435714</td>\n      <td>2017-07-01</td>\n    </tr>\n    <tr>\n      <th>13</th>\n      <td>1.44561</td>\n      <td>2017-08-01</td>\n    </tr>\n    <tr>\n      <th>14</th>\n      <td>1.332143</td>\n      <td>2017-09-01</td>\n    </tr>\n    <tr>\n      <th>15</th>\n      <td>1.389565</td>\n      <td>2017-10-01</td>\n    </tr>\n    <tr>\n      <th>16</th>\n      <td>1.58617</td>\n      <td>2017-11-01</td>\n    </tr>\n    <tr>\n      <th>17</th>\n      <td>2.064792</td>\n      <td>2017-12-01</td>\n    </tr>\n    <tr>\n      <th>18</th>\n      <td>1.645556</td>\n      <td>2018-01-01</td>\n    </tr>\n    <tr>\n      <th>19</th>\n      <td>2.146</td>\n      <td>2018-02-01</td>\n    </tr>\n    <tr>\n      <th>20</th>\n      <td>1.720192</td>\n      <td>2018-03-01</td>\n    </tr>\n    <tr>\n      <th>21</th>\n      <td>2.061</td>\n      <td>2018-04-01</td>\n    </tr>\n    <tr>\n      <th>22</th>\n      <td>1.705778</td>\n      <td>2018-05-01</td>\n    </tr>\n    <tr>\n      <th>23</th>\n      <td>2.462885</td>\n      <td>2018-06-01</td>\n    </tr>\n    <tr>\n      <th>24</th>\n      <td>2.633529</td>\n      <td>2018-07-01</td>\n    </tr>\n    <tr>\n      <th>25</th>\n      <td>2.382353</td>\n      <td>2018-08-01</td>\n    </tr>\n    <tr>\n      <th>26</th>\n      <td>3.992</td>\n      <td>2018-09-01</td>\n    </tr>\n    <tr>\n      <th>27</th>\n      <td>4.102955</td>\n      <td>2018-10-01</td>\n    </tr>\n    <tr>\n      <th>28</th>\n      <td>3.283654</td>\n      <td>2018-11-01</td>\n    </tr>\n    <tr>\n      <th>29</th>\n      <td>2.764</td>\n      <td>2018-12-01</td>\n    </tr>\n    <tr>\n      <th>30</th>\n      <td>2.580208</td>\n      <td>2019-01-01</td>\n    </tr>\n    <tr>\n      <th>31</th>\n      <td>2.546731</td>\n      <td>2019-02-01</td>\n    </tr>\n    <tr>\n      <th>32</th>\n      <td>3.439057</td>\n      <td>2019-03-01</td>\n    </tr>\n    <tr>\n      <th>33</th>\n      <td>3.73</td>\n      <td>2019-04-01</td>\n    </tr>\n    <tr>\n      <th>34</th>\n      <td>3.98098</td>\n      <td>2019-05-01</td>\n    </tr>\n    <tr>\n      <th>35</th>\n      <td>3.086042</td>\n      <td>2019-06-01</td>\n    </tr>\n    <tr>\n      <th>36</th>\n      <td>2.602598</td>\n      <td>2019-07-01</td>\n    </tr>\n    <tr>\n      <th>37</th>\n      <td>2.372574</td>\n      <td>2019-08-01</td>\n    </tr>\n    <tr>\n      <th>38</th>\n      <td>4.429039</td>\n      <td>2019-09-01</td>\n    </tr>\n    <tr>\n      <th>39</th>\n      <td>5.746716</td>\n      <td>2019-10-01</td>\n    </tr>\n    <tr>\n      <th>40</th>\n      <td>4.401506</td>\n      <td>2019-11-01</td>\n    </tr>\n    <tr>\n      <th>41</th>\n      <td>4.107656</td>\n      <td>2019-12-01</td>\n    </tr>\n    <tr>\n      <th>42</th>\n      <td>4.202258</td>\n      <td>2020-01-01</td>\n    </tr>\n    <tr>\n      <th>43</th>\n      <td>3.460822</td>\n      <td>2020-02-01</td>\n    </tr>\n    <tr>\n      <th>44</th>\n      <td>2.468749</td>\n      <td>2020-03-01</td>\n    </tr>\n    <tr>\n      <th>45</th>\n      <td>2.580729</td>\n      <td>2020-04-01</td>\n    </tr>\n    <tr>\n      <th>46</th>\n      <td>2.430546</td>\n      <td>2020-05-01</td>\n    </tr>\n    <tr>\n      <th>47</th>\n      <td>1.759992</td>\n      <td>2020-06-01</td>\n    </tr>\n    <tr>\n      <th>48</th>\n      <td>1.917893</td>\n      <td>2020-07-01</td>\n    </tr>\n    <tr>\n      <th>49</th>\n      <td>2.368798</td>\n      <td>2020-08-01</td>\n    </tr>\n    <tr>\n      <th>50</th>\n      <td>2.786919</td>\n      <td>2020-09-01</td>\n    </tr>\n    <tr>\n      <th>51</th>\n      <td>2.996612</td>\n      <td>2020-10-01</td>\n    </tr>\n    <tr>\n      <th>52</th>\n      <td>3.206148</td>\n      <td>2020-11-01</td>\n    </tr>\n    <tr>\n      <th>53</th>\n      <td>3.652041</td>\n      <td>2020-12-01</td>\n    </tr>\n    <tr>\n      <th>54</th>\n      <td>3.852123</td>\n      <td>2021-01-01</td>\n    </tr>\n    <tr>\n      <th>55</th>\n      <td>3.803133</td>\n      <td>2021-02-01</td>\n    </tr>\n    <tr>\n      <th>56</th>\n      <td>3.530524</td>\n      <td>2021-03-01</td>\n    </tr>\n    <tr>\n      <th>57</th>\n      <td>3.945794</td>\n      <td>2021-04-01</td>\n    </tr>\n    <tr>\n      <th>58</th>\n      <td>3.802645</td>\n      <td>2021-05-01</td>\n    </tr>\n  </tbody>\n</table>\n</div>"
     },
     "metadata": {},
     "execution_count": 7
    }
   ],
   "source": [
    "# Transforming the Fecha de pronóstico column to the fecha column\n",
    "\n",
    "def transform_date(date):\n",
    "    '''This function adds one month to a date'''\n",
    "    year = date.year\n",
    "    month = date.month\n",
    "    if date.month == 12:\n",
    "        new_date = dt.datetime(year=year+1, month=1, day=1)\n",
    "    else:\n",
    "        new_date = dt.datetime(year=year, month=month+1, day=1)\n",
    "    return new_date\n",
    "\n",
    "rem_nuevo['fecha'] = rem_nuevo['Fecha de pronóstico'].apply(transform_date)\n",
    "rem_nuevo['fecha'] = pd.to_datetime(rem_nuevo['fecha'])\n",
    "rem_nuevo = rem_nuevo.drop(columns='Fecha de pronóstico')\n",
    "rem_nuevo"
   ]
  },
  {
   "cell_type": "code",
   "execution_count": 8,
   "id": "8b8b0ab5",
   "metadata": {
    "tags": []
   },
   "outputs": [
    {
     "output_type": "stream",
     "name": "stdout",
     "text": [
      "(59, 2)\n"
     ]
    },
    {
     "output_type": "execute_result",
     "data": {
      "text/plain": [
       "         rem      fecha\n",
       "0   2.298095 2016-07-01\n",
       "1   2.011034 2016-08-01\n",
       "2   1.525714 2016-09-01\n",
       "3   1.872222 2016-10-01\n",
       "4   1.613333 2016-11-01\n",
       "5      1.635 2016-12-01\n",
       "6   1.750741 2017-01-01\n",
       "7   1.724138 2017-02-01\n",
       "8   1.769615 2017-03-01\n",
       "9    1.91375 2017-04-01\n",
       "10  1.602609 2017-05-01\n",
       "11      1.48 2017-06-01\n",
       "12  1.435714 2017-07-01\n",
       "13   1.44561 2017-08-01\n",
       "14  1.332143 2017-09-01\n",
       "15  1.389565 2017-10-01\n",
       "16   1.58617 2017-11-01\n",
       "17  2.064792 2017-12-01\n",
       "18  1.645556 2018-01-01\n",
       "19     2.146 2018-02-01\n",
       "20  1.720192 2018-03-01\n",
       "21     2.061 2018-04-01\n",
       "22  1.705778 2018-05-01\n",
       "23  2.462885 2018-06-01\n",
       "24  2.633529 2018-07-01\n",
       "25  2.382353 2018-08-01\n",
       "26     3.992 2018-09-01\n",
       "27  4.102955 2018-10-01\n",
       "28  3.283654 2018-11-01\n",
       "29     2.764 2018-12-01\n",
       "30  2.580208 2019-01-01\n",
       "31  2.546731 2019-02-01\n",
       "32  3.439057 2019-03-01\n",
       "33      3.73 2019-04-01\n",
       "34   3.98098 2019-05-01\n",
       "35  3.086042 2019-06-01\n",
       "36  2.602598 2019-07-01\n",
       "37  2.372574 2019-08-01\n",
       "38  4.429039 2019-09-01\n",
       "39  5.746716 2019-10-01\n",
       "40  4.401506 2019-11-01\n",
       "41  4.107656 2019-12-01\n",
       "42  4.202258 2020-01-01\n",
       "43  3.460822 2020-02-01\n",
       "44  2.468749 2020-03-01\n",
       "45  2.580729 2020-04-01\n",
       "46  2.430546 2020-05-01\n",
       "47  1.759992 2020-06-01\n",
       "48  1.917893 2020-07-01\n",
       "49  2.368798 2020-08-01\n",
       "50  2.786919 2020-09-01\n",
       "51  2.996612 2020-10-01\n",
       "52  3.206148 2020-11-01\n",
       "53  3.652041 2020-12-01\n",
       "54  3.852123 2021-01-01\n",
       "55  3.803133 2021-02-01\n",
       "56  3.530524 2021-03-01\n",
       "57  3.945794 2021-04-01\n",
       "58  3.802645 2021-05-01"
      ],
      "text/html": "<div>\n<style scoped>\n    .dataframe tbody tr th:only-of-type {\n        vertical-align: middle;\n    }\n\n    .dataframe tbody tr th {\n        vertical-align: top;\n    }\n\n    .dataframe thead th {\n        text-align: right;\n    }\n</style>\n<table border=\"1\" class=\"dataframe\">\n  <thead>\n    <tr style=\"text-align: right;\">\n      <th></th>\n      <th>rem</th>\n      <th>fecha</th>\n    </tr>\n  </thead>\n  <tbody>\n    <tr>\n      <th>0</th>\n      <td>2.298095</td>\n      <td>2016-07-01</td>\n    </tr>\n    <tr>\n      <th>1</th>\n      <td>2.011034</td>\n      <td>2016-08-01</td>\n    </tr>\n    <tr>\n      <th>2</th>\n      <td>1.525714</td>\n      <td>2016-09-01</td>\n    </tr>\n    <tr>\n      <th>3</th>\n      <td>1.872222</td>\n      <td>2016-10-01</td>\n    </tr>\n    <tr>\n      <th>4</th>\n      <td>1.613333</td>\n      <td>2016-11-01</td>\n    </tr>\n    <tr>\n      <th>5</th>\n      <td>1.635</td>\n      <td>2016-12-01</td>\n    </tr>\n    <tr>\n      <th>6</th>\n      <td>1.750741</td>\n      <td>2017-01-01</td>\n    </tr>\n    <tr>\n      <th>7</th>\n      <td>1.724138</td>\n      <td>2017-02-01</td>\n    </tr>\n    <tr>\n      <th>8</th>\n      <td>1.769615</td>\n      <td>2017-03-01</td>\n    </tr>\n    <tr>\n      <th>9</th>\n      <td>1.91375</td>\n      <td>2017-04-01</td>\n    </tr>\n    <tr>\n      <th>10</th>\n      <td>1.602609</td>\n      <td>2017-05-01</td>\n    </tr>\n    <tr>\n      <th>11</th>\n      <td>1.48</td>\n      <td>2017-06-01</td>\n    </tr>\n    <tr>\n      <th>12</th>\n      <td>1.435714</td>\n      <td>2017-07-01</td>\n    </tr>\n    <tr>\n      <th>13</th>\n      <td>1.44561</td>\n      <td>2017-08-01</td>\n    </tr>\n    <tr>\n      <th>14</th>\n      <td>1.332143</td>\n      <td>2017-09-01</td>\n    </tr>\n    <tr>\n      <th>15</th>\n      <td>1.389565</td>\n      <td>2017-10-01</td>\n    </tr>\n    <tr>\n      <th>16</th>\n      <td>1.58617</td>\n      <td>2017-11-01</td>\n    </tr>\n    <tr>\n      <th>17</th>\n      <td>2.064792</td>\n      <td>2017-12-01</td>\n    </tr>\n    <tr>\n      <th>18</th>\n      <td>1.645556</td>\n      <td>2018-01-01</td>\n    </tr>\n    <tr>\n      <th>19</th>\n      <td>2.146</td>\n      <td>2018-02-01</td>\n    </tr>\n    <tr>\n      <th>20</th>\n      <td>1.720192</td>\n      <td>2018-03-01</td>\n    </tr>\n    <tr>\n      <th>21</th>\n      <td>2.061</td>\n      <td>2018-04-01</td>\n    </tr>\n    <tr>\n      <th>22</th>\n      <td>1.705778</td>\n      <td>2018-05-01</td>\n    </tr>\n    <tr>\n      <th>23</th>\n      <td>2.462885</td>\n      <td>2018-06-01</td>\n    </tr>\n    <tr>\n      <th>24</th>\n      <td>2.633529</td>\n      <td>2018-07-01</td>\n    </tr>\n    <tr>\n      <th>25</th>\n      <td>2.382353</td>\n      <td>2018-08-01</td>\n    </tr>\n    <tr>\n      <th>26</th>\n      <td>3.992</td>\n      <td>2018-09-01</td>\n    </tr>\n    <tr>\n      <th>27</th>\n      <td>4.102955</td>\n      <td>2018-10-01</td>\n    </tr>\n    <tr>\n      <th>28</th>\n      <td>3.283654</td>\n      <td>2018-11-01</td>\n    </tr>\n    <tr>\n      <th>29</th>\n      <td>2.764</td>\n      <td>2018-12-01</td>\n    </tr>\n    <tr>\n      <th>30</th>\n      <td>2.580208</td>\n      <td>2019-01-01</td>\n    </tr>\n    <tr>\n      <th>31</th>\n      <td>2.546731</td>\n      <td>2019-02-01</td>\n    </tr>\n    <tr>\n      <th>32</th>\n      <td>3.439057</td>\n      <td>2019-03-01</td>\n    </tr>\n    <tr>\n      <th>33</th>\n      <td>3.73</td>\n      <td>2019-04-01</td>\n    </tr>\n    <tr>\n      <th>34</th>\n      <td>3.98098</td>\n      <td>2019-05-01</td>\n    </tr>\n    <tr>\n      <th>35</th>\n      <td>3.086042</td>\n      <td>2019-06-01</td>\n    </tr>\n    <tr>\n      <th>36</th>\n      <td>2.602598</td>\n      <td>2019-07-01</td>\n    </tr>\n    <tr>\n      <th>37</th>\n      <td>2.372574</td>\n      <td>2019-08-01</td>\n    </tr>\n    <tr>\n      <th>38</th>\n      <td>4.429039</td>\n      <td>2019-09-01</td>\n    </tr>\n    <tr>\n      <th>39</th>\n      <td>5.746716</td>\n      <td>2019-10-01</td>\n    </tr>\n    <tr>\n      <th>40</th>\n      <td>4.401506</td>\n      <td>2019-11-01</td>\n    </tr>\n    <tr>\n      <th>41</th>\n      <td>4.107656</td>\n      <td>2019-12-01</td>\n    </tr>\n    <tr>\n      <th>42</th>\n      <td>4.202258</td>\n      <td>2020-01-01</td>\n    </tr>\n    <tr>\n      <th>43</th>\n      <td>3.460822</td>\n      <td>2020-02-01</td>\n    </tr>\n    <tr>\n      <th>44</th>\n      <td>2.468749</td>\n      <td>2020-03-01</td>\n    </tr>\n    <tr>\n      <th>45</th>\n      <td>2.580729</td>\n      <td>2020-04-01</td>\n    </tr>\n    <tr>\n      <th>46</th>\n      <td>2.430546</td>\n      <td>2020-05-01</td>\n    </tr>\n    <tr>\n      <th>47</th>\n      <td>1.759992</td>\n      <td>2020-06-01</td>\n    </tr>\n    <tr>\n      <th>48</th>\n      <td>1.917893</td>\n      <td>2020-07-01</td>\n    </tr>\n    <tr>\n      <th>49</th>\n      <td>2.368798</td>\n      <td>2020-08-01</td>\n    </tr>\n    <tr>\n      <th>50</th>\n      <td>2.786919</td>\n      <td>2020-09-01</td>\n    </tr>\n    <tr>\n      <th>51</th>\n      <td>2.996612</td>\n      <td>2020-10-01</td>\n    </tr>\n    <tr>\n      <th>52</th>\n      <td>3.206148</td>\n      <td>2020-11-01</td>\n    </tr>\n    <tr>\n      <th>53</th>\n      <td>3.652041</td>\n      <td>2020-12-01</td>\n    </tr>\n    <tr>\n      <th>54</th>\n      <td>3.852123</td>\n      <td>2021-01-01</td>\n    </tr>\n    <tr>\n      <th>55</th>\n      <td>3.803133</td>\n      <td>2021-02-01</td>\n    </tr>\n    <tr>\n      <th>56</th>\n      <td>3.530524</td>\n      <td>2021-03-01</td>\n    </tr>\n    <tr>\n      <th>57</th>\n      <td>3.945794</td>\n      <td>2021-04-01</td>\n    </tr>\n    <tr>\n      <th>58</th>\n      <td>3.802645</td>\n      <td>2021-05-01</td>\n    </tr>\n  </tbody>\n</table>\n</div>"
     },
     "metadata": {},
     "execution_count": 8
    }
   ],
   "source": [
    "# Changing column names\n",
    "rem_nuevo.columns = ['rem', 'fecha']\n",
    "print(rem_nuevo.shape)\n",
    "rem_nuevo"
   ]
  },
  {
   "cell_type": "markdown",
   "id": "2668db27",
   "metadata": {},
   "source": [
    "### REM Periodo 2004-2012 <a class=\"anchor\" id=\"REM2004\"> </a>"
   ]
  },
  {
   "cell_type": "code",
   "execution_count": 9,
   "id": "485ce9bd",
   "metadata": {},
   "outputs": [
    {
     "output_type": "execute_result",
     "data": {
      "text/plain": [
       "0     Fecha del pronóstico                                           Variable  \\\n",
       "1      2004-01-07 00:00:00                   EMAE: variación interanual; en %   \n",
       "2      2004-01-07 00:00:00  Resultado Primario del Sec. Pub. Nac. No Fin. ...   \n",
       "3      2004-01-07 00:00:00  Resultado Primario del Sec. Pub. Nac. No Fin. ...   \n",
       "4      2004-01-07 00:00:00  PIB a precios constantes: variación interanual...   \n",
       "5      2004-01-07 00:00:00  PIB a precios constantes: variación interanual...   \n",
       "...                    ...                                                ...   \n",
       "39024  2012-09-26 00:00:00  Tasa de interés: BADLAR promedio mensual de  b...   \n",
       "39025  2012-09-26 00:00:00  Tasa de interés: BADLAR promedio mensual de  b...   \n",
       "39026  2012-09-26 00:00:00  Agregado Monetario M2 ($); promedio mensual en...   \n",
       "39027  2012-09-26 00:00:00  Agregado Monetario M2 ($); promedio mensual en...   \n",
       "39028  2012-09-26 00:00:00  Tasa de Interés: Pases Pasivos en $ a 7 días; ...   \n",
       "\n",
       "0       Período Mediana     Promedio       Desvío  Máximo  Mínimo  \\\n",
       "1      2004-ANL     6.5      6.77931      1.01553     8.8       5   \n",
       "2      2004-ENE     980        995.6     261.2588    1450     455   \n",
       "3      2005-ANL   12600  12704.90476   2989.77812   20145    6000   \n",
       "4      2003-TR4       9      8.72286      1.36426    10.5       5   \n",
       "5      2004-ANL     6.2      6.45833      0.79386     8.8       5   \n",
       "...         ...     ...          ...          ...     ...     ...   \n",
       "39024  2012-ANL      15     14.88235       1.3044      17    12.5   \n",
       "39025  2012-SEP    14.1     13.80786      0.72279    14.3   11.41   \n",
       "39026  2012-ANL  418186   416179.875  22651.96767  443046  340065   \n",
       "39027  2012-SEP  405754    405995.75   4987.48596  417816  398000   \n",
       "39028  2012-ANL     9.5     10.01176      1.03519      13     9.5   \n",
       "\n",
       "0     Percentil 75 Percentil 25 Cantidad de respuestas  NaN  \n",
       "1            7.675            6                     29  NaN  \n",
       "2             1243       834.75                     25  NaN  \n",
       "3            13885     10719.75                     21  NaN  \n",
       "4              9.8            8                     35  NaN  \n",
       "5                7            6                     36  NaN  \n",
       "...            ...          ...                    ...  ...  \n",
       "39024         15.6        13.85                     17  NaN  \n",
       "39025        14.26       13.525                     14  NaN  \n",
       "39026       430000       409550                     16  NaN  \n",
       "39027    408417.25       402125                     12  NaN  \n",
       "39028         9.95          9.5                     17  NaN  \n",
       "\n",
       "[39028 rows x 12 columns]"
      ],
      "text/html": "<div>\n<style scoped>\n    .dataframe tbody tr th:only-of-type {\n        vertical-align: middle;\n    }\n\n    .dataframe tbody tr th {\n        vertical-align: top;\n    }\n\n    .dataframe thead th {\n        text-align: right;\n    }\n</style>\n<table border=\"1\" class=\"dataframe\">\n  <thead>\n    <tr style=\"text-align: right;\">\n      <th></th>\n      <th>Fecha del pronóstico</th>\n      <th>Variable</th>\n      <th>Período</th>\n      <th>Mediana</th>\n      <th>Promedio</th>\n      <th>Desvío</th>\n      <th>Máximo</th>\n      <th>Mínimo</th>\n      <th>Percentil 75</th>\n      <th>Percentil 25</th>\n      <th>Cantidad de respuestas</th>\n      <th>NaN</th>\n    </tr>\n  </thead>\n  <tbody>\n    <tr>\n      <th>1</th>\n      <td>2004-01-07 00:00:00</td>\n      <td>EMAE: variación interanual; en %</td>\n      <td>2004-ANL</td>\n      <td>6.5</td>\n      <td>6.77931</td>\n      <td>1.01553</td>\n      <td>8.8</td>\n      <td>5</td>\n      <td>7.675</td>\n      <td>6</td>\n      <td>29</td>\n      <td>NaN</td>\n    </tr>\n    <tr>\n      <th>2</th>\n      <td>2004-01-07 00:00:00</td>\n      <td>Resultado Primario del Sec. Pub. Nac. No Fin. ...</td>\n      <td>2004-ENE</td>\n      <td>980</td>\n      <td>995.6</td>\n      <td>261.2588</td>\n      <td>1450</td>\n      <td>455</td>\n      <td>1243</td>\n      <td>834.75</td>\n      <td>25</td>\n      <td>NaN</td>\n    </tr>\n    <tr>\n      <th>3</th>\n      <td>2004-01-07 00:00:00</td>\n      <td>Resultado Primario del Sec. Pub. Nac. No Fin. ...</td>\n      <td>2005-ANL</td>\n      <td>12600</td>\n      <td>12704.90476</td>\n      <td>2989.77812</td>\n      <td>20145</td>\n      <td>6000</td>\n      <td>13885</td>\n      <td>10719.75</td>\n      <td>21</td>\n      <td>NaN</td>\n    </tr>\n    <tr>\n      <th>4</th>\n      <td>2004-01-07 00:00:00</td>\n      <td>PIB a precios constantes: variación interanual...</td>\n      <td>2003-TR4</td>\n      <td>9</td>\n      <td>8.72286</td>\n      <td>1.36426</td>\n      <td>10.5</td>\n      <td>5</td>\n      <td>9.8</td>\n      <td>8</td>\n      <td>35</td>\n      <td>NaN</td>\n    </tr>\n    <tr>\n      <th>5</th>\n      <td>2004-01-07 00:00:00</td>\n      <td>PIB a precios constantes: variación interanual...</td>\n      <td>2004-ANL</td>\n      <td>6.2</td>\n      <td>6.45833</td>\n      <td>0.79386</td>\n      <td>8.8</td>\n      <td>5</td>\n      <td>7</td>\n      <td>6</td>\n      <td>36</td>\n      <td>NaN</td>\n    </tr>\n    <tr>\n      <th>...</th>\n      <td>...</td>\n      <td>...</td>\n      <td>...</td>\n      <td>...</td>\n      <td>...</td>\n      <td>...</td>\n      <td>...</td>\n      <td>...</td>\n      <td>...</td>\n      <td>...</td>\n      <td>...</td>\n      <td>...</td>\n    </tr>\n    <tr>\n      <th>39024</th>\n      <td>2012-09-26 00:00:00</td>\n      <td>Tasa de interés: BADLAR promedio mensual de  b...</td>\n      <td>2012-ANL</td>\n      <td>15</td>\n      <td>14.88235</td>\n      <td>1.3044</td>\n      <td>17</td>\n      <td>12.5</td>\n      <td>15.6</td>\n      <td>13.85</td>\n      <td>17</td>\n      <td>NaN</td>\n    </tr>\n    <tr>\n      <th>39025</th>\n      <td>2012-09-26 00:00:00</td>\n      <td>Tasa de interés: BADLAR promedio mensual de  b...</td>\n      <td>2012-SEP</td>\n      <td>14.1</td>\n      <td>13.80786</td>\n      <td>0.72279</td>\n      <td>14.3</td>\n      <td>11.41</td>\n      <td>14.26</td>\n      <td>13.525</td>\n      <td>14</td>\n      <td>NaN</td>\n    </tr>\n    <tr>\n      <th>39026</th>\n      <td>2012-09-26 00:00:00</td>\n      <td>Agregado Monetario M2 ($); promedio mensual en...</td>\n      <td>2012-ANL</td>\n      <td>418186</td>\n      <td>416179.875</td>\n      <td>22651.96767</td>\n      <td>443046</td>\n      <td>340065</td>\n      <td>430000</td>\n      <td>409550</td>\n      <td>16</td>\n      <td>NaN</td>\n    </tr>\n    <tr>\n      <th>39027</th>\n      <td>2012-09-26 00:00:00</td>\n      <td>Agregado Monetario M2 ($); promedio mensual en...</td>\n      <td>2012-SEP</td>\n      <td>405754</td>\n      <td>405995.75</td>\n      <td>4987.48596</td>\n      <td>417816</td>\n      <td>398000</td>\n      <td>408417.25</td>\n      <td>402125</td>\n      <td>12</td>\n      <td>NaN</td>\n    </tr>\n    <tr>\n      <th>39028</th>\n      <td>2012-09-26 00:00:00</td>\n      <td>Tasa de Interés: Pases Pasivos en $ a 7 días; ...</td>\n      <td>2012-ANL</td>\n      <td>9.5</td>\n      <td>10.01176</td>\n      <td>1.03519</td>\n      <td>13</td>\n      <td>9.5</td>\n      <td>9.95</td>\n      <td>9.5</td>\n      <td>17</td>\n      <td>NaN</td>\n    </tr>\n  </tbody>\n</table>\n<p>39028 rows × 12 columns</p>\n</div>"
     },
     "metadata": {},
     "execution_count": 9
    }
   ],
   "source": [
    "# Reading the xlsx file\n",
    "rem_viejo = read_xlsx('BCRA/REM/REM viejo.xlsx', 'REM base')\n",
    "rem_viejo"
   ]
  },
  {
   "cell_type": "code",
   "execution_count": 10,
   "id": "ac7aeddc",
   "metadata": {},
   "outputs": [
    {
     "output_type": "execute_result",
     "data": {
      "text/plain": [
       "0    Fecha del pronóstico   Período  Promedio\n",
       "0     2004-01-07 00:00:00  2004-ANL   5.88857\n",
       "1     2004-01-07 00:00:00  2005-ANL     6.764\n",
       "2     2004-01-07 00:00:00  2004-ENE   0.85152\n",
       "3     2004-01-07 00:00:00  2004-FEB   0.45517\n",
       "4     2004-01-14 00:00:00  2004-ANL   5.99756\n",
       "...                   ...       ...       ...\n",
       "1733  2012-09-19 00:00:00  2012-ANL  13.44167\n",
       "1734  2012-09-26 00:00:00  2013-ANL     14.62\n",
       "1735  2012-09-26 00:00:00  2012-SEP   1.03636\n",
       "1736  2012-09-26 00:00:00  2012-OCT   1.27778\n",
       "1737  2012-09-26 00:00:00  2012-ANL     13.45\n",
       "\n",
       "[1738 rows x 3 columns]"
      ],
      "text/html": "<div>\n<style scoped>\n    .dataframe tbody tr th:only-of-type {\n        vertical-align: middle;\n    }\n\n    .dataframe tbody tr th {\n        vertical-align: top;\n    }\n\n    .dataframe thead th {\n        text-align: right;\n    }\n</style>\n<table border=\"1\" class=\"dataframe\">\n  <thead>\n    <tr style=\"text-align: right;\">\n      <th></th>\n      <th>Fecha del pronóstico</th>\n      <th>Período</th>\n      <th>Promedio</th>\n    </tr>\n  </thead>\n  <tbody>\n    <tr>\n      <th>0</th>\n      <td>2004-01-07 00:00:00</td>\n      <td>2004-ANL</td>\n      <td>5.88857</td>\n    </tr>\n    <tr>\n      <th>1</th>\n      <td>2004-01-07 00:00:00</td>\n      <td>2005-ANL</td>\n      <td>6.764</td>\n    </tr>\n    <tr>\n      <th>2</th>\n      <td>2004-01-07 00:00:00</td>\n      <td>2004-ENE</td>\n      <td>0.85152</td>\n    </tr>\n    <tr>\n      <th>3</th>\n      <td>2004-01-07 00:00:00</td>\n      <td>2004-FEB</td>\n      <td>0.45517</td>\n    </tr>\n    <tr>\n      <th>4</th>\n      <td>2004-01-14 00:00:00</td>\n      <td>2004-ANL</td>\n      <td>5.99756</td>\n    </tr>\n    <tr>\n      <th>...</th>\n      <td>...</td>\n      <td>...</td>\n      <td>...</td>\n    </tr>\n    <tr>\n      <th>1733</th>\n      <td>2012-09-19 00:00:00</td>\n      <td>2012-ANL</td>\n      <td>13.44167</td>\n    </tr>\n    <tr>\n      <th>1734</th>\n      <td>2012-09-26 00:00:00</td>\n      <td>2013-ANL</td>\n      <td>14.62</td>\n    </tr>\n    <tr>\n      <th>1735</th>\n      <td>2012-09-26 00:00:00</td>\n      <td>2012-SEP</td>\n      <td>1.03636</td>\n    </tr>\n    <tr>\n      <th>1736</th>\n      <td>2012-09-26 00:00:00</td>\n      <td>2012-OCT</td>\n      <td>1.27778</td>\n    </tr>\n    <tr>\n      <th>1737</th>\n      <td>2012-09-26 00:00:00</td>\n      <td>2012-ANL</td>\n      <td>13.45</td>\n    </tr>\n  </tbody>\n</table>\n<p>1738 rows × 3 columns</p>\n</div>"
     },
     "metadata": {},
     "execution_count": 10
    }
   ],
   "source": [
    "# Removing columns and rows that are not useful\n",
    "rem_viejo = rem_viejo[rem_viejo['Variable'] == 'IPC: variación mensual; en %'].reset_index(drop=True)\n",
    "rem_viejo = rem_viejo.drop(columns=['Mediana', 'Desvío', 'Máximo', 'Mínimo', 'Percentil 75', 'Percentil 25', 'Cantidad de respuestas', 'Variable'])\n",
    "rem_viejo = rem_viejo.loc[:, rem_viejo.columns.notnull()]\n",
    "rem_viejo"
   ]
  },
  {
   "cell_type": "code",
   "execution_count": 11,
   "id": "c6d7b924",
   "metadata": {},
   "outputs": [
    {
     "output_type": "execute_result",
     "data": {
      "text/plain": [
       "0   Fecha del pronóstico    Período Promedio\n",
       "0    2004-01-07 00:00:00 2004-01-01  0.85152\n",
       "1    2004-01-07 00:00:00 2004-02-01  0.45517\n",
       "2    2004-01-14 00:00:00 2004-02-01  0.47297\n",
       "3    2004-01-14 00:00:00 2004-01-01  0.84359\n",
       "4    2004-01-21 00:00:00 2004-01-01  0.81905\n",
       "..                   ...        ...      ...\n",
       "906  2012-09-12 00:00:00 2012-10-01  1.44286\n",
       "907  2012-09-19 00:00:00 2012-10-01  1.44286\n",
       "908  2012-09-19 00:00:00 2012-09-01  1.05455\n",
       "909  2012-09-26 00:00:00 2012-09-01  1.03636\n",
       "910  2012-09-26 00:00:00 2012-10-01  1.27778\n",
       "\n",
       "[911 rows x 3 columns]"
      ],
      "text/html": "<div>\n<style scoped>\n    .dataframe tbody tr th:only-of-type {\n        vertical-align: middle;\n    }\n\n    .dataframe tbody tr th {\n        vertical-align: top;\n    }\n\n    .dataframe thead th {\n        text-align: right;\n    }\n</style>\n<table border=\"1\" class=\"dataframe\">\n  <thead>\n    <tr style=\"text-align: right;\">\n      <th></th>\n      <th>Fecha del pronóstico</th>\n      <th>Período</th>\n      <th>Promedio</th>\n    </tr>\n  </thead>\n  <tbody>\n    <tr>\n      <th>0</th>\n      <td>2004-01-07 00:00:00</td>\n      <td>2004-01-01</td>\n      <td>0.85152</td>\n    </tr>\n    <tr>\n      <th>1</th>\n      <td>2004-01-07 00:00:00</td>\n      <td>2004-02-01</td>\n      <td>0.45517</td>\n    </tr>\n    <tr>\n      <th>2</th>\n      <td>2004-01-14 00:00:00</td>\n      <td>2004-02-01</td>\n      <td>0.47297</td>\n    </tr>\n    <tr>\n      <th>3</th>\n      <td>2004-01-14 00:00:00</td>\n      <td>2004-01-01</td>\n      <td>0.84359</td>\n    </tr>\n    <tr>\n      <th>4</th>\n      <td>2004-01-21 00:00:00</td>\n      <td>2004-01-01</td>\n      <td>0.81905</td>\n    </tr>\n    <tr>\n      <th>...</th>\n      <td>...</td>\n      <td>...</td>\n      <td>...</td>\n    </tr>\n    <tr>\n      <th>906</th>\n      <td>2012-09-12 00:00:00</td>\n      <td>2012-10-01</td>\n      <td>1.44286</td>\n    </tr>\n    <tr>\n      <th>907</th>\n      <td>2012-09-19 00:00:00</td>\n      <td>2012-10-01</td>\n      <td>1.44286</td>\n    </tr>\n    <tr>\n      <th>908</th>\n      <td>2012-09-19 00:00:00</td>\n      <td>2012-09-01</td>\n      <td>1.05455</td>\n    </tr>\n    <tr>\n      <th>909</th>\n      <td>2012-09-26 00:00:00</td>\n      <td>2012-09-01</td>\n      <td>1.03636</td>\n    </tr>\n    <tr>\n      <th>910</th>\n      <td>2012-09-26 00:00:00</td>\n      <td>2012-10-01</td>\n      <td>1.27778</td>\n    </tr>\n  </tbody>\n</table>\n<p>911 rows × 3 columns</p>\n</div>"
     },
     "metadata": {},
     "execution_count": 11
    }
   ],
   "source": [
    "# formatting the Periodo column and removing some unnecessary rows\n",
    "\n",
    "def format_dates(date):\n",
    "    '''This function transforms a date to datetime'''\n",
    "    # Dict to match months\n",
    "    month_dict = {'ENE': 1, 'FEB':2, 'MAR':3, 'ABR':4, 'MAY':5, 'JUN':6, 'JUL':7, \n",
    "                  'AGO':8, 'SEP':9, 'OCT':10, 'NOV':11, 'DIC':12}\n",
    "    # Splitting the years and months\n",
    "    year, month = date.split('-')[0], date.split('-')[1]\n",
    "    # Mark this rows to remove them\n",
    "    if month == 'ANL':\n",
    "        return 'del'\n",
    "    # Transform the dates in periodo to datetime\n",
    "    elif month in month_dict:\n",
    "        year, month = int(year), month_dict[month]\n",
    "        formatted_date = dt.datetime(year, month, 1)\n",
    "        return formatted_date\n",
    "    \n",
    "rem_viejo['Período'] = rem_viejo['Período'].apply(format_dates)\n",
    "rem_viejo = rem_viejo[rem_viejo['Período'] != 'del'].reset_index(drop=True)\n",
    "rem_viejo['Período'] = pd.to_datetime(rem_viejo['Período'])\n",
    "\n",
    "rem_viejo"
   ]
  },
  {
   "cell_type": "code",
   "execution_count": 12,
   "metadata": {},
   "outputs": [
    {
     "output_type": "execute_result",
     "data": {
      "text/plain": [
       "0   Fecha del pronóstico    Período Promedio\n",
       "0    2004-01-07 00:00:00 2004-02-01  0.45517\n",
       "1    2004-01-14 00:00:00 2004-02-01  0.47297\n",
       "2    2004-01-21 00:00:00 2004-02-01    0.515\n",
       "3    2004-01-28 00:00:00 2004-02-01  0.50952\n",
       "4    2004-02-04 00:00:00 2004-03-01  0.49643\n",
       "..                   ...        ...      ...\n",
       "348  2012-08-22 00:00:00 2012-09-01  1.02727\n",
       "349  2012-08-29 00:00:00 2012-09-01  1.03636\n",
       "350  2012-09-12 00:00:00 2012-10-01  1.44286\n",
       "351  2012-09-19 00:00:00 2012-10-01  1.44286\n",
       "352  2012-09-26 00:00:00 2012-10-01  1.27778\n",
       "\n",
       "[353 rows x 3 columns]"
      ],
      "text/html": "<div>\n<style scoped>\n    .dataframe tbody tr th:only-of-type {\n        vertical-align: middle;\n    }\n\n    .dataframe tbody tr th {\n        vertical-align: top;\n    }\n\n    .dataframe thead th {\n        text-align: right;\n    }\n</style>\n<table border=\"1\" class=\"dataframe\">\n  <thead>\n    <tr style=\"text-align: right;\">\n      <th></th>\n      <th>Fecha del pronóstico</th>\n      <th>Período</th>\n      <th>Promedio</th>\n    </tr>\n  </thead>\n  <tbody>\n    <tr>\n      <th>0</th>\n      <td>2004-01-07 00:00:00</td>\n      <td>2004-02-01</td>\n      <td>0.45517</td>\n    </tr>\n    <tr>\n      <th>1</th>\n      <td>2004-01-14 00:00:00</td>\n      <td>2004-02-01</td>\n      <td>0.47297</td>\n    </tr>\n    <tr>\n      <th>2</th>\n      <td>2004-01-21 00:00:00</td>\n      <td>2004-02-01</td>\n      <td>0.515</td>\n    </tr>\n    <tr>\n      <th>3</th>\n      <td>2004-01-28 00:00:00</td>\n      <td>2004-02-01</td>\n      <td>0.50952</td>\n    </tr>\n    <tr>\n      <th>4</th>\n      <td>2004-02-04 00:00:00</td>\n      <td>2004-03-01</td>\n      <td>0.49643</td>\n    </tr>\n    <tr>\n      <th>...</th>\n      <td>...</td>\n      <td>...</td>\n      <td>...</td>\n    </tr>\n    <tr>\n      <th>348</th>\n      <td>2012-08-22 00:00:00</td>\n      <td>2012-09-01</td>\n      <td>1.02727</td>\n    </tr>\n    <tr>\n      <th>349</th>\n      <td>2012-08-29 00:00:00</td>\n      <td>2012-09-01</td>\n      <td>1.03636</td>\n    </tr>\n    <tr>\n      <th>350</th>\n      <td>2012-09-12 00:00:00</td>\n      <td>2012-10-01</td>\n      <td>1.44286</td>\n    </tr>\n    <tr>\n      <th>351</th>\n      <td>2012-09-19 00:00:00</td>\n      <td>2012-10-01</td>\n      <td>1.44286</td>\n    </tr>\n    <tr>\n      <th>352</th>\n      <td>2012-09-26 00:00:00</td>\n      <td>2012-10-01</td>\n      <td>1.27778</td>\n    </tr>\n  </tbody>\n</table>\n<p>353 rows × 3 columns</p>\n</div>"
     },
     "metadata": {},
     "execution_count": 12
    }
   ],
   "source": [
    "# Filtering based on the forecast and prediction period \n",
    "new_forecast_col = rem_viejo['Fecha del pronóstico'] + np.timedelta64(1, 'M')\n",
    "bool_mask = new_forecast_col.dt.month == rem_viejo['Período'].dt.month\n",
    "rem_viejo = rem_viejo[bool_mask].reset_index(drop=True)\n",
    "rem_viejo"
   ]
  },
  {
   "cell_type": "code",
   "execution_count": 13,
   "id": "0b122069",
   "metadata": {},
   "outputs": [
    {
     "output_type": "execute_result",
     "data": {
      "text/plain": [
       "0   Fecha del pronóstico    Período Promedio\n",
       "0    2004-01-28 00:00:00 2004-02-01  0.50952\n",
       "1    2004-02-25 00:00:00 2004-03-01  0.51111\n",
       "2    2004-03-31 00:00:00 2004-04-01  0.61707\n",
       "3    2004-04-28 00:00:00 2004-05-01     0.55\n",
       "4    2004-05-26 00:00:00 2004-06-01  0.67561\n",
       "..                   ...        ...      ...\n",
       "100  2012-05-30 00:00:00 2012-06-01     1.09\n",
       "101  2012-06-27 00:00:00 2012-07-01     1.06\n",
       "102  2012-08-01 00:00:00 2012-08-01     1.05\n",
       "103  2012-08-29 00:00:00 2012-09-01  1.03636\n",
       "104  2012-09-26 00:00:00 2012-10-01  1.27778\n",
       "\n",
       "[105 rows x 3 columns]"
      ],
      "text/html": "<div>\n<style scoped>\n    .dataframe tbody tr th:only-of-type {\n        vertical-align: middle;\n    }\n\n    .dataframe tbody tr th {\n        vertical-align: top;\n    }\n\n    .dataframe thead th {\n        text-align: right;\n    }\n</style>\n<table border=\"1\" class=\"dataframe\">\n  <thead>\n    <tr style=\"text-align: right;\">\n      <th></th>\n      <th>Fecha del pronóstico</th>\n      <th>Período</th>\n      <th>Promedio</th>\n    </tr>\n  </thead>\n  <tbody>\n    <tr>\n      <th>0</th>\n      <td>2004-01-28 00:00:00</td>\n      <td>2004-02-01</td>\n      <td>0.50952</td>\n    </tr>\n    <tr>\n      <th>1</th>\n      <td>2004-02-25 00:00:00</td>\n      <td>2004-03-01</td>\n      <td>0.51111</td>\n    </tr>\n    <tr>\n      <th>2</th>\n      <td>2004-03-31 00:00:00</td>\n      <td>2004-04-01</td>\n      <td>0.61707</td>\n    </tr>\n    <tr>\n      <th>3</th>\n      <td>2004-04-28 00:00:00</td>\n      <td>2004-05-01</td>\n      <td>0.55</td>\n    </tr>\n    <tr>\n      <th>4</th>\n      <td>2004-05-26 00:00:00</td>\n      <td>2004-06-01</td>\n      <td>0.67561</td>\n    </tr>\n    <tr>\n      <th>...</th>\n      <td>...</td>\n      <td>...</td>\n      <td>...</td>\n    </tr>\n    <tr>\n      <th>100</th>\n      <td>2012-05-30 00:00:00</td>\n      <td>2012-06-01</td>\n      <td>1.09</td>\n    </tr>\n    <tr>\n      <th>101</th>\n      <td>2012-06-27 00:00:00</td>\n      <td>2012-07-01</td>\n      <td>1.06</td>\n    </tr>\n    <tr>\n      <th>102</th>\n      <td>2012-08-01 00:00:00</td>\n      <td>2012-08-01</td>\n      <td>1.05</td>\n    </tr>\n    <tr>\n      <th>103</th>\n      <td>2012-08-29 00:00:00</td>\n      <td>2012-09-01</td>\n      <td>1.03636</td>\n    </tr>\n    <tr>\n      <th>104</th>\n      <td>2012-09-26 00:00:00</td>\n      <td>2012-10-01</td>\n      <td>1.27778</td>\n    </tr>\n  </tbody>\n</table>\n<p>105 rows × 3 columns</p>\n</div>"
     },
     "metadata": {},
     "execution_count": 13
    }
   ],
   "source": [
    "# Picking the last forecast date for each month\n",
    "def keep_last_date(df, date_col):\n",
    "    '''This function keeps the last date for each month\n",
    "    and removes the rest'''\n",
    "    # List that will contain all the dates\n",
    "    date_list = []\n",
    "    n_rows = df.shape[0]\n",
    "    \n",
    "    # List that will contatin the index of the rows to drop\n",
    "    rows_to_drop = []\n",
    "    \n",
    "    # List containing the index in reversed order\n",
    "    reversed_rows = [i for i in range(n_rows)][::-1]\n",
    "\n",
    "    # Looping over the rows\n",
    "    for i in reversed_rows:\n",
    "        \n",
    "        if df.loc[i, date_col] not in date_list:\n",
    "            date_list.append(df.loc[i, date_col])\n",
    "            \n",
    "        elif df.loc[i, date_col] in date_list:   \n",
    "            rows_to_drop.append(i)\n",
    "            \n",
    "    # Using rows_to_drop to remove the undesired rows    \n",
    "    new_df = df.drop(index=rows_to_drop).reset_index(drop=True)\n",
    "\n",
    "    return new_df\n",
    "\n",
    "rem_viejo = keep_last_date(rem_viejo, 'Período')\n",
    "rem_viejo"
   ]
  },
  {
   "cell_type": "code",
   "execution_count": 14,
   "id": "4e37820d",
   "metadata": {},
   "outputs": [
    {
     "output_type": "execute_result",
     "data": {
      "text/plain": [
       "         fecha      rem\n",
       "0   2004-02-01  0.50952\n",
       "1   2004-03-01  0.51111\n",
       "2   2004-04-01  0.61707\n",
       "3   2004-05-01     0.55\n",
       "4   2004-06-01  0.67561\n",
       "..         ...      ...\n",
       "100 2012-06-01     1.09\n",
       "101 2012-07-01     1.06\n",
       "102 2012-08-01     1.05\n",
       "103 2012-09-01  1.03636\n",
       "104 2012-10-01  1.27778\n",
       "\n",
       "[105 rows x 2 columns]"
      ],
      "text/html": "<div>\n<style scoped>\n    .dataframe tbody tr th:only-of-type {\n        vertical-align: middle;\n    }\n\n    .dataframe tbody tr th {\n        vertical-align: top;\n    }\n\n    .dataframe thead th {\n        text-align: right;\n    }\n</style>\n<table border=\"1\" class=\"dataframe\">\n  <thead>\n    <tr style=\"text-align: right;\">\n      <th></th>\n      <th>fecha</th>\n      <th>rem</th>\n    </tr>\n  </thead>\n  <tbody>\n    <tr>\n      <th>0</th>\n      <td>2004-02-01</td>\n      <td>0.50952</td>\n    </tr>\n    <tr>\n      <th>1</th>\n      <td>2004-03-01</td>\n      <td>0.51111</td>\n    </tr>\n    <tr>\n      <th>2</th>\n      <td>2004-04-01</td>\n      <td>0.61707</td>\n    </tr>\n    <tr>\n      <th>3</th>\n      <td>2004-05-01</td>\n      <td>0.55</td>\n    </tr>\n    <tr>\n      <th>4</th>\n      <td>2004-06-01</td>\n      <td>0.67561</td>\n    </tr>\n    <tr>\n      <th>...</th>\n      <td>...</td>\n      <td>...</td>\n    </tr>\n    <tr>\n      <th>100</th>\n      <td>2012-06-01</td>\n      <td>1.09</td>\n    </tr>\n    <tr>\n      <th>101</th>\n      <td>2012-07-01</td>\n      <td>1.06</td>\n    </tr>\n    <tr>\n      <th>102</th>\n      <td>2012-08-01</td>\n      <td>1.05</td>\n    </tr>\n    <tr>\n      <th>103</th>\n      <td>2012-09-01</td>\n      <td>1.03636</td>\n    </tr>\n    <tr>\n      <th>104</th>\n      <td>2012-10-01</td>\n      <td>1.27778</td>\n    </tr>\n  </tbody>\n</table>\n<p>105 rows × 2 columns</p>\n</div>"
     },
     "metadata": {},
     "execution_count": 14
    }
   ],
   "source": [
    "# Finishing formatting the dataframe\n",
    "rem_viejo = rem_viejo.drop(columns='Fecha del pronóstico')\n",
    "rem_viejo.columns = ['fecha', 'rem']\n",
    "rem_viejo"
   ]
  },
  {
   "cell_type": "markdown",
   "id": "6b92844c",
   "metadata": {},
   "source": [
    "### Uniendo ambos dataframes en uno solo <a class=\"anchor\" id=\"data1\"> </a>"
   ]
  },
  {
   "cell_type": "code",
   "execution_count": 15,
   "id": "28b601a2",
   "metadata": {},
   "outputs": [
    {
     "output_type": "stream",
     "name": "stdout",
     "text": [
      "(164, 2)\n"
     ]
    },
    {
     "output_type": "execute_result",
     "data": {
      "text/plain": [
       "         fecha       rem\n",
       "0   2004-02-01   0.50952\n",
       "1   2004-03-01   0.51111\n",
       "2   2004-04-01   0.61707\n",
       "3   2004-05-01      0.55\n",
       "4   2004-06-01   0.67561\n",
       "..         ...       ...\n",
       "159 2021-01-01  3.852123\n",
       "160 2021-02-01  3.803133\n",
       "161 2021-03-01  3.530524\n",
       "162 2021-04-01  3.945794\n",
       "163 2021-05-01  3.802645\n",
       "\n",
       "[164 rows x 2 columns]"
      ],
      "text/html": "<div>\n<style scoped>\n    .dataframe tbody tr th:only-of-type {\n        vertical-align: middle;\n    }\n\n    .dataframe tbody tr th {\n        vertical-align: top;\n    }\n\n    .dataframe thead th {\n        text-align: right;\n    }\n</style>\n<table border=\"1\" class=\"dataframe\">\n  <thead>\n    <tr style=\"text-align: right;\">\n      <th></th>\n      <th>fecha</th>\n      <th>rem</th>\n    </tr>\n  </thead>\n  <tbody>\n    <tr>\n      <th>0</th>\n      <td>2004-02-01</td>\n      <td>0.50952</td>\n    </tr>\n    <tr>\n      <th>1</th>\n      <td>2004-03-01</td>\n      <td>0.51111</td>\n    </tr>\n    <tr>\n      <th>2</th>\n      <td>2004-04-01</td>\n      <td>0.61707</td>\n    </tr>\n    <tr>\n      <th>3</th>\n      <td>2004-05-01</td>\n      <td>0.55</td>\n    </tr>\n    <tr>\n      <th>4</th>\n      <td>2004-06-01</td>\n      <td>0.67561</td>\n    </tr>\n    <tr>\n      <th>...</th>\n      <td>...</td>\n      <td>...</td>\n    </tr>\n    <tr>\n      <th>159</th>\n      <td>2021-01-01</td>\n      <td>3.852123</td>\n    </tr>\n    <tr>\n      <th>160</th>\n      <td>2021-02-01</td>\n      <td>3.803133</td>\n    </tr>\n    <tr>\n      <th>161</th>\n      <td>2021-03-01</td>\n      <td>3.530524</td>\n    </tr>\n    <tr>\n      <th>162</th>\n      <td>2021-04-01</td>\n      <td>3.945794</td>\n    </tr>\n    <tr>\n      <th>163</th>\n      <td>2021-05-01</td>\n      <td>3.802645</td>\n    </tr>\n  </tbody>\n</table>\n<p>164 rows × 2 columns</p>\n</div>"
     },
     "metadata": {},
     "execution_count": 15
    }
   ],
   "source": [
    "data = pd.concat([rem_viejo, rem_nuevo]).reset_index(drop=True)\n",
    "print(data.shape)\n",
    "data"
   ]
  },
  {
   "cell_type": "markdown",
   "id": "0cbbd2d8",
   "metadata": {},
   "source": [
    "## Otros Datos del BCRA <a class=\"anchor\" id=\"BCRA\"> </a>\n",
    "### Tasa BADLAR <a class=\"anchor\" id=\"BADLAR\"> </a>"
   ]
  },
  {
   "cell_type": "code",
   "execution_count": 16,
   "id": "ad2c0b42",
   "metadata": {},
   "outputs": [
    {
     "output_type": "stream",
     "name": "stdout",
     "text": [
      "(5468, 2)\nfecha    object\nvalor    object\ndtype: object\n"
     ]
    },
    {
     "output_type": "execute_result",
     "data": {
      "text/plain": [
       "           fecha    valor\n",
       "0     04/01/1999   9,0625\n",
       "1     05/01/1999   8,8125\n",
       "2     06/01/1999   8,8125\n",
       "3     07/01/1999   8,7500\n",
       "4     08/01/1999   8,4375\n",
       "...          ...      ...\n",
       "5463  07/05/2021  34,1250\n",
       "5464  10/05/2021  34,0000\n",
       "5465  11/05/2021  34,1250\n",
       "5466  12/05/2021  34,1875\n",
       "5467  13/05/2021  34,1875\n",
       "\n",
       "[5468 rows x 2 columns]"
      ],
      "text/html": "<div>\n<style scoped>\n    .dataframe tbody tr th:only-of-type {\n        vertical-align: middle;\n    }\n\n    .dataframe tbody tr th {\n        vertical-align: top;\n    }\n\n    .dataframe thead th {\n        text-align: right;\n    }\n</style>\n<table border=\"1\" class=\"dataframe\">\n  <thead>\n    <tr style=\"text-align: right;\">\n      <th></th>\n      <th>fecha</th>\n      <th>valor</th>\n    </tr>\n  </thead>\n  <tbody>\n    <tr>\n      <th>0</th>\n      <td>04/01/1999</td>\n      <td>9,0625</td>\n    </tr>\n    <tr>\n      <th>1</th>\n      <td>05/01/1999</td>\n      <td>8,8125</td>\n    </tr>\n    <tr>\n      <th>2</th>\n      <td>06/01/1999</td>\n      <td>8,8125</td>\n    </tr>\n    <tr>\n      <th>3</th>\n      <td>07/01/1999</td>\n      <td>8,7500</td>\n    </tr>\n    <tr>\n      <th>4</th>\n      <td>08/01/1999</td>\n      <td>8,4375</td>\n    </tr>\n    <tr>\n      <th>...</th>\n      <td>...</td>\n      <td>...</td>\n    </tr>\n    <tr>\n      <th>5463</th>\n      <td>07/05/2021</td>\n      <td>34,1250</td>\n    </tr>\n    <tr>\n      <th>5464</th>\n      <td>10/05/2021</td>\n      <td>34,0000</td>\n    </tr>\n    <tr>\n      <th>5465</th>\n      <td>11/05/2021</td>\n      <td>34,1250</td>\n    </tr>\n    <tr>\n      <th>5466</th>\n      <td>12/05/2021</td>\n      <td>34,1875</td>\n    </tr>\n    <tr>\n      <th>5467</th>\n      <td>13/05/2021</td>\n      <td>34,1875</td>\n    </tr>\n  </tbody>\n</table>\n<p>5468 rows × 2 columns</p>\n</div>"
     },
     "metadata": {},
     "execution_count": 16
    }
   ],
   "source": [
    "# Loading the data from the csv file\n",
    "def load_bcra_data(csv_path):\n",
    "    df = pd.read_csv(csv_path, names=['fecha', 'valor'])\n",
    "    return df\n",
    "\n",
    "badlar = load_bcra_data('BCRA/BADLAR.csv')\n",
    "print(badlar.shape, badlar.dtypes, sep='\\n')\n",
    "badlar"
   ]
  },
  {
   "cell_type": "code",
   "execution_count": 17,
   "id": "8fb36a8d",
   "metadata": {
    "tags": []
   },
   "outputs": [
    {
     "output_type": "execute_result",
     "data": {
      "text/plain": [
       "          fecha    valor\n",
       "0    1999-01-04   9,0625\n",
       "1    1999-01-05   8,8125\n",
       "2    1999-01-06   8,8125\n",
       "3    1999-01-07   8,7500\n",
       "4    1999-01-08   8,4375\n",
       "...         ...      ...\n",
       "5463 2021-05-07  34,1250\n",
       "5464 2021-05-10  34,0000\n",
       "5465 2021-05-11  34,1250\n",
       "5466 2021-05-12  34,1875\n",
       "5467 2021-05-13  34,1875\n",
       "\n",
       "[5468 rows x 2 columns]"
      ],
      "text/html": "<div>\n<style scoped>\n    .dataframe tbody tr th:only-of-type {\n        vertical-align: middle;\n    }\n\n    .dataframe tbody tr th {\n        vertical-align: top;\n    }\n\n    .dataframe thead th {\n        text-align: right;\n    }\n</style>\n<table border=\"1\" class=\"dataframe\">\n  <thead>\n    <tr style=\"text-align: right;\">\n      <th></th>\n      <th>fecha</th>\n      <th>valor</th>\n    </tr>\n  </thead>\n  <tbody>\n    <tr>\n      <th>0</th>\n      <td>1999-01-04</td>\n      <td>9,0625</td>\n    </tr>\n    <tr>\n      <th>1</th>\n      <td>1999-01-05</td>\n      <td>8,8125</td>\n    </tr>\n    <tr>\n      <th>2</th>\n      <td>1999-01-06</td>\n      <td>8,8125</td>\n    </tr>\n    <tr>\n      <th>3</th>\n      <td>1999-01-07</td>\n      <td>8,7500</td>\n    </tr>\n    <tr>\n      <th>4</th>\n      <td>1999-01-08</td>\n      <td>8,4375</td>\n    </tr>\n    <tr>\n      <th>...</th>\n      <td>...</td>\n      <td>...</td>\n    </tr>\n    <tr>\n      <th>5463</th>\n      <td>2021-05-07</td>\n      <td>34,1250</td>\n    </tr>\n    <tr>\n      <th>5464</th>\n      <td>2021-05-10</td>\n      <td>34,0000</td>\n    </tr>\n    <tr>\n      <th>5465</th>\n      <td>2021-05-11</td>\n      <td>34,1250</td>\n    </tr>\n    <tr>\n      <th>5466</th>\n      <td>2021-05-12</td>\n      <td>34,1875</td>\n    </tr>\n    <tr>\n      <th>5467</th>\n      <td>2021-05-13</td>\n      <td>34,1875</td>\n    </tr>\n  </tbody>\n</table>\n<p>5468 rows × 2 columns</p>\n</div>"
     },
     "metadata": {},
     "execution_count": 17
    }
   ],
   "source": [
    "#Converting the fecha column to datetime\n",
    "badlar['fecha'] = pd.to_datetime(badlar['fecha'], format='%d/%m/%Y')\n",
    "badlar"
   ]
  },
  {
   "cell_type": "code",
   "execution_count": 18,
   "id": "ad1c1e13",
   "metadata": {},
   "outputs": [
    {
     "output_type": "execute_result",
     "data": {
      "text/plain": [
       "          fecha   badlar\n",
       "0    1999-01-04   9.0625\n",
       "1    1999-01-05   8.8125\n",
       "2    1999-01-06   8.8125\n",
       "3    1999-01-07   8.7500\n",
       "4    1999-01-08   8.4375\n",
       "...         ...      ...\n",
       "5463 2021-05-07  34.1250\n",
       "5464 2021-05-10  34.0000\n",
       "5465 2021-05-11  34.1250\n",
       "5466 2021-05-12  34.1875\n",
       "5467 2021-05-13  34.1875\n",
       "\n",
       "[5468 rows x 2 columns]"
      ],
      "text/html": "<div>\n<style scoped>\n    .dataframe tbody tr th:only-of-type {\n        vertical-align: middle;\n    }\n\n    .dataframe tbody tr th {\n        vertical-align: top;\n    }\n\n    .dataframe thead th {\n        text-align: right;\n    }\n</style>\n<table border=\"1\" class=\"dataframe\">\n  <thead>\n    <tr style=\"text-align: right;\">\n      <th></th>\n      <th>fecha</th>\n      <th>badlar</th>\n    </tr>\n  </thead>\n  <tbody>\n    <tr>\n      <th>0</th>\n      <td>1999-01-04</td>\n      <td>9.0625</td>\n    </tr>\n    <tr>\n      <th>1</th>\n      <td>1999-01-05</td>\n      <td>8.8125</td>\n    </tr>\n    <tr>\n      <th>2</th>\n      <td>1999-01-06</td>\n      <td>8.8125</td>\n    </tr>\n    <tr>\n      <th>3</th>\n      <td>1999-01-07</td>\n      <td>8.7500</td>\n    </tr>\n    <tr>\n      <th>4</th>\n      <td>1999-01-08</td>\n      <td>8.4375</td>\n    </tr>\n    <tr>\n      <th>...</th>\n      <td>...</td>\n      <td>...</td>\n    </tr>\n    <tr>\n      <th>5463</th>\n      <td>2021-05-07</td>\n      <td>34.1250</td>\n    </tr>\n    <tr>\n      <th>5464</th>\n      <td>2021-05-10</td>\n      <td>34.0000</td>\n    </tr>\n    <tr>\n      <th>5465</th>\n      <td>2021-05-11</td>\n      <td>34.1250</td>\n    </tr>\n    <tr>\n      <th>5466</th>\n      <td>2021-05-12</td>\n      <td>34.1875</td>\n    </tr>\n    <tr>\n      <th>5467</th>\n      <td>2021-05-13</td>\n      <td>34.1875</td>\n    </tr>\n  </tbody>\n</table>\n<p>5468 rows × 2 columns</p>\n</div>"
     },
     "metadata": {},
     "execution_count": 18
    }
   ],
   "source": [
    "# Converting the number strings to fp32 and changing column names\n",
    "def convert_str_to_float(series):\n",
    "    series = series.str.replace(',', '.')\n",
    "    series = series.astype('float32')\n",
    "    return series\n",
    "\n",
    "badlar['valor'] = convert_str_to_float(badlar['valor'])\n",
    "badlar.columns = ['fecha', 'badlar']\n",
    "badlar"
   ]
  },
  {
   "cell_type": "code",
   "execution_count": 19,
   "id": "629052ce",
   "metadata": {},
   "outputs": [
    {
     "output_type": "stream",
     "name": "stdout",
     "text": [
      "(5534, 3)\n"
     ]
    },
    {
     "output_type": "execute_result",
     "data": {
      "text/plain": [
       "          fecha  rem   badlar\n",
       "164  1999-01-04  NaN   9.0625\n",
       "165  1999-01-05  NaN   8.8125\n",
       "166  1999-01-06  NaN   8.8125\n",
       "167  1999-01-07  NaN   8.7500\n",
       "168  1999-01-08  NaN   8.4375\n",
       "...         ...  ...      ...\n",
       "5529 2021-05-07  NaN  34.1250\n",
       "5530 2021-05-10  NaN  34.0000\n",
       "5531 2021-05-11  NaN  34.1250\n",
       "5532 2021-05-12  NaN  34.1875\n",
       "5533 2021-05-13  NaN  34.1875\n",
       "\n",
       "[5534 rows x 3 columns]"
      ],
      "text/html": "<div>\n<style scoped>\n    .dataframe tbody tr th:only-of-type {\n        vertical-align: middle;\n    }\n\n    .dataframe tbody tr th {\n        vertical-align: top;\n    }\n\n    .dataframe thead th {\n        text-align: right;\n    }\n</style>\n<table border=\"1\" class=\"dataframe\">\n  <thead>\n    <tr style=\"text-align: right;\">\n      <th></th>\n      <th>fecha</th>\n      <th>rem</th>\n      <th>badlar</th>\n    </tr>\n  </thead>\n  <tbody>\n    <tr>\n      <th>164</th>\n      <td>1999-01-04</td>\n      <td>NaN</td>\n      <td>9.0625</td>\n    </tr>\n    <tr>\n      <th>165</th>\n      <td>1999-01-05</td>\n      <td>NaN</td>\n      <td>8.8125</td>\n    </tr>\n    <tr>\n      <th>166</th>\n      <td>1999-01-06</td>\n      <td>NaN</td>\n      <td>8.8125</td>\n    </tr>\n    <tr>\n      <th>167</th>\n      <td>1999-01-07</td>\n      <td>NaN</td>\n      <td>8.7500</td>\n    </tr>\n    <tr>\n      <th>168</th>\n      <td>1999-01-08</td>\n      <td>NaN</td>\n      <td>8.4375</td>\n    </tr>\n    <tr>\n      <th>...</th>\n      <td>...</td>\n      <td>...</td>\n      <td>...</td>\n    </tr>\n    <tr>\n      <th>5529</th>\n      <td>2021-05-07</td>\n      <td>NaN</td>\n      <td>34.1250</td>\n    </tr>\n    <tr>\n      <th>5530</th>\n      <td>2021-05-10</td>\n      <td>NaN</td>\n      <td>34.0000</td>\n    </tr>\n    <tr>\n      <th>5531</th>\n      <td>2021-05-11</td>\n      <td>NaN</td>\n      <td>34.1250</td>\n    </tr>\n    <tr>\n      <th>5532</th>\n      <td>2021-05-12</td>\n      <td>NaN</td>\n      <td>34.1875</td>\n    </tr>\n    <tr>\n      <th>5533</th>\n      <td>2021-05-13</td>\n      <td>NaN</td>\n      <td>34.1875</td>\n    </tr>\n  </tbody>\n</table>\n<p>5534 rows × 3 columns</p>\n</div>"
     },
     "metadata": {},
     "execution_count": 19
    }
   ],
   "source": [
    "# Merging the badlar df with data df\n",
    "data = data.merge(badlar, how='outer', on='fecha').reset_index(drop=True)\n",
    "data = data.sort_values('fecha', axis=0)\n",
    "print(data.shape)\n",
    "data"
   ]
  },
  {
   "cell_type": "markdown",
   "id": "5e4d0498",
   "metadata": {},
   "source": [
    "### Base Monetaria <a class=\"anchor\" id=\"base\"> </a>"
   ]
  },
  {
   "cell_type": "code",
   "execution_count": 20,
   "id": "e56caa71",
   "metadata": {},
   "outputs": [
    {
     "output_type": "stream",
     "name": "stdout",
     "text": [
      "(6261, 2)\nfecha    object\nvalor    object\ndtype: object\n"
     ]
    },
    {
     "output_type": "execute_result",
     "data": {
      "text/plain": [
       "           fecha      valor\n",
       "0     02/01/1996     13.069\n",
       "1     03/01/1996      12.97\n",
       "2     04/01/1996     13.034\n",
       "3     05/01/1996     13.097\n",
       "4     08/01/1996     13.104\n",
       "...          ...        ...\n",
       "6256  06/05/2021  2.535.872\n",
       "6257  07/05/2021  2.489.384\n",
       "6258  10/05/2021  2.502.577\n",
       "6259  11/05/2021  2.545.019\n",
       "6260  12/05/2021  2.538.706\n",
       "\n",
       "[6261 rows x 2 columns]"
      ],
      "text/html": "<div>\n<style scoped>\n    .dataframe tbody tr th:only-of-type {\n        vertical-align: middle;\n    }\n\n    .dataframe tbody tr th {\n        vertical-align: top;\n    }\n\n    .dataframe thead th {\n        text-align: right;\n    }\n</style>\n<table border=\"1\" class=\"dataframe\">\n  <thead>\n    <tr style=\"text-align: right;\">\n      <th></th>\n      <th>fecha</th>\n      <th>valor</th>\n    </tr>\n  </thead>\n  <tbody>\n    <tr>\n      <th>0</th>\n      <td>02/01/1996</td>\n      <td>13.069</td>\n    </tr>\n    <tr>\n      <th>1</th>\n      <td>03/01/1996</td>\n      <td>12.97</td>\n    </tr>\n    <tr>\n      <th>2</th>\n      <td>04/01/1996</td>\n      <td>13.034</td>\n    </tr>\n    <tr>\n      <th>3</th>\n      <td>05/01/1996</td>\n      <td>13.097</td>\n    </tr>\n    <tr>\n      <th>4</th>\n      <td>08/01/1996</td>\n      <td>13.104</td>\n    </tr>\n    <tr>\n      <th>...</th>\n      <td>...</td>\n      <td>...</td>\n    </tr>\n    <tr>\n      <th>6256</th>\n      <td>06/05/2021</td>\n      <td>2.535.872</td>\n    </tr>\n    <tr>\n      <th>6257</th>\n      <td>07/05/2021</td>\n      <td>2.489.384</td>\n    </tr>\n    <tr>\n      <th>6258</th>\n      <td>10/05/2021</td>\n      <td>2.502.577</td>\n    </tr>\n    <tr>\n      <th>6259</th>\n      <td>11/05/2021</td>\n      <td>2.545.019</td>\n    </tr>\n    <tr>\n      <th>6260</th>\n      <td>12/05/2021</td>\n      <td>2.538.706</td>\n    </tr>\n  </tbody>\n</table>\n<p>6261 rows × 2 columns</p>\n</div>"
     },
     "metadata": {},
     "execution_count": 20
    }
   ],
   "source": [
    "# Reading the csv file\n",
    "base_monetaria = load_bcra_data('BCRA/Base Monetaria.csv')\n",
    "print(base_monetaria.shape, base_monetaria.dtypes, sep='\\n')\n",
    "base_monetaria"
   ]
  },
  {
   "cell_type": "code",
   "execution_count": 21,
   "id": "7c416efe",
   "metadata": {},
   "outputs": [
    {
     "output_type": "stream",
     "name": "stderr",
     "text": [
      "<ipython-input-21-65586080d1f8>:2: FutureWarning: The default value of regex will change from True to False in a future version. In addition, single character regular expressions will*not* be treated as literal strings when regex=True.\n  base_monetaria['valor'] = base_monetaria['valor'].str.replace('.', '').astype('float32')\n"
     ]
    },
    {
     "output_type": "execute_result",
     "data": {
      "text/plain": [
       "fecha    datetime64[ns]\n",
       "valor           float32\n",
       "dtype: object"
      ]
     },
     "metadata": {},
     "execution_count": 21
    }
   ],
   "source": [
    "# Changing columns to the correct datatype\n",
    "base_monetaria['valor'] = base_monetaria['valor'].str.replace('.', '').astype('float32')\n",
    "base_monetaria['fecha'] = pd.to_datetime(base_monetaria['fecha'], format='%d/%m/%Y')\n",
    "base_monetaria.dtypes"
   ]
  },
  {
   "cell_type": "code",
   "execution_count": 22,
   "id": "910d3f50-d2e7-49fa-ace4-bff053cb7e71",
   "metadata": {},
   "outputs": [
    {
     "output_type": "execute_result",
     "data": {
      "text/plain": [
       "          fecha  base_monetaria\n",
       "0    1996-01-02         13069.0\n",
       "1    1996-01-03          1297.0\n",
       "2    1996-01-04         13034.0\n",
       "3    1996-01-05         13097.0\n",
       "4    1996-01-08         13104.0\n",
       "...         ...             ...\n",
       "6256 2021-05-06       2535872.0\n",
       "6257 2021-05-07       2489384.0\n",
       "6258 2021-05-10       2502577.0\n",
       "6259 2021-05-11       2545019.0\n",
       "6260 2021-05-12       2538706.0\n",
       "\n",
       "[6261 rows x 2 columns]"
      ],
      "text/html": "<div>\n<style scoped>\n    .dataframe tbody tr th:only-of-type {\n        vertical-align: middle;\n    }\n\n    .dataframe tbody tr th {\n        vertical-align: top;\n    }\n\n    .dataframe thead th {\n        text-align: right;\n    }\n</style>\n<table border=\"1\" class=\"dataframe\">\n  <thead>\n    <tr style=\"text-align: right;\">\n      <th></th>\n      <th>fecha</th>\n      <th>base_monetaria</th>\n    </tr>\n  </thead>\n  <tbody>\n    <tr>\n      <th>0</th>\n      <td>1996-01-02</td>\n      <td>13069.0</td>\n    </tr>\n    <tr>\n      <th>1</th>\n      <td>1996-01-03</td>\n      <td>1297.0</td>\n    </tr>\n    <tr>\n      <th>2</th>\n      <td>1996-01-04</td>\n      <td>13034.0</td>\n    </tr>\n    <tr>\n      <th>3</th>\n      <td>1996-01-05</td>\n      <td>13097.0</td>\n    </tr>\n    <tr>\n      <th>4</th>\n      <td>1996-01-08</td>\n      <td>13104.0</td>\n    </tr>\n    <tr>\n      <th>...</th>\n      <td>...</td>\n      <td>...</td>\n    </tr>\n    <tr>\n      <th>6256</th>\n      <td>2021-05-06</td>\n      <td>2535872.0</td>\n    </tr>\n    <tr>\n      <th>6257</th>\n      <td>2021-05-07</td>\n      <td>2489384.0</td>\n    </tr>\n    <tr>\n      <th>6258</th>\n      <td>2021-05-10</td>\n      <td>2502577.0</td>\n    </tr>\n    <tr>\n      <th>6259</th>\n      <td>2021-05-11</td>\n      <td>2545019.0</td>\n    </tr>\n    <tr>\n      <th>6260</th>\n      <td>2021-05-12</td>\n      <td>2538706.0</td>\n    </tr>\n  </tbody>\n</table>\n<p>6261 rows × 2 columns</p>\n</div>"
     },
     "metadata": {},
     "execution_count": 22
    }
   ],
   "source": [
    "# Changing column names\n",
    "base_monetaria.columns = ['fecha', 'base_monetaria']\n",
    "base_monetaria"
   ]
  },
  {
   "cell_type": "code",
   "execution_count": 23,
   "id": "81afe5f7",
   "metadata": {},
   "outputs": [
    {
     "output_type": "execute_result",
     "data": {
      "text/plain": [
       "          fecha  rem  badlar  base_monetaria\n",
       "0    1999-01-04  NaN  9.0625         16412.0\n",
       "1    1999-01-05  NaN  8.8125         16293.0\n",
       "2    1999-01-06  NaN  8.8125         16249.0\n",
       "3    1999-01-07  NaN  8.7500         16277.0\n",
       "4    1999-01-08  NaN  8.4375         16286.0\n",
       "...         ...  ...     ...             ...\n",
       "6325 2002-04-23  NaN     NaN         20517.0\n",
       "6326 2002-04-24  NaN     NaN         20618.0\n",
       "6327 2002-04-25  NaN     NaN         20722.0\n",
       "6328 2002-04-26  NaN     NaN         21135.0\n",
       "6329 2005-12-31  NaN     NaN          5471.0\n",
       "\n",
       "[6330 rows x 4 columns]"
      ],
      "text/html": "<div>\n<style scoped>\n    .dataframe tbody tr th:only-of-type {\n        vertical-align: middle;\n    }\n\n    .dataframe tbody tr th {\n        vertical-align: top;\n    }\n\n    .dataframe thead th {\n        text-align: right;\n    }\n</style>\n<table border=\"1\" class=\"dataframe\">\n  <thead>\n    <tr style=\"text-align: right;\">\n      <th></th>\n      <th>fecha</th>\n      <th>rem</th>\n      <th>badlar</th>\n      <th>base_monetaria</th>\n    </tr>\n  </thead>\n  <tbody>\n    <tr>\n      <th>0</th>\n      <td>1999-01-04</td>\n      <td>NaN</td>\n      <td>9.0625</td>\n      <td>16412.0</td>\n    </tr>\n    <tr>\n      <th>1</th>\n      <td>1999-01-05</td>\n      <td>NaN</td>\n      <td>8.8125</td>\n      <td>16293.0</td>\n    </tr>\n    <tr>\n      <th>2</th>\n      <td>1999-01-06</td>\n      <td>NaN</td>\n      <td>8.8125</td>\n      <td>16249.0</td>\n    </tr>\n    <tr>\n      <th>3</th>\n      <td>1999-01-07</td>\n      <td>NaN</td>\n      <td>8.7500</td>\n      <td>16277.0</td>\n    </tr>\n    <tr>\n      <th>4</th>\n      <td>1999-01-08</td>\n      <td>NaN</td>\n      <td>8.4375</td>\n      <td>16286.0</td>\n    </tr>\n    <tr>\n      <th>...</th>\n      <td>...</td>\n      <td>...</td>\n      <td>...</td>\n      <td>...</td>\n    </tr>\n    <tr>\n      <th>6325</th>\n      <td>2002-04-23</td>\n      <td>NaN</td>\n      <td>NaN</td>\n      <td>20517.0</td>\n    </tr>\n    <tr>\n      <th>6326</th>\n      <td>2002-04-24</td>\n      <td>NaN</td>\n      <td>NaN</td>\n      <td>20618.0</td>\n    </tr>\n    <tr>\n      <th>6327</th>\n      <td>2002-04-25</td>\n      <td>NaN</td>\n      <td>NaN</td>\n      <td>20722.0</td>\n    </tr>\n    <tr>\n      <th>6328</th>\n      <td>2002-04-26</td>\n      <td>NaN</td>\n      <td>NaN</td>\n      <td>21135.0</td>\n    </tr>\n    <tr>\n      <th>6329</th>\n      <td>2005-12-31</td>\n      <td>NaN</td>\n      <td>NaN</td>\n      <td>5471.0</td>\n    </tr>\n  </tbody>\n</table>\n<p>6330 rows × 4 columns</p>\n</div>"
     },
     "metadata": {},
     "execution_count": 23
    }
   ],
   "source": [
    "# Merging the data\n",
    "data = data.merge(base_monetaria, how='outer', on='fecha').reset_index(drop=True)\n",
    "data"
   ]
  },
  {
   "cell_type": "markdown",
   "id": "dea4f454",
   "metadata": {},
   "source": [
    "### Reservas Internacionales <a class=\"anchor\" id=\"reservas\"> </a>"
   ]
  },
  {
   "cell_type": "code",
   "execution_count": 24,
   "id": "89975d3e",
   "metadata": {},
   "outputs": [
    {
     "output_type": "stream",
     "name": "stdout",
     "text": [
      "fecha     object\nvalor    float64\ndtype: object\n"
     ]
    },
    {
     "output_type": "execute_result",
     "data": {
      "text/plain": [
       "           fecha   valor\n",
       "0     12/01/1996  17.677\n",
       "1     15/01/1996  17.710\n",
       "2     16/01/1996  17.405\n",
       "3     17/01/1996  17.450\n",
       "4     18/01/1996  17.457\n",
       "...          ...     ...\n",
       "6248  06/05/2021  40.300\n",
       "6249  07/05/2021  40.454\n",
       "6250  10/05/2021  40.616\n",
       "6251  11/05/2021  40.762\n",
       "6252  12/05/2021  40.880\n",
       "\n",
       "[6253 rows x 2 columns]"
      ],
      "text/html": "<div>\n<style scoped>\n    .dataframe tbody tr th:only-of-type {\n        vertical-align: middle;\n    }\n\n    .dataframe tbody tr th {\n        vertical-align: top;\n    }\n\n    .dataframe thead th {\n        text-align: right;\n    }\n</style>\n<table border=\"1\" class=\"dataframe\">\n  <thead>\n    <tr style=\"text-align: right;\">\n      <th></th>\n      <th>fecha</th>\n      <th>valor</th>\n    </tr>\n  </thead>\n  <tbody>\n    <tr>\n      <th>0</th>\n      <td>12/01/1996</td>\n      <td>17.677</td>\n    </tr>\n    <tr>\n      <th>1</th>\n      <td>15/01/1996</td>\n      <td>17.710</td>\n    </tr>\n    <tr>\n      <th>2</th>\n      <td>16/01/1996</td>\n      <td>17.405</td>\n    </tr>\n    <tr>\n      <th>3</th>\n      <td>17/01/1996</td>\n      <td>17.450</td>\n    </tr>\n    <tr>\n      <th>4</th>\n      <td>18/01/1996</td>\n      <td>17.457</td>\n    </tr>\n    <tr>\n      <th>...</th>\n      <td>...</td>\n      <td>...</td>\n    </tr>\n    <tr>\n      <th>6248</th>\n      <td>06/05/2021</td>\n      <td>40.300</td>\n    </tr>\n    <tr>\n      <th>6249</th>\n      <td>07/05/2021</td>\n      <td>40.454</td>\n    </tr>\n    <tr>\n      <th>6250</th>\n      <td>10/05/2021</td>\n      <td>40.616</td>\n    </tr>\n    <tr>\n      <th>6251</th>\n      <td>11/05/2021</td>\n      <td>40.762</td>\n    </tr>\n    <tr>\n      <th>6252</th>\n      <td>12/05/2021</td>\n      <td>40.880</td>\n    </tr>\n  </tbody>\n</table>\n<p>6253 rows × 2 columns</p>\n</div>"
     },
     "metadata": {},
     "execution_count": 24
    }
   ],
   "source": [
    "# Reading the file\n",
    "reservas = load_bcra_data('BCRA/Reservas.csv')\n",
    "print(reservas.dtypes)\n",
    "reservas"
   ]
  },
  {
   "cell_type": "code",
   "execution_count": 25,
   "id": "2dd76e61",
   "metadata": {},
   "outputs": [
    {
     "output_type": "execute_result",
     "data": {
      "text/plain": [
       "fecha    datetime64[ns]\n",
       "valor           float64\n",
       "dtype: object"
      ]
     },
     "metadata": {},
     "execution_count": 25
    }
   ],
   "source": [
    "# Changing columns to the correct datatype\n",
    "reservas['valor'] = reservas['valor'] * 1000\n",
    "reservas['fecha'] = pd.to_datetime(reservas['fecha'], format='%d/%m/%Y')\n",
    "reservas.dtypes"
   ]
  },
  {
   "cell_type": "code",
   "execution_count": 26,
   "id": "5757f182-3774-4d9e-9ae7-05a0204b3ef3",
   "metadata": {},
   "outputs": [
    {
     "output_type": "execute_result",
     "data": {
      "text/plain": [
       "          fecha  reservas\n",
       "0    1996-01-12   17677.0\n",
       "1    1996-01-15   17710.0\n",
       "2    1996-01-16   17405.0\n",
       "3    1996-01-17   17450.0\n",
       "4    1996-01-18   17457.0\n",
       "...         ...       ...\n",
       "6248 2021-05-06   40300.0\n",
       "6249 2021-05-07   40454.0\n",
       "6250 2021-05-10   40616.0\n",
       "6251 2021-05-11   40762.0\n",
       "6252 2021-05-12   40880.0\n",
       "\n",
       "[6253 rows x 2 columns]"
      ],
      "text/html": "<div>\n<style scoped>\n    .dataframe tbody tr th:only-of-type {\n        vertical-align: middle;\n    }\n\n    .dataframe tbody tr th {\n        vertical-align: top;\n    }\n\n    .dataframe thead th {\n        text-align: right;\n    }\n</style>\n<table border=\"1\" class=\"dataframe\">\n  <thead>\n    <tr style=\"text-align: right;\">\n      <th></th>\n      <th>fecha</th>\n      <th>reservas</th>\n    </tr>\n  </thead>\n  <tbody>\n    <tr>\n      <th>0</th>\n      <td>1996-01-12</td>\n      <td>17677.0</td>\n    </tr>\n    <tr>\n      <th>1</th>\n      <td>1996-01-15</td>\n      <td>17710.0</td>\n    </tr>\n    <tr>\n      <th>2</th>\n      <td>1996-01-16</td>\n      <td>17405.0</td>\n    </tr>\n    <tr>\n      <th>3</th>\n      <td>1996-01-17</td>\n      <td>17450.0</td>\n    </tr>\n    <tr>\n      <th>4</th>\n      <td>1996-01-18</td>\n      <td>17457.0</td>\n    </tr>\n    <tr>\n      <th>...</th>\n      <td>...</td>\n      <td>...</td>\n    </tr>\n    <tr>\n      <th>6248</th>\n      <td>2021-05-06</td>\n      <td>40300.0</td>\n    </tr>\n    <tr>\n      <th>6249</th>\n      <td>2021-05-07</td>\n      <td>40454.0</td>\n    </tr>\n    <tr>\n      <th>6250</th>\n      <td>2021-05-10</td>\n      <td>40616.0</td>\n    </tr>\n    <tr>\n      <th>6251</th>\n      <td>2021-05-11</td>\n      <td>40762.0</td>\n    </tr>\n    <tr>\n      <th>6252</th>\n      <td>2021-05-12</td>\n      <td>40880.0</td>\n    </tr>\n  </tbody>\n</table>\n<p>6253 rows × 2 columns</p>\n</div>"
     },
     "metadata": {},
     "execution_count": 26
    }
   ],
   "source": [
    "# Changing column names\n",
    "reservas.columns = ['fecha', 'reservas'] \n",
    "reservas"
   ]
  },
  {
   "cell_type": "code",
   "execution_count": 27,
   "id": "b6167f54",
   "metadata": {},
   "outputs": [
    {
     "output_type": "execute_result",
     "data": {
      "text/plain": [
       "          fecha  rem  badlar  base_monetaria  reservas\n",
       "0    1999-01-04  NaN  9.0625         16412.0   32947.0\n",
       "1    1999-01-05  NaN  8.8125         16293.0   33043.0\n",
       "2    1999-01-06  NaN  8.8125         16249.0   33130.0\n",
       "3    1999-01-07  NaN  8.7500         16277.0   33555.0\n",
       "4    1999-01-08  NaN  8.4375         16286.0   33555.0\n",
       "...         ...  ...     ...             ...       ...\n",
       "6325 2002-04-23  NaN     NaN         20517.0   12316.0\n",
       "6326 2002-04-24  NaN     NaN         20618.0   12316.0\n",
       "6327 2002-04-25  NaN     NaN         20722.0   12317.0\n",
       "6328 2002-04-26  NaN     NaN         21135.0   12317.0\n",
       "6329 2005-12-31  NaN     NaN          5471.0   28077.0\n",
       "\n",
       "[6330 rows x 5 columns]"
      ],
      "text/html": "<div>\n<style scoped>\n    .dataframe tbody tr th:only-of-type {\n        vertical-align: middle;\n    }\n\n    .dataframe tbody tr th {\n        vertical-align: top;\n    }\n\n    .dataframe thead th {\n        text-align: right;\n    }\n</style>\n<table border=\"1\" class=\"dataframe\">\n  <thead>\n    <tr style=\"text-align: right;\">\n      <th></th>\n      <th>fecha</th>\n      <th>rem</th>\n      <th>badlar</th>\n      <th>base_monetaria</th>\n      <th>reservas</th>\n    </tr>\n  </thead>\n  <tbody>\n    <tr>\n      <th>0</th>\n      <td>1999-01-04</td>\n      <td>NaN</td>\n      <td>9.0625</td>\n      <td>16412.0</td>\n      <td>32947.0</td>\n    </tr>\n    <tr>\n      <th>1</th>\n      <td>1999-01-05</td>\n      <td>NaN</td>\n      <td>8.8125</td>\n      <td>16293.0</td>\n      <td>33043.0</td>\n    </tr>\n    <tr>\n      <th>2</th>\n      <td>1999-01-06</td>\n      <td>NaN</td>\n      <td>8.8125</td>\n      <td>16249.0</td>\n      <td>33130.0</td>\n    </tr>\n    <tr>\n      <th>3</th>\n      <td>1999-01-07</td>\n      <td>NaN</td>\n      <td>8.7500</td>\n      <td>16277.0</td>\n      <td>33555.0</td>\n    </tr>\n    <tr>\n      <th>4</th>\n      <td>1999-01-08</td>\n      <td>NaN</td>\n      <td>8.4375</td>\n      <td>16286.0</td>\n      <td>33555.0</td>\n    </tr>\n    <tr>\n      <th>...</th>\n      <td>...</td>\n      <td>...</td>\n      <td>...</td>\n      <td>...</td>\n      <td>...</td>\n    </tr>\n    <tr>\n      <th>6325</th>\n      <td>2002-04-23</td>\n      <td>NaN</td>\n      <td>NaN</td>\n      <td>20517.0</td>\n      <td>12316.0</td>\n    </tr>\n    <tr>\n      <th>6326</th>\n      <td>2002-04-24</td>\n      <td>NaN</td>\n      <td>NaN</td>\n      <td>20618.0</td>\n      <td>12316.0</td>\n    </tr>\n    <tr>\n      <th>6327</th>\n      <td>2002-04-25</td>\n      <td>NaN</td>\n      <td>NaN</td>\n      <td>20722.0</td>\n      <td>12317.0</td>\n    </tr>\n    <tr>\n      <th>6328</th>\n      <td>2002-04-26</td>\n      <td>NaN</td>\n      <td>NaN</td>\n      <td>21135.0</td>\n      <td>12317.0</td>\n    </tr>\n    <tr>\n      <th>6329</th>\n      <td>2005-12-31</td>\n      <td>NaN</td>\n      <td>NaN</td>\n      <td>5471.0</td>\n      <td>28077.0</td>\n    </tr>\n  </tbody>\n</table>\n<p>6330 rows × 5 columns</p>\n</div>"
     },
     "metadata": {},
     "execution_count": 27
    }
   ],
   "source": [
    "# Merging the data\n",
    "data = data.merge(reservas, how='outer', on='fecha').reset_index(drop=True)\n",
    "data"
   ]
  },
  {
   "cell_type": "markdown",
   "id": "ead08204",
   "metadata": {},
   "source": [
    "### Tipo de Cambio Mayorista <a class=\"anchor\" id=\"mayorista\"> </a>"
   ]
  },
  {
   "cell_type": "code",
   "execution_count": 28,
   "id": "88d9c46d",
   "metadata": {},
   "outputs": [
    {
     "output_type": "stream",
     "name": "stdout",
     "text": [
      "fecha    object\nvalor    object\ndtype: object\n"
     ]
    },
    {
     "output_type": "execute_result",
     "data": {
      "text/plain": [
       "           fecha  valor\n",
       "0     14/03/2002   2,37\n",
       "1     15/03/2002   2,34\n",
       "2     18/03/2002   2,32\n",
       "3     19/03/2002   2,38\n",
       "4     20/03/2002   2,43\n",
       "...          ...    ...\n",
       "4704  10/05/2021  93,93\n",
       "4705  11/05/2021  93,96\n",
       "4706  12/05/2021  93,99\n",
       "4707  13/05/2021  94,02\n",
       "4708  14/05/2021  94,05\n",
       "\n",
       "[4709 rows x 2 columns]"
      ],
      "text/html": "<div>\n<style scoped>\n    .dataframe tbody tr th:only-of-type {\n        vertical-align: middle;\n    }\n\n    .dataframe tbody tr th {\n        vertical-align: top;\n    }\n\n    .dataframe thead th {\n        text-align: right;\n    }\n</style>\n<table border=\"1\" class=\"dataframe\">\n  <thead>\n    <tr style=\"text-align: right;\">\n      <th></th>\n      <th>fecha</th>\n      <th>valor</th>\n    </tr>\n  </thead>\n  <tbody>\n    <tr>\n      <th>0</th>\n      <td>14/03/2002</td>\n      <td>2,37</td>\n    </tr>\n    <tr>\n      <th>1</th>\n      <td>15/03/2002</td>\n      <td>2,34</td>\n    </tr>\n    <tr>\n      <th>2</th>\n      <td>18/03/2002</td>\n      <td>2,32</td>\n    </tr>\n    <tr>\n      <th>3</th>\n      <td>19/03/2002</td>\n      <td>2,38</td>\n    </tr>\n    <tr>\n      <th>4</th>\n      <td>20/03/2002</td>\n      <td>2,43</td>\n    </tr>\n    <tr>\n      <th>...</th>\n      <td>...</td>\n      <td>...</td>\n    </tr>\n    <tr>\n      <th>4704</th>\n      <td>10/05/2021</td>\n      <td>93,93</td>\n    </tr>\n    <tr>\n      <th>4705</th>\n      <td>11/05/2021</td>\n      <td>93,96</td>\n    </tr>\n    <tr>\n      <th>4706</th>\n      <td>12/05/2021</td>\n      <td>93,99</td>\n    </tr>\n    <tr>\n      <th>4707</th>\n      <td>13/05/2021</td>\n      <td>94,02</td>\n    </tr>\n    <tr>\n      <th>4708</th>\n      <td>14/05/2021</td>\n      <td>94,05</td>\n    </tr>\n  </tbody>\n</table>\n<p>4709 rows × 2 columns</p>\n</div>"
     },
     "metadata": {},
     "execution_count": 28
    }
   ],
   "source": [
    "# Reading the file\n",
    "dolar_mayor = load_bcra_data('BCRA/Dolar Mayorista.csv')\n",
    "print(dolar_mayor.dtypes)\n",
    "dolar_mayor"
   ]
  },
  {
   "cell_type": "code",
   "execution_count": 29,
   "id": "4eff0690",
   "metadata": {},
   "outputs": [
    {
     "output_type": "stream",
     "name": "stdout",
     "text": [
      "fecha    datetime64[ns]\nvalor           float32\ndtype: object\n"
     ]
    }
   ],
   "source": [
    "# Changing the column to the correct datatype\n",
    "dolar_mayor['fecha'] = pd.to_datetime(dolar_mayor['fecha'], format='%d/%m/%Y')\n",
    "dolar_mayor['valor'] = convert_str_to_float(dolar_mayor['valor'])\n",
    "print(dolar_mayor.dtypes)"
   ]
  },
  {
   "cell_type": "code",
   "execution_count": 30,
   "id": "3e0deeb0-f60c-48e6-a0b0-7e9cb471f147",
   "metadata": {},
   "outputs": [
    {
     "output_type": "execute_result",
     "data": {
      "text/plain": [
       "          fecha  dolar_mayor\n",
       "0    2002-03-14     2.370000\n",
       "1    2002-03-15     2.340000\n",
       "2    2002-03-18     2.320000\n",
       "3    2002-03-19     2.380000\n",
       "4    2002-03-20     2.430000\n",
       "...         ...          ...\n",
       "4704 2021-05-10    93.930000\n",
       "4705 2021-05-11    93.959999\n",
       "4706 2021-05-12    93.989998\n",
       "4707 2021-05-13    94.019997\n",
       "4708 2021-05-14    94.050003\n",
       "\n",
       "[4709 rows x 2 columns]"
      ],
      "text/html": "<div>\n<style scoped>\n    .dataframe tbody tr th:only-of-type {\n        vertical-align: middle;\n    }\n\n    .dataframe tbody tr th {\n        vertical-align: top;\n    }\n\n    .dataframe thead th {\n        text-align: right;\n    }\n</style>\n<table border=\"1\" class=\"dataframe\">\n  <thead>\n    <tr style=\"text-align: right;\">\n      <th></th>\n      <th>fecha</th>\n      <th>dolar_mayor</th>\n    </tr>\n  </thead>\n  <tbody>\n    <tr>\n      <th>0</th>\n      <td>2002-03-14</td>\n      <td>2.370000</td>\n    </tr>\n    <tr>\n      <th>1</th>\n      <td>2002-03-15</td>\n      <td>2.340000</td>\n    </tr>\n    <tr>\n      <th>2</th>\n      <td>2002-03-18</td>\n      <td>2.320000</td>\n    </tr>\n    <tr>\n      <th>3</th>\n      <td>2002-03-19</td>\n      <td>2.380000</td>\n    </tr>\n    <tr>\n      <th>4</th>\n      <td>2002-03-20</td>\n      <td>2.430000</td>\n    </tr>\n    <tr>\n      <th>...</th>\n      <td>...</td>\n      <td>...</td>\n    </tr>\n    <tr>\n      <th>4704</th>\n      <td>2021-05-10</td>\n      <td>93.930000</td>\n    </tr>\n    <tr>\n      <th>4705</th>\n      <td>2021-05-11</td>\n      <td>93.959999</td>\n    </tr>\n    <tr>\n      <th>4706</th>\n      <td>2021-05-12</td>\n      <td>93.989998</td>\n    </tr>\n    <tr>\n      <th>4707</th>\n      <td>2021-05-13</td>\n      <td>94.019997</td>\n    </tr>\n    <tr>\n      <th>4708</th>\n      <td>2021-05-14</td>\n      <td>94.050003</td>\n    </tr>\n  </tbody>\n</table>\n<p>4709 rows × 2 columns</p>\n</div>"
     },
     "metadata": {},
     "execution_count": 30
    }
   ],
   "source": [
    "# Changing column names\n",
    "dolar_mayor.columns = ['fecha', 'dolar_mayor']\n",
    "dolar_mayor"
   ]
  },
  {
   "cell_type": "code",
   "execution_count": 31,
   "id": "76b1ac3d",
   "metadata": {},
   "outputs": [
    {
     "output_type": "execute_result",
     "data": {
      "text/plain": [
       "          fecha  rem  badlar  base_monetaria  reservas  dolar_mayor\n",
       "0    1999-01-04  NaN  9.0625         16412.0   32947.0          NaN\n",
       "1    1999-01-05  NaN  8.8125         16293.0   33043.0          NaN\n",
       "2    1999-01-06  NaN  8.8125         16249.0   33130.0          NaN\n",
       "3    1999-01-07  NaN  8.7500         16277.0   33555.0          NaN\n",
       "4    1999-01-08  NaN  8.4375         16286.0   33555.0          NaN\n",
       "...         ...  ...     ...             ...       ...          ...\n",
       "6326 2002-04-24  NaN     NaN         20618.0   12316.0          NaN\n",
       "6327 2002-04-25  NaN     NaN         20722.0   12317.0          NaN\n",
       "6328 2002-04-26  NaN     NaN         21135.0   12317.0          NaN\n",
       "6329 2005-12-31  NaN     NaN          5471.0   28077.0     3.030000\n",
       "6330 2021-05-14  NaN     NaN             NaN       NaN    94.050003\n",
       "\n",
       "[6331 rows x 6 columns]"
      ],
      "text/html": "<div>\n<style scoped>\n    .dataframe tbody tr th:only-of-type {\n        vertical-align: middle;\n    }\n\n    .dataframe tbody tr th {\n        vertical-align: top;\n    }\n\n    .dataframe thead th {\n        text-align: right;\n    }\n</style>\n<table border=\"1\" class=\"dataframe\">\n  <thead>\n    <tr style=\"text-align: right;\">\n      <th></th>\n      <th>fecha</th>\n      <th>rem</th>\n      <th>badlar</th>\n      <th>base_monetaria</th>\n      <th>reservas</th>\n      <th>dolar_mayor</th>\n    </tr>\n  </thead>\n  <tbody>\n    <tr>\n      <th>0</th>\n      <td>1999-01-04</td>\n      <td>NaN</td>\n      <td>9.0625</td>\n      <td>16412.0</td>\n      <td>32947.0</td>\n      <td>NaN</td>\n    </tr>\n    <tr>\n      <th>1</th>\n      <td>1999-01-05</td>\n      <td>NaN</td>\n      <td>8.8125</td>\n      <td>16293.0</td>\n      <td>33043.0</td>\n      <td>NaN</td>\n    </tr>\n    <tr>\n      <th>2</th>\n      <td>1999-01-06</td>\n      <td>NaN</td>\n      <td>8.8125</td>\n      <td>16249.0</td>\n      <td>33130.0</td>\n      <td>NaN</td>\n    </tr>\n    <tr>\n      <th>3</th>\n      <td>1999-01-07</td>\n      <td>NaN</td>\n      <td>8.7500</td>\n      <td>16277.0</td>\n      <td>33555.0</td>\n      <td>NaN</td>\n    </tr>\n    <tr>\n      <th>4</th>\n      <td>1999-01-08</td>\n      <td>NaN</td>\n      <td>8.4375</td>\n      <td>16286.0</td>\n      <td>33555.0</td>\n      <td>NaN</td>\n    </tr>\n    <tr>\n      <th>...</th>\n      <td>...</td>\n      <td>...</td>\n      <td>...</td>\n      <td>...</td>\n      <td>...</td>\n      <td>...</td>\n    </tr>\n    <tr>\n      <th>6326</th>\n      <td>2002-04-24</td>\n      <td>NaN</td>\n      <td>NaN</td>\n      <td>20618.0</td>\n      <td>12316.0</td>\n      <td>NaN</td>\n    </tr>\n    <tr>\n      <th>6327</th>\n      <td>2002-04-25</td>\n      <td>NaN</td>\n      <td>NaN</td>\n      <td>20722.0</td>\n      <td>12317.0</td>\n      <td>NaN</td>\n    </tr>\n    <tr>\n      <th>6328</th>\n      <td>2002-04-26</td>\n      <td>NaN</td>\n      <td>NaN</td>\n      <td>21135.0</td>\n      <td>12317.0</td>\n      <td>NaN</td>\n    </tr>\n    <tr>\n      <th>6329</th>\n      <td>2005-12-31</td>\n      <td>NaN</td>\n      <td>NaN</td>\n      <td>5471.0</td>\n      <td>28077.0</td>\n      <td>3.030000</td>\n    </tr>\n    <tr>\n      <th>6330</th>\n      <td>2021-05-14</td>\n      <td>NaN</td>\n      <td>NaN</td>\n      <td>NaN</td>\n      <td>NaN</td>\n      <td>94.050003</td>\n    </tr>\n  </tbody>\n</table>\n<p>6331 rows × 6 columns</p>\n</div>"
     },
     "metadata": {},
     "execution_count": 31
    }
   ],
   "source": [
    "# Merging the data\n",
    "data = data.merge(dolar_mayor, how='outer', on='fecha').reset_index(drop=True)\n",
    "data"
   ]
  },
  {
   "cell_type": "markdown",
   "id": "7c797d76",
   "metadata": {},
   "source": [
    "## Data From Ambito Financiero <a class=\"anchor\" id=\"ambito\"> </a>\n",
    "### Tipo de Cambio Informal <a class=\"anchor\" id=\"informal\"> </a>"
   ]
  },
  {
   "cell_type": "code",
   "execution_count": 32,
   "id": "ffec7140",
   "metadata": {},
   "outputs": [
    {
     "output_type": "execute_result",
     "data": {
      "text/plain": [
       "           Fecha  Compra   Venta\n",
       "0     14-05-2021  148,00  153,00\n",
       "1     13-05-2021  146,00  151,00\n",
       "2     12-05-2021  147,00  152,00\n",
       "3     11-05-2021  146,00  151,00\n",
       "4     10-05-2021  147,00  152,00\n",
       "...          ...     ...     ...\n",
       "4799  17-01-2002    1,92    1,97\n",
       "4800  16-01-2002    1,83    1,87\n",
       "4801  15-01-2002    1,90    1,95\n",
       "4802  14-01-2002    1,63    1,68\n",
       "4803  11-01-2002    1,65    1,70\n",
       "\n",
       "[4804 rows x 3 columns]"
      ],
      "text/html": "<div>\n<style scoped>\n    .dataframe tbody tr th:only-of-type {\n        vertical-align: middle;\n    }\n\n    .dataframe tbody tr th {\n        vertical-align: top;\n    }\n\n    .dataframe thead th {\n        text-align: right;\n    }\n</style>\n<table border=\"1\" class=\"dataframe\">\n  <thead>\n    <tr style=\"text-align: right;\">\n      <th></th>\n      <th>Fecha</th>\n      <th>Compra</th>\n      <th>Venta</th>\n    </tr>\n  </thead>\n  <tbody>\n    <tr>\n      <th>0</th>\n      <td>14-05-2021</td>\n      <td>148,00</td>\n      <td>153,00</td>\n    </tr>\n    <tr>\n      <th>1</th>\n      <td>13-05-2021</td>\n      <td>146,00</td>\n      <td>151,00</td>\n    </tr>\n    <tr>\n      <th>2</th>\n      <td>12-05-2021</td>\n      <td>147,00</td>\n      <td>152,00</td>\n    </tr>\n    <tr>\n      <th>3</th>\n      <td>11-05-2021</td>\n      <td>146,00</td>\n      <td>151,00</td>\n    </tr>\n    <tr>\n      <th>4</th>\n      <td>10-05-2021</td>\n      <td>147,00</td>\n      <td>152,00</td>\n    </tr>\n    <tr>\n      <th>...</th>\n      <td>...</td>\n      <td>...</td>\n      <td>...</td>\n    </tr>\n    <tr>\n      <th>4799</th>\n      <td>17-01-2002</td>\n      <td>1,92</td>\n      <td>1,97</td>\n    </tr>\n    <tr>\n      <th>4800</th>\n      <td>16-01-2002</td>\n      <td>1,83</td>\n      <td>1,87</td>\n    </tr>\n    <tr>\n      <th>4801</th>\n      <td>15-01-2002</td>\n      <td>1,90</td>\n      <td>1,95</td>\n    </tr>\n    <tr>\n      <th>4802</th>\n      <td>14-01-2002</td>\n      <td>1,63</td>\n      <td>1,68</td>\n    </tr>\n    <tr>\n      <th>4803</th>\n      <td>11-01-2002</td>\n      <td>1,65</td>\n      <td>1,70</td>\n    </tr>\n  </tbody>\n</table>\n<p>4804 rows × 3 columns</p>\n</div>"
     },
     "metadata": {},
     "execution_count": 32
    }
   ],
   "source": [
    "# Reading the data\n",
    "dolar_informal = pd.read_csv('Ambito/Dolar Informal.csv')\n",
    "dolar_informal"
   ]
  },
  {
   "cell_type": "code",
   "execution_count": 33,
   "id": "10845eb8",
   "metadata": {},
   "outputs": [
    {
     "output_type": "execute_result",
     "data": {
      "text/plain": [
       "           Fecha  Compra   Venta\n",
       "0     14-05-2021  148.00  153.00\n",
       "1     13-05-2021  146.00  151.00\n",
       "2     12-05-2021  147.00  152.00\n",
       "3     11-05-2021  146.00  151.00\n",
       "4     10-05-2021  147.00  152.00\n",
       "...          ...     ...     ...\n",
       "4799  17-01-2002    1.92    1.97\n",
       "4800  16-01-2002    1.83    1.87\n",
       "4801  15-01-2002    1.90    1.95\n",
       "4802  14-01-2002    1.63    1.68\n",
       "4803  11-01-2002    1.65    1.70\n",
       "\n",
       "[4804 rows x 3 columns]"
      ],
      "text/html": "<div>\n<style scoped>\n    .dataframe tbody tr th:only-of-type {\n        vertical-align: middle;\n    }\n\n    .dataframe tbody tr th {\n        vertical-align: top;\n    }\n\n    .dataframe thead th {\n        text-align: right;\n    }\n</style>\n<table border=\"1\" class=\"dataframe\">\n  <thead>\n    <tr style=\"text-align: right;\">\n      <th></th>\n      <th>Fecha</th>\n      <th>Compra</th>\n      <th>Venta</th>\n    </tr>\n  </thead>\n  <tbody>\n    <tr>\n      <th>0</th>\n      <td>14-05-2021</td>\n      <td>148.00</td>\n      <td>153.00</td>\n    </tr>\n    <tr>\n      <th>1</th>\n      <td>13-05-2021</td>\n      <td>146.00</td>\n      <td>151.00</td>\n    </tr>\n    <tr>\n      <th>2</th>\n      <td>12-05-2021</td>\n      <td>147.00</td>\n      <td>152.00</td>\n    </tr>\n    <tr>\n      <th>3</th>\n      <td>11-05-2021</td>\n      <td>146.00</td>\n      <td>151.00</td>\n    </tr>\n    <tr>\n      <th>4</th>\n      <td>10-05-2021</td>\n      <td>147.00</td>\n      <td>152.00</td>\n    </tr>\n    <tr>\n      <th>...</th>\n      <td>...</td>\n      <td>...</td>\n      <td>...</td>\n    </tr>\n    <tr>\n      <th>4799</th>\n      <td>17-01-2002</td>\n      <td>1.92</td>\n      <td>1.97</td>\n    </tr>\n    <tr>\n      <th>4800</th>\n      <td>16-01-2002</td>\n      <td>1.83</td>\n      <td>1.87</td>\n    </tr>\n    <tr>\n      <th>4801</th>\n      <td>15-01-2002</td>\n      <td>1.90</td>\n      <td>1.95</td>\n    </tr>\n    <tr>\n      <th>4802</th>\n      <td>14-01-2002</td>\n      <td>1.63</td>\n      <td>1.68</td>\n    </tr>\n    <tr>\n      <th>4803</th>\n      <td>11-01-2002</td>\n      <td>1.65</td>\n      <td>1.70</td>\n    </tr>\n  </tbody>\n</table>\n<p>4804 rows × 3 columns</p>\n</div>"
     },
     "metadata": {},
     "execution_count": 33
    }
   ],
   "source": [
    "# Converting the \"Compra\" and \"Venta\" columns to the correct datatype\n",
    "dolar_informal['Compra'] = convert_str_to_float(dolar_informal['Compra'])\n",
    "dolar_informal['Venta'] = convert_str_to_float(dolar_informal['Venta'])\n",
    "dolar_informal"
   ]
  },
  {
   "cell_type": "code",
   "execution_count": 34,
   "id": "d37729ad",
   "metadata": {},
   "outputs": [
    {
     "output_type": "execute_result",
     "data": {
      "text/plain": [
       "           Fecha  Compra   Venta  dolar_informal\n",
       "0     14-05-2021  148.00  153.00         150.500\n",
       "1     13-05-2021  146.00  151.00         148.500\n",
       "2     12-05-2021  147.00  152.00         149.500\n",
       "3     11-05-2021  146.00  151.00         148.500\n",
       "4     10-05-2021  147.00  152.00         149.500\n",
       "...          ...     ...     ...             ...\n",
       "4799  17-01-2002    1.92    1.97           1.945\n",
       "4800  16-01-2002    1.83    1.87           1.850\n",
       "4801  15-01-2002    1.90    1.95           1.925\n",
       "4802  14-01-2002    1.63    1.68           1.655\n",
       "4803  11-01-2002    1.65    1.70           1.675\n",
       "\n",
       "[4804 rows x 4 columns]"
      ],
      "text/html": "<div>\n<style scoped>\n    .dataframe tbody tr th:only-of-type {\n        vertical-align: middle;\n    }\n\n    .dataframe tbody tr th {\n        vertical-align: top;\n    }\n\n    .dataframe thead th {\n        text-align: right;\n    }\n</style>\n<table border=\"1\" class=\"dataframe\">\n  <thead>\n    <tr style=\"text-align: right;\">\n      <th></th>\n      <th>Fecha</th>\n      <th>Compra</th>\n      <th>Venta</th>\n      <th>dolar_informal</th>\n    </tr>\n  </thead>\n  <tbody>\n    <tr>\n      <th>0</th>\n      <td>14-05-2021</td>\n      <td>148.00</td>\n      <td>153.00</td>\n      <td>150.500</td>\n    </tr>\n    <tr>\n      <th>1</th>\n      <td>13-05-2021</td>\n      <td>146.00</td>\n      <td>151.00</td>\n      <td>148.500</td>\n    </tr>\n    <tr>\n      <th>2</th>\n      <td>12-05-2021</td>\n      <td>147.00</td>\n      <td>152.00</td>\n      <td>149.500</td>\n    </tr>\n    <tr>\n      <th>3</th>\n      <td>11-05-2021</td>\n      <td>146.00</td>\n      <td>151.00</td>\n      <td>148.500</td>\n    </tr>\n    <tr>\n      <th>4</th>\n      <td>10-05-2021</td>\n      <td>147.00</td>\n      <td>152.00</td>\n      <td>149.500</td>\n    </tr>\n    <tr>\n      <th>...</th>\n      <td>...</td>\n      <td>...</td>\n      <td>...</td>\n      <td>...</td>\n    </tr>\n    <tr>\n      <th>4799</th>\n      <td>17-01-2002</td>\n      <td>1.92</td>\n      <td>1.97</td>\n      <td>1.945</td>\n    </tr>\n    <tr>\n      <th>4800</th>\n      <td>16-01-2002</td>\n      <td>1.83</td>\n      <td>1.87</td>\n      <td>1.850</td>\n    </tr>\n    <tr>\n      <th>4801</th>\n      <td>15-01-2002</td>\n      <td>1.90</td>\n      <td>1.95</td>\n      <td>1.925</td>\n    </tr>\n    <tr>\n      <th>4802</th>\n      <td>14-01-2002</td>\n      <td>1.63</td>\n      <td>1.68</td>\n      <td>1.655</td>\n    </tr>\n    <tr>\n      <th>4803</th>\n      <td>11-01-2002</td>\n      <td>1.65</td>\n      <td>1.70</td>\n      <td>1.675</td>\n    </tr>\n  </tbody>\n</table>\n<p>4804 rows × 4 columns</p>\n</div>"
     },
     "metadata": {},
     "execution_count": 34
    }
   ],
   "source": [
    "# Taking the average between both values\n",
    "dolar_informal['dolar_informal'] = dolar_informal[['Compra', 'Venta']].mean(axis=1)\n",
    "dolar_informal"
   ]
  },
  {
   "cell_type": "code",
   "execution_count": 35,
   "id": "6a782453",
   "metadata": {},
   "outputs": [
    {
     "output_type": "execute_result",
     "data": {
      "text/plain": [
       "           fecha  dolar_informal\n",
       "0     14-05-2021         150.500\n",
       "1     13-05-2021         148.500\n",
       "2     12-05-2021         149.500\n",
       "3     11-05-2021         148.500\n",
       "4     10-05-2021         149.500\n",
       "...          ...             ...\n",
       "4799  17-01-2002           1.945\n",
       "4800  16-01-2002           1.850\n",
       "4801  15-01-2002           1.925\n",
       "4802  14-01-2002           1.655\n",
       "4803  11-01-2002           1.675\n",
       "\n",
       "[4804 rows x 2 columns]"
      ],
      "text/html": "<div>\n<style scoped>\n    .dataframe tbody tr th:only-of-type {\n        vertical-align: middle;\n    }\n\n    .dataframe tbody tr th {\n        vertical-align: top;\n    }\n\n    .dataframe thead th {\n        text-align: right;\n    }\n</style>\n<table border=\"1\" class=\"dataframe\">\n  <thead>\n    <tr style=\"text-align: right;\">\n      <th></th>\n      <th>fecha</th>\n      <th>dolar_informal</th>\n    </tr>\n  </thead>\n  <tbody>\n    <tr>\n      <th>0</th>\n      <td>14-05-2021</td>\n      <td>150.500</td>\n    </tr>\n    <tr>\n      <th>1</th>\n      <td>13-05-2021</td>\n      <td>148.500</td>\n    </tr>\n    <tr>\n      <th>2</th>\n      <td>12-05-2021</td>\n      <td>149.500</td>\n    </tr>\n    <tr>\n      <th>3</th>\n      <td>11-05-2021</td>\n      <td>148.500</td>\n    </tr>\n    <tr>\n      <th>4</th>\n      <td>10-05-2021</td>\n      <td>149.500</td>\n    </tr>\n    <tr>\n      <th>...</th>\n      <td>...</td>\n      <td>...</td>\n    </tr>\n    <tr>\n      <th>4799</th>\n      <td>17-01-2002</td>\n      <td>1.945</td>\n    </tr>\n    <tr>\n      <th>4800</th>\n      <td>16-01-2002</td>\n      <td>1.850</td>\n    </tr>\n    <tr>\n      <th>4801</th>\n      <td>15-01-2002</td>\n      <td>1.925</td>\n    </tr>\n    <tr>\n      <th>4802</th>\n      <td>14-01-2002</td>\n      <td>1.655</td>\n    </tr>\n    <tr>\n      <th>4803</th>\n      <td>11-01-2002</td>\n      <td>1.675</td>\n    </tr>\n  </tbody>\n</table>\n<p>4804 rows × 2 columns</p>\n</div>"
     },
     "metadata": {},
     "execution_count": 35
    }
   ],
   "source": [
    "# Dropping columns and renaming them\n",
    "dolar_informal =  dolar_informal.drop(columns=['Compra', 'Venta'])\n",
    "dolar_informal.columns = ['fecha', 'dolar_informal']\n",
    "dolar_informal"
   ]
  },
  {
   "cell_type": "code",
   "execution_count": 36,
   "id": "e3bbf8c2",
   "metadata": {},
   "outputs": [
    {
     "output_type": "execute_result",
     "data": {
      "text/plain": [
       "fecha             datetime64[ns]\n",
       "dolar_informal           float32\n",
       "dtype: object"
      ]
     },
     "metadata": {},
     "execution_count": 36
    }
   ],
   "source": [
    "# Changing the \"fecha column to datetime\"\n",
    "dolar_informal['fecha'] = pd.to_datetime(dolar_informal['fecha'], format='%d-%m-%Y')\n",
    "dolar_informal.dtypes"
   ]
  },
  {
   "cell_type": "code",
   "execution_count": 37,
   "id": "e3eb4082",
   "metadata": {},
   "outputs": [
    {
     "output_type": "execute_result",
     "data": {
      "text/plain": [
       "          fecha  dolar_informal\n",
       "0    2002-01-11           1.675\n",
       "1    2002-01-14           1.655\n",
       "2    2002-01-15           1.925\n",
       "3    2002-01-16           1.850\n",
       "4    2002-01-17           1.945\n",
       "...         ...             ...\n",
       "4799 2021-05-10         149.500\n",
       "4800 2021-05-11         148.500\n",
       "4801 2021-05-12         149.500\n",
       "4802 2021-05-13         148.500\n",
       "4803 2021-05-14         150.500\n",
       "\n",
       "[4804 rows x 2 columns]"
      ],
      "text/html": "<div>\n<style scoped>\n    .dataframe tbody tr th:only-of-type {\n        vertical-align: middle;\n    }\n\n    .dataframe tbody tr th {\n        vertical-align: top;\n    }\n\n    .dataframe thead th {\n        text-align: right;\n    }\n</style>\n<table border=\"1\" class=\"dataframe\">\n  <thead>\n    <tr style=\"text-align: right;\">\n      <th></th>\n      <th>fecha</th>\n      <th>dolar_informal</th>\n    </tr>\n  </thead>\n  <tbody>\n    <tr>\n      <th>0</th>\n      <td>2002-01-11</td>\n      <td>1.675</td>\n    </tr>\n    <tr>\n      <th>1</th>\n      <td>2002-01-14</td>\n      <td>1.655</td>\n    </tr>\n    <tr>\n      <th>2</th>\n      <td>2002-01-15</td>\n      <td>1.925</td>\n    </tr>\n    <tr>\n      <th>3</th>\n      <td>2002-01-16</td>\n      <td>1.850</td>\n    </tr>\n    <tr>\n      <th>4</th>\n      <td>2002-01-17</td>\n      <td>1.945</td>\n    </tr>\n    <tr>\n      <th>...</th>\n      <td>...</td>\n      <td>...</td>\n    </tr>\n    <tr>\n      <th>4799</th>\n      <td>2021-05-10</td>\n      <td>149.500</td>\n    </tr>\n    <tr>\n      <th>4800</th>\n      <td>2021-05-11</td>\n      <td>148.500</td>\n    </tr>\n    <tr>\n      <th>4801</th>\n      <td>2021-05-12</td>\n      <td>149.500</td>\n    </tr>\n    <tr>\n      <th>4802</th>\n      <td>2021-05-13</td>\n      <td>148.500</td>\n    </tr>\n    <tr>\n      <th>4803</th>\n      <td>2021-05-14</td>\n      <td>150.500</td>\n    </tr>\n  </tbody>\n</table>\n<p>4804 rows × 2 columns</p>\n</div>"
     },
     "metadata": {},
     "execution_count": 37
    }
   ],
   "source": [
    "# Sorting the values from earliest to latest\n",
    "dolar_informal = dolar_informal.sort_values('fecha').reset_index(drop=True)\n",
    "dolar_informal"
   ]
  },
  {
   "cell_type": "code",
   "execution_count": 38,
   "id": "a47bba09",
   "metadata": {},
   "outputs": [
    {
     "output_type": "execute_result",
     "data": {
      "text/plain": [
       "          fecha  rem   badlar  base_monetaria  reservas  dolar_mayor  \\\n",
       "5545 1996-01-02  NaN      NaN         13069.0       NaN          NaN   \n",
       "5546 1996-01-03  NaN      NaN          1297.0       NaN          NaN   \n",
       "5547 1996-01-04  NaN      NaN         13034.0       NaN          NaN   \n",
       "5548 1996-01-05  NaN      NaN         13097.0       NaN          NaN   \n",
       "5549 1996-01-08  NaN      NaN         13104.0       NaN          NaN   \n",
       "...         ...  ...      ...             ...       ...          ...   \n",
       "5541 2021-05-10  NaN  34.0000       2502577.0   40616.0    93.930000   \n",
       "5542 2021-05-11  NaN  34.1250       2545019.0   40762.0    93.959999   \n",
       "5543 2021-05-12  NaN  34.1875       2538706.0   40880.0    93.989998   \n",
       "5544 2021-05-13  NaN  34.1875             NaN       NaN    94.019997   \n",
       "6341 2021-05-14  NaN      NaN             NaN       NaN    94.050003   \n",
       "\n",
       "      dolar_informal  \n",
       "5545             NaN  \n",
       "5546             NaN  \n",
       "5547             NaN  \n",
       "5548             NaN  \n",
       "5549             NaN  \n",
       "...              ...  \n",
       "5541           149.5  \n",
       "5542           148.5  \n",
       "5543           149.5  \n",
       "5544           148.5  \n",
       "6341           150.5  \n",
       "\n",
       "[6403 rows x 7 columns]"
      ],
      "text/html": "<div>\n<style scoped>\n    .dataframe tbody tr th:only-of-type {\n        vertical-align: middle;\n    }\n\n    .dataframe tbody tr th {\n        vertical-align: top;\n    }\n\n    .dataframe thead th {\n        text-align: right;\n    }\n</style>\n<table border=\"1\" class=\"dataframe\">\n  <thead>\n    <tr style=\"text-align: right;\">\n      <th></th>\n      <th>fecha</th>\n      <th>rem</th>\n      <th>badlar</th>\n      <th>base_monetaria</th>\n      <th>reservas</th>\n      <th>dolar_mayor</th>\n      <th>dolar_informal</th>\n    </tr>\n  </thead>\n  <tbody>\n    <tr>\n      <th>5545</th>\n      <td>1996-01-02</td>\n      <td>NaN</td>\n      <td>NaN</td>\n      <td>13069.0</td>\n      <td>NaN</td>\n      <td>NaN</td>\n      <td>NaN</td>\n    </tr>\n    <tr>\n      <th>5546</th>\n      <td>1996-01-03</td>\n      <td>NaN</td>\n      <td>NaN</td>\n      <td>1297.0</td>\n      <td>NaN</td>\n      <td>NaN</td>\n      <td>NaN</td>\n    </tr>\n    <tr>\n      <th>5547</th>\n      <td>1996-01-04</td>\n      <td>NaN</td>\n      <td>NaN</td>\n      <td>13034.0</td>\n      <td>NaN</td>\n      <td>NaN</td>\n      <td>NaN</td>\n    </tr>\n    <tr>\n      <th>5548</th>\n      <td>1996-01-05</td>\n      <td>NaN</td>\n      <td>NaN</td>\n      <td>13097.0</td>\n      <td>NaN</td>\n      <td>NaN</td>\n      <td>NaN</td>\n    </tr>\n    <tr>\n      <th>5549</th>\n      <td>1996-01-08</td>\n      <td>NaN</td>\n      <td>NaN</td>\n      <td>13104.0</td>\n      <td>NaN</td>\n      <td>NaN</td>\n      <td>NaN</td>\n    </tr>\n    <tr>\n      <th>...</th>\n      <td>...</td>\n      <td>...</td>\n      <td>...</td>\n      <td>...</td>\n      <td>...</td>\n      <td>...</td>\n      <td>...</td>\n    </tr>\n    <tr>\n      <th>5541</th>\n      <td>2021-05-10</td>\n      <td>NaN</td>\n      <td>34.0000</td>\n      <td>2502577.0</td>\n      <td>40616.0</td>\n      <td>93.930000</td>\n      <td>149.5</td>\n    </tr>\n    <tr>\n      <th>5542</th>\n      <td>2021-05-11</td>\n      <td>NaN</td>\n      <td>34.1250</td>\n      <td>2545019.0</td>\n      <td>40762.0</td>\n      <td>93.959999</td>\n      <td>148.5</td>\n    </tr>\n    <tr>\n      <th>5543</th>\n      <td>2021-05-12</td>\n      <td>NaN</td>\n      <td>34.1875</td>\n      <td>2538706.0</td>\n      <td>40880.0</td>\n      <td>93.989998</td>\n      <td>149.5</td>\n    </tr>\n    <tr>\n      <th>5544</th>\n      <td>2021-05-13</td>\n      <td>NaN</td>\n      <td>34.1875</td>\n      <td>NaN</td>\n      <td>NaN</td>\n      <td>94.019997</td>\n      <td>148.5</td>\n    </tr>\n    <tr>\n      <th>6341</th>\n      <td>2021-05-14</td>\n      <td>NaN</td>\n      <td>NaN</td>\n      <td>NaN</td>\n      <td>NaN</td>\n      <td>94.050003</td>\n      <td>150.5</td>\n    </tr>\n  </tbody>\n</table>\n<p>6403 rows × 7 columns</p>\n</div>"
     },
     "metadata": {},
     "execution_count": 38
    }
   ],
   "source": [
    "# Merging the data\n",
    "data = data.merge(dolar_informal, how='outer', on='fecha').reset_index(drop=True)\n",
    "data = data.sort_values('fecha', axis=0)\n",
    "data"
   ]
  },
  {
   "cell_type": "markdown",
   "id": "5f1787e5",
   "metadata": {},
   "source": [
    "## Datos de Otras Fuentes <a class=\"anchor\" id=\"otros\"> </a>\n",
    "### Encuesta Expectativas Inflacion (UTDT) <a class=\"anchor\" id=\"utdt\"> </a>"
   ]
  },
  {
   "cell_type": "code",
   "execution_count": 39,
   "id": "b1e31d80",
   "metadata": {},
   "outputs": [
    {
     "output_type": "stream",
     "name": "stdout",
     "text": [
      "Unnamed: 0                         object\nMediana                           float64\nPromedio                          float64\nVariaci�n Mensual del Promedio     object\ndtype: object\n"
     ]
    },
    {
     "output_type": "execute_result",
     "data": {
      "text/plain": [
       "    Unnamed: 0  Mediana   Promedio Variaci�n Mensual del Promedio\n",
       "0     8/1/2006     10.0  13.732315                            NaN\n",
       "1    9/30/2006     10.0  11.885915                      -13.4457%\n",
       "2    10/1/2006     10.0  11.728203                       -1.3269%\n",
       "3    11/1/2006     10.0  12.726685                        8.5135%\n",
       "4    12/1/2006     10.0  13.863447                        8.9321%\n",
       "..         ...      ...        ...                            ...\n",
       "172  12/1/2020     40.0  42.854528                       -3.6577%\n",
       "173   1/1/2021     45.0  44.139414                        2.9983%\n",
       "174   2/1/2021     45.0  45.238070                        2.4891%\n",
       "175   3/1/2021     50.0  46.339870                        2.4356%\n",
       "176   4/1/2021     50.0  47.897966                        3.3623%\n",
       "\n",
       "[177 rows x 4 columns]"
      ],
      "text/html": "<div>\n<style scoped>\n    .dataframe tbody tr th:only-of-type {\n        vertical-align: middle;\n    }\n\n    .dataframe tbody tr th {\n        vertical-align: top;\n    }\n\n    .dataframe thead th {\n        text-align: right;\n    }\n</style>\n<table border=\"1\" class=\"dataframe\">\n  <thead>\n    <tr style=\"text-align: right;\">\n      <th></th>\n      <th>Unnamed: 0</th>\n      <th>Mediana</th>\n      <th>Promedio</th>\n      <th>Variaci�n Mensual del Promedio</th>\n    </tr>\n  </thead>\n  <tbody>\n    <tr>\n      <th>0</th>\n      <td>8/1/2006</td>\n      <td>10.0</td>\n      <td>13.732315</td>\n      <td>NaN</td>\n    </tr>\n    <tr>\n      <th>1</th>\n      <td>9/30/2006</td>\n      <td>10.0</td>\n      <td>11.885915</td>\n      <td>-13.4457%</td>\n    </tr>\n    <tr>\n      <th>2</th>\n      <td>10/1/2006</td>\n      <td>10.0</td>\n      <td>11.728203</td>\n      <td>-1.3269%</td>\n    </tr>\n    <tr>\n      <th>3</th>\n      <td>11/1/2006</td>\n      <td>10.0</td>\n      <td>12.726685</td>\n      <td>8.5135%</td>\n    </tr>\n    <tr>\n      <th>4</th>\n      <td>12/1/2006</td>\n      <td>10.0</td>\n      <td>13.863447</td>\n      <td>8.9321%</td>\n    </tr>\n    <tr>\n      <th>...</th>\n      <td>...</td>\n      <td>...</td>\n      <td>...</td>\n      <td>...</td>\n    </tr>\n    <tr>\n      <th>172</th>\n      <td>12/1/2020</td>\n      <td>40.0</td>\n      <td>42.854528</td>\n      <td>-3.6577%</td>\n    </tr>\n    <tr>\n      <th>173</th>\n      <td>1/1/2021</td>\n      <td>45.0</td>\n      <td>44.139414</td>\n      <td>2.9983%</td>\n    </tr>\n    <tr>\n      <th>174</th>\n      <td>2/1/2021</td>\n      <td>45.0</td>\n      <td>45.238070</td>\n      <td>2.4891%</td>\n    </tr>\n    <tr>\n      <th>175</th>\n      <td>3/1/2021</td>\n      <td>50.0</td>\n      <td>46.339870</td>\n      <td>2.4356%</td>\n    </tr>\n    <tr>\n      <th>176</th>\n      <td>4/1/2021</td>\n      <td>50.0</td>\n      <td>47.897966</td>\n      <td>3.3623%</td>\n    </tr>\n  </tbody>\n</table>\n<p>177 rows × 4 columns</p>\n</div>"
     },
     "metadata": {},
     "execution_count": 39
    }
   ],
   "source": [
    "# Reading the data\n",
    "utdt = pd.read_csv('Otros/Expectativas UTDT.csv')\n",
    "print(utdt.dtypes)\n",
    "utdt"
   ]
  },
  {
   "cell_type": "code",
   "execution_count": 40,
   "id": "414244d6-eeec-47ae-9159-98bd8015b800",
   "metadata": {},
   "outputs": [
    {
     "output_type": "execute_result",
     "data": {
      "text/plain": [
       "         fecha  expec_utdt\n",
       "0     8/1/2006   13.732315\n",
       "1    9/30/2006   11.885915\n",
       "2    10/1/2006   11.728203\n",
       "3    11/1/2006   12.726685\n",
       "4    12/1/2006   13.863447\n",
       "..         ...         ...\n",
       "172  12/1/2020   42.854528\n",
       "173   1/1/2021   44.139414\n",
       "174   2/1/2021   45.238070\n",
       "175   3/1/2021   46.339870\n",
       "176   4/1/2021   47.897966\n",
       "\n",
       "[177 rows x 2 columns]"
      ],
      "text/html": "<div>\n<style scoped>\n    .dataframe tbody tr th:only-of-type {\n        vertical-align: middle;\n    }\n\n    .dataframe tbody tr th {\n        vertical-align: top;\n    }\n\n    .dataframe thead th {\n        text-align: right;\n    }\n</style>\n<table border=\"1\" class=\"dataframe\">\n  <thead>\n    <tr style=\"text-align: right;\">\n      <th></th>\n      <th>fecha</th>\n      <th>expec_utdt</th>\n    </tr>\n  </thead>\n  <tbody>\n    <tr>\n      <th>0</th>\n      <td>8/1/2006</td>\n      <td>13.732315</td>\n    </tr>\n    <tr>\n      <th>1</th>\n      <td>9/30/2006</td>\n      <td>11.885915</td>\n    </tr>\n    <tr>\n      <th>2</th>\n      <td>10/1/2006</td>\n      <td>11.728203</td>\n    </tr>\n    <tr>\n      <th>3</th>\n      <td>11/1/2006</td>\n      <td>12.726685</td>\n    </tr>\n    <tr>\n      <th>4</th>\n      <td>12/1/2006</td>\n      <td>13.863447</td>\n    </tr>\n    <tr>\n      <th>...</th>\n      <td>...</td>\n      <td>...</td>\n    </tr>\n    <tr>\n      <th>172</th>\n      <td>12/1/2020</td>\n      <td>42.854528</td>\n    </tr>\n    <tr>\n      <th>173</th>\n      <td>1/1/2021</td>\n      <td>44.139414</td>\n    </tr>\n    <tr>\n      <th>174</th>\n      <td>2/1/2021</td>\n      <td>45.238070</td>\n    </tr>\n    <tr>\n      <th>175</th>\n      <td>3/1/2021</td>\n      <td>46.339870</td>\n    </tr>\n    <tr>\n      <th>176</th>\n      <td>4/1/2021</td>\n      <td>47.897966</td>\n    </tr>\n  </tbody>\n</table>\n<p>177 rows × 2 columns</p>\n</div>"
     },
     "metadata": {},
     "execution_count": 40
    }
   ],
   "source": [
    "# Dropping useless columns and renaming the rest\n",
    "utdt = utdt.drop(columns=['Mediana', 'Variaci�n Mensual del Promedio'])\n",
    "utdt.columns = ['fecha', 'expec_utdt']\n",
    "utdt"
   ]
  },
  {
   "cell_type": "code",
   "execution_count": 41,
   "id": "48ef5d2f-f6f8-47b8-a34d-4b4ad2de03af",
   "metadata": {},
   "outputs": [
    {
     "output_type": "stream",
     "name": "stdout",
     "text": [
      "fecha         datetime64[ns]\nexpec_utdt           float64\ndtype: object\n"
     ]
    },
    {
     "output_type": "execute_result",
     "data": {
      "text/plain": [
       "         fecha  expec_utdt\n",
       "0   2006-08-01   13.732315\n",
       "1   2006-09-30   11.885915\n",
       "2   2006-10-01   11.728203\n",
       "3   2006-11-01   12.726685\n",
       "4   2006-12-01   13.863447\n",
       "..         ...         ...\n",
       "172 2020-12-01   42.854528\n",
       "173 2021-01-01   44.139414\n",
       "174 2021-02-01   45.238070\n",
       "175 2021-03-01   46.339870\n",
       "176 2021-04-01   47.897966\n",
       "\n",
       "[177 rows x 2 columns]"
      ],
      "text/html": "<div>\n<style scoped>\n    .dataframe tbody tr th:only-of-type {\n        vertical-align: middle;\n    }\n\n    .dataframe tbody tr th {\n        vertical-align: top;\n    }\n\n    .dataframe thead th {\n        text-align: right;\n    }\n</style>\n<table border=\"1\" class=\"dataframe\">\n  <thead>\n    <tr style=\"text-align: right;\">\n      <th></th>\n      <th>fecha</th>\n      <th>expec_utdt</th>\n    </tr>\n  </thead>\n  <tbody>\n    <tr>\n      <th>0</th>\n      <td>2006-08-01</td>\n      <td>13.732315</td>\n    </tr>\n    <tr>\n      <th>1</th>\n      <td>2006-09-30</td>\n      <td>11.885915</td>\n    </tr>\n    <tr>\n      <th>2</th>\n      <td>2006-10-01</td>\n      <td>11.728203</td>\n    </tr>\n    <tr>\n      <th>3</th>\n      <td>2006-11-01</td>\n      <td>12.726685</td>\n    </tr>\n    <tr>\n      <th>4</th>\n      <td>2006-12-01</td>\n      <td>13.863447</td>\n    </tr>\n    <tr>\n      <th>...</th>\n      <td>...</td>\n      <td>...</td>\n    </tr>\n    <tr>\n      <th>172</th>\n      <td>2020-12-01</td>\n      <td>42.854528</td>\n    </tr>\n    <tr>\n      <th>173</th>\n      <td>2021-01-01</td>\n      <td>44.139414</td>\n    </tr>\n    <tr>\n      <th>174</th>\n      <td>2021-02-01</td>\n      <td>45.238070</td>\n    </tr>\n    <tr>\n      <th>175</th>\n      <td>2021-03-01</td>\n      <td>46.339870</td>\n    </tr>\n    <tr>\n      <th>176</th>\n      <td>2021-04-01</td>\n      <td>47.897966</td>\n    </tr>\n  </tbody>\n</table>\n<p>177 rows × 2 columns</p>\n</div>"
     },
     "metadata": {},
     "execution_count": 41
    }
   ],
   "source": [
    "# Transforming to datetime\n",
    "utdt['fecha'] = pd.to_datetime(utdt['fecha'], format='%m/%d/%Y')\n",
    "print(utdt.dtypes)\n",
    "utdt"
   ]
  },
  {
   "cell_type": "code",
   "execution_count": 42,
   "id": "76445005-139e-42ad-bfd5-928f0340dfc5",
   "metadata": {},
   "outputs": [
    {
     "output_type": "execute_result",
     "data": {
      "text/plain": [
       "         fecha  expec_utdt\n",
       "0   2006-09-01   13.732315\n",
       "1   2006-10-01   11.885915\n",
       "2   2006-11-01   11.728203\n",
       "3   2006-12-01   12.726685\n",
       "4   2007-01-01   13.863447\n",
       "..         ...         ...\n",
       "172 2021-01-01   42.854528\n",
       "173 2021-02-01   44.139414\n",
       "174 2021-03-01   45.238070\n",
       "175 2021-04-01   46.339870\n",
       "176 2021-05-01   47.897966\n",
       "\n",
       "[177 rows x 2 columns]"
      ],
      "text/html": "<div>\n<style scoped>\n    .dataframe tbody tr th:only-of-type {\n        vertical-align: middle;\n    }\n\n    .dataframe tbody tr th {\n        vertical-align: top;\n    }\n\n    .dataframe thead th {\n        text-align: right;\n    }\n</style>\n<table border=\"1\" class=\"dataframe\">\n  <thead>\n    <tr style=\"text-align: right;\">\n      <th></th>\n      <th>fecha</th>\n      <th>expec_utdt</th>\n    </tr>\n  </thead>\n  <tbody>\n    <tr>\n      <th>0</th>\n      <td>2006-09-01</td>\n      <td>13.732315</td>\n    </tr>\n    <tr>\n      <th>1</th>\n      <td>2006-10-01</td>\n      <td>11.885915</td>\n    </tr>\n    <tr>\n      <th>2</th>\n      <td>2006-11-01</td>\n      <td>11.728203</td>\n    </tr>\n    <tr>\n      <th>3</th>\n      <td>2006-12-01</td>\n      <td>12.726685</td>\n    </tr>\n    <tr>\n      <th>4</th>\n      <td>2007-01-01</td>\n      <td>13.863447</td>\n    </tr>\n    <tr>\n      <th>...</th>\n      <td>...</td>\n      <td>...</td>\n    </tr>\n    <tr>\n      <th>172</th>\n      <td>2021-01-01</td>\n      <td>42.854528</td>\n    </tr>\n    <tr>\n      <th>173</th>\n      <td>2021-02-01</td>\n      <td>44.139414</td>\n    </tr>\n    <tr>\n      <th>174</th>\n      <td>2021-03-01</td>\n      <td>45.238070</td>\n    </tr>\n    <tr>\n      <th>175</th>\n      <td>2021-04-01</td>\n      <td>46.339870</td>\n    </tr>\n    <tr>\n      <th>176</th>\n      <td>2021-05-01</td>\n      <td>47.897966</td>\n    </tr>\n  </tbody>\n</table>\n<p>177 rows × 2 columns</p>\n</div>"
     },
     "metadata": {},
     "execution_count": 42
    }
   ],
   "source": [
    "# Matching the publishing date with the analyzed period\n",
    "def move_to_next_month(date):\n",
    "    if date.month == 12:\n",
    "        new_date = dt.datetime(year=date.year+1, month=1, day=1)\n",
    "    else:\n",
    "        new_date = dt.datetime(year=date.year, month=date.month + 1, day=1)\n",
    "    return new_date\n",
    "\n",
    "utdt['fecha'] = utdt['fecha'].apply(move_to_next_month)\n",
    "utdt"
   ]
  },
  {
   "cell_type": "code",
   "execution_count": 43,
   "id": "3eb3751f-a643-48d0-aeca-b85e802c97dd",
   "metadata": {},
   "outputs": [
    {
     "output_type": "execute_result",
     "data": {
      "text/plain": [
       "          fecha  rem  badlar  base_monetaria  reservas  dolar_mayor  \\\n",
       "0    1996-01-02  NaN     NaN         13069.0       NaN          NaN   \n",
       "1    1996-01-03  NaN     NaN          1297.0       NaN          NaN   \n",
       "2    1996-01-04  NaN     NaN         13034.0       NaN          NaN   \n",
       "3    1996-01-05  NaN     NaN         13097.0       NaN          NaN   \n",
       "4    1996-01-08  NaN     NaN         13104.0       NaN          NaN   \n",
       "...         ...  ...     ...             ...       ...          ...   \n",
       "6419 2015-05-01  NaN     NaN             NaN       NaN          NaN   \n",
       "6420 2015-08-01  NaN     NaN             NaN       NaN          NaN   \n",
       "6421 2015-11-01  NaN     NaN             NaN       NaN          NaN   \n",
       "6422 2016-01-01  NaN     NaN             NaN       NaN          NaN   \n",
       "6423 2016-05-01  NaN     NaN             NaN       NaN          NaN   \n",
       "\n",
       "      dolar_informal  expec_utdt  \n",
       "0                NaN         NaN  \n",
       "1                NaN         NaN  \n",
       "2                NaN         NaN  \n",
       "3                NaN         NaN  \n",
       "4                NaN         NaN  \n",
       "...              ...         ...  \n",
       "6419             NaN   30.560357  \n",
       "6420             NaN   27.695385  \n",
       "6421             NaN   27.464382  \n",
       "6422             NaN   30.523226  \n",
       "6423             NaN   35.951784  \n",
       "\n",
       "[6424 rows x 8 columns]"
      ],
      "text/html": "<div>\n<style scoped>\n    .dataframe tbody tr th:only-of-type {\n        vertical-align: middle;\n    }\n\n    .dataframe tbody tr th {\n        vertical-align: top;\n    }\n\n    .dataframe thead th {\n        text-align: right;\n    }\n</style>\n<table border=\"1\" class=\"dataframe\">\n  <thead>\n    <tr style=\"text-align: right;\">\n      <th></th>\n      <th>fecha</th>\n      <th>rem</th>\n      <th>badlar</th>\n      <th>base_monetaria</th>\n      <th>reservas</th>\n      <th>dolar_mayor</th>\n      <th>dolar_informal</th>\n      <th>expec_utdt</th>\n    </tr>\n  </thead>\n  <tbody>\n    <tr>\n      <th>0</th>\n      <td>1996-01-02</td>\n      <td>NaN</td>\n      <td>NaN</td>\n      <td>13069.0</td>\n      <td>NaN</td>\n      <td>NaN</td>\n      <td>NaN</td>\n      <td>NaN</td>\n    </tr>\n    <tr>\n      <th>1</th>\n      <td>1996-01-03</td>\n      <td>NaN</td>\n      <td>NaN</td>\n      <td>1297.0</td>\n      <td>NaN</td>\n      <td>NaN</td>\n      <td>NaN</td>\n      <td>NaN</td>\n    </tr>\n    <tr>\n      <th>2</th>\n      <td>1996-01-04</td>\n      <td>NaN</td>\n      <td>NaN</td>\n      <td>13034.0</td>\n      <td>NaN</td>\n      <td>NaN</td>\n      <td>NaN</td>\n      <td>NaN</td>\n    </tr>\n    <tr>\n      <th>3</th>\n      <td>1996-01-05</td>\n      <td>NaN</td>\n      <td>NaN</td>\n      <td>13097.0</td>\n      <td>NaN</td>\n      <td>NaN</td>\n      <td>NaN</td>\n      <td>NaN</td>\n    </tr>\n    <tr>\n      <th>4</th>\n      <td>1996-01-08</td>\n      <td>NaN</td>\n      <td>NaN</td>\n      <td>13104.0</td>\n      <td>NaN</td>\n      <td>NaN</td>\n      <td>NaN</td>\n      <td>NaN</td>\n    </tr>\n    <tr>\n      <th>...</th>\n      <td>...</td>\n      <td>...</td>\n      <td>...</td>\n      <td>...</td>\n      <td>...</td>\n      <td>...</td>\n      <td>...</td>\n      <td>...</td>\n    </tr>\n    <tr>\n      <th>6419</th>\n      <td>2015-05-01</td>\n      <td>NaN</td>\n      <td>NaN</td>\n      <td>NaN</td>\n      <td>NaN</td>\n      <td>NaN</td>\n      <td>NaN</td>\n      <td>30.560357</td>\n    </tr>\n    <tr>\n      <th>6420</th>\n      <td>2015-08-01</td>\n      <td>NaN</td>\n      <td>NaN</td>\n      <td>NaN</td>\n      <td>NaN</td>\n      <td>NaN</td>\n      <td>NaN</td>\n      <td>27.695385</td>\n    </tr>\n    <tr>\n      <th>6421</th>\n      <td>2015-11-01</td>\n      <td>NaN</td>\n      <td>NaN</td>\n      <td>NaN</td>\n      <td>NaN</td>\n      <td>NaN</td>\n      <td>NaN</td>\n      <td>27.464382</td>\n    </tr>\n    <tr>\n      <th>6422</th>\n      <td>2016-01-01</td>\n      <td>NaN</td>\n      <td>NaN</td>\n      <td>NaN</td>\n      <td>NaN</td>\n      <td>NaN</td>\n      <td>NaN</td>\n      <td>30.523226</td>\n    </tr>\n    <tr>\n      <th>6423</th>\n      <td>2016-05-01</td>\n      <td>NaN</td>\n      <td>NaN</td>\n      <td>NaN</td>\n      <td>NaN</td>\n      <td>NaN</td>\n      <td>NaN</td>\n      <td>35.951784</td>\n    </tr>\n  </tbody>\n</table>\n<p>6424 rows × 8 columns</p>\n</div>"
     },
     "metadata": {},
     "execution_count": 43
    }
   ],
   "source": [
    "# Merging the data\n",
    "data = data.merge(utdt, how='outer', on='fecha').reset_index(drop=True)\n",
    "data"
   ]
  },
  {
   "cell_type": "markdown",
   "id": "e59b4294-1b9c-4aaa-9959-4c722916219e",
   "metadata": {},
   "source": [
    "### Estimador Mensual de Actividad Economica (INDEC) <a class=\"anchor\" id=\"emae\"> </a>"
   ]
  },
  {
   "cell_type": "code",
   "execution_count": 44,
   "id": "ea334de8-da9e-43ae-95e0-3b7cfc7918f2",
   "metadata": {},
   "outputs": [
    {
     "output_type": "stream",
     "name": "stdout",
     "text": [
      "fecha     object\nEMAE     float64\ndtype: object\n"
     ]
    },
    {
     "output_type": "execute_result",
     "data": {
      "text/plain": [
       "       fecha   EMAE\n",
       "0    02/2004   90.2\n",
       "1    03/2004  101.9\n",
       "2    04/2004  102.6\n",
       "3    05/2004  109.9\n",
       "4    06/2004  105.7\n",
       "..       ...    ...\n",
       "200  10/2020  132.1\n",
       "201  11/2020  133.4\n",
       "202  12/2020  132.6\n",
       "203  01/2021  129.2\n",
       "204  02/2021  126.3\n",
       "\n",
       "[205 rows x 2 columns]"
      ],
      "text/html": "<div>\n<style scoped>\n    .dataframe tbody tr th:only-of-type {\n        vertical-align: middle;\n    }\n\n    .dataframe tbody tr th {\n        vertical-align: top;\n    }\n\n    .dataframe thead th {\n        text-align: right;\n    }\n</style>\n<table border=\"1\" class=\"dataframe\">\n  <thead>\n    <tr style=\"text-align: right;\">\n      <th></th>\n      <th>fecha</th>\n      <th>EMAE</th>\n    </tr>\n  </thead>\n  <tbody>\n    <tr>\n      <th>0</th>\n      <td>02/2004</td>\n      <td>90.2</td>\n    </tr>\n    <tr>\n      <th>1</th>\n      <td>03/2004</td>\n      <td>101.9</td>\n    </tr>\n    <tr>\n      <th>2</th>\n      <td>04/2004</td>\n      <td>102.6</td>\n    </tr>\n    <tr>\n      <th>3</th>\n      <td>05/2004</td>\n      <td>109.9</td>\n    </tr>\n    <tr>\n      <th>4</th>\n      <td>06/2004</td>\n      <td>105.7</td>\n    </tr>\n    <tr>\n      <th>...</th>\n      <td>...</td>\n      <td>...</td>\n    </tr>\n    <tr>\n      <th>200</th>\n      <td>10/2020</td>\n      <td>132.1</td>\n    </tr>\n    <tr>\n      <th>201</th>\n      <td>11/2020</td>\n      <td>133.4</td>\n    </tr>\n    <tr>\n      <th>202</th>\n      <td>12/2020</td>\n      <td>132.6</td>\n    </tr>\n    <tr>\n      <th>203</th>\n      <td>01/2021</td>\n      <td>129.2</td>\n    </tr>\n    <tr>\n      <th>204</th>\n      <td>02/2021</td>\n      <td>126.3</td>\n    </tr>\n  </tbody>\n</table>\n<p>205 rows × 2 columns</p>\n</div>"
     },
     "metadata": {},
     "execution_count": 44
    }
   ],
   "source": [
    "# Reading the file\n",
    "emae = pd.read_csv('Otros/EMAE.csv', header=0, names=['fecha', 'EMAE'])\n",
    "print(emae.dtypes)\n",
    "emae"
   ]
  },
  {
   "cell_type": "code",
   "execution_count": 45,
   "id": "b69a1b41-c5f0-4c62-8f79-1af8f0d639aa",
   "metadata": {},
   "outputs": [
    {
     "output_type": "execute_result",
     "data": {
      "text/plain": [
       "         fecha   EMAE\n",
       "0   2004-02-01   90.2\n",
       "1   2004-03-01  101.9\n",
       "2   2004-04-01  102.6\n",
       "3   2004-05-01  109.9\n",
       "4   2004-06-01  105.7\n",
       "..         ...    ...\n",
       "200 2020-10-01  132.1\n",
       "201 2020-11-01  133.4\n",
       "202 2020-12-01  132.6\n",
       "203 2021-01-01  129.2\n",
       "204 2021-02-01  126.3\n",
       "\n",
       "[205 rows x 2 columns]"
      ],
      "text/html": "<div>\n<style scoped>\n    .dataframe tbody tr th:only-of-type {\n        vertical-align: middle;\n    }\n\n    .dataframe tbody tr th {\n        vertical-align: top;\n    }\n\n    .dataframe thead th {\n        text-align: right;\n    }\n</style>\n<table border=\"1\" class=\"dataframe\">\n  <thead>\n    <tr style=\"text-align: right;\">\n      <th></th>\n      <th>fecha</th>\n      <th>EMAE</th>\n    </tr>\n  </thead>\n  <tbody>\n    <tr>\n      <th>0</th>\n      <td>2004-02-01</td>\n      <td>90.2</td>\n    </tr>\n    <tr>\n      <th>1</th>\n      <td>2004-03-01</td>\n      <td>101.9</td>\n    </tr>\n    <tr>\n      <th>2</th>\n      <td>2004-04-01</td>\n      <td>102.6</td>\n    </tr>\n    <tr>\n      <th>3</th>\n      <td>2004-05-01</td>\n      <td>109.9</td>\n    </tr>\n    <tr>\n      <th>4</th>\n      <td>2004-06-01</td>\n      <td>105.7</td>\n    </tr>\n    <tr>\n      <th>...</th>\n      <td>...</td>\n      <td>...</td>\n    </tr>\n    <tr>\n      <th>200</th>\n      <td>2020-10-01</td>\n      <td>132.1</td>\n    </tr>\n    <tr>\n      <th>201</th>\n      <td>2020-11-01</td>\n      <td>133.4</td>\n    </tr>\n    <tr>\n      <th>202</th>\n      <td>2020-12-01</td>\n      <td>132.6</td>\n    </tr>\n    <tr>\n      <th>203</th>\n      <td>2021-01-01</td>\n      <td>129.2</td>\n    </tr>\n    <tr>\n      <th>204</th>\n      <td>2021-02-01</td>\n      <td>126.3</td>\n    </tr>\n  </tbody>\n</table>\n<p>205 rows × 2 columns</p>\n</div>"
     },
     "metadata": {},
     "execution_count": 45
    }
   ],
   "source": [
    "# Transforming the \"fecha\" column to datetime64\n",
    "emae['fecha'] = pd.to_datetime(emae['fecha'], format='%m/%Y')\n",
    "emae"
   ]
  },
  {
   "cell_type": "code",
   "execution_count": 46,
   "id": "af0122f8-6738-4cf3-aa8d-05a3a0add36b",
   "metadata": {},
   "outputs": [
    {
     "output_type": "execute_result",
     "data": {
      "text/plain": [
       "         fecha   emae\n",
       "0   2004-05-01   90.2\n",
       "1   2004-06-01  101.9\n",
       "2   2004-07-01  102.6\n",
       "3   2004-08-01  109.9\n",
       "4   2004-09-01  105.7\n",
       "..         ...    ...\n",
       "200 2021-01-01  132.1\n",
       "201 2021-02-01  133.4\n",
       "202 2021-03-01  132.6\n",
       "203 2021-04-01  129.2\n",
       "204 2021-05-01  126.3\n",
       "\n",
       "[205 rows x 2 columns]"
      ],
      "text/html": "<div>\n<style scoped>\n    .dataframe tbody tr th:only-of-type {\n        vertical-align: middle;\n    }\n\n    .dataframe tbody tr th {\n        vertical-align: top;\n    }\n\n    .dataframe thead th {\n        text-align: right;\n    }\n</style>\n<table border=\"1\" class=\"dataframe\">\n  <thead>\n    <tr style=\"text-align: right;\">\n      <th></th>\n      <th>fecha</th>\n      <th>emae</th>\n    </tr>\n  </thead>\n  <tbody>\n    <tr>\n      <th>0</th>\n      <td>2004-05-01</td>\n      <td>90.2</td>\n    </tr>\n    <tr>\n      <th>1</th>\n      <td>2004-06-01</td>\n      <td>101.9</td>\n    </tr>\n    <tr>\n      <th>2</th>\n      <td>2004-07-01</td>\n      <td>102.6</td>\n    </tr>\n    <tr>\n      <th>3</th>\n      <td>2004-08-01</td>\n      <td>109.9</td>\n    </tr>\n    <tr>\n      <th>4</th>\n      <td>2004-09-01</td>\n      <td>105.7</td>\n    </tr>\n    <tr>\n      <th>...</th>\n      <td>...</td>\n      <td>...</td>\n    </tr>\n    <tr>\n      <th>200</th>\n      <td>2021-01-01</td>\n      <td>132.1</td>\n    </tr>\n    <tr>\n      <th>201</th>\n      <td>2021-02-01</td>\n      <td>133.4</td>\n    </tr>\n    <tr>\n      <th>202</th>\n      <td>2021-03-01</td>\n      <td>132.6</td>\n    </tr>\n    <tr>\n      <th>203</th>\n      <td>2021-04-01</td>\n      <td>129.2</td>\n    </tr>\n    <tr>\n      <th>204</th>\n      <td>2021-05-01</td>\n      <td>126.3</td>\n    </tr>\n  </tbody>\n</table>\n<p>205 rows × 2 columns</p>\n</div>"
     },
     "metadata": {},
     "execution_count": 46
    }
   ],
   "source": [
    "# Matching the publishing date with the analyzed period\n",
    "def add_three_months(date):\n",
    "    month, year = date.month, date.year\n",
    "    if (month+3) == 15:\n",
    "        new_date = dt.datetime(year=year+1, month=3, day=1)\n",
    "    elif (month+3) == 14:\n",
    "        new_date = dt.datetime(year=year+1, month=2, day=1)\n",
    "    elif (month+3) == 13:\n",
    "        new_date = dt.datetime(year=year+1, month=1, day=1)\n",
    "    else:\n",
    "        new_date = dt.datetime(year=year, month=month+3, day=1)\n",
    "    return new_date\n",
    "\n",
    "emae['fecha'] = emae['fecha'].apply(add_three_months)\n",
    "\n",
    "# Changing the column names\n",
    "emae.columns = ['fecha', 'emae']\n",
    "emae"
   ]
  },
  {
   "cell_type": "code",
   "execution_count": 47,
   "id": "b4f8754b-89f0-49e3-a8e8-527530735d5a",
   "metadata": {},
   "outputs": [
    {
     "output_type": "execute_result",
     "data": {
      "text/plain": [
       "          fecha  rem  badlar  base_monetaria  reservas  dolar_mayor  \\\n",
       "0    1996-01-02  NaN     NaN         13069.0       NaN          NaN   \n",
       "1    1996-01-03  NaN     NaN          1297.0       NaN          NaN   \n",
       "2    1996-01-04  NaN     NaN         13034.0       NaN          NaN   \n",
       "3    1996-01-05  NaN     NaN         13097.0       NaN          NaN   \n",
       "4    1996-01-08  NaN     NaN         13104.0       NaN          NaN   \n",
       "...         ...  ...     ...             ...       ...          ...   \n",
       "6419 2015-05-01  NaN     NaN             NaN       NaN          NaN   \n",
       "6420 2015-08-01  NaN     NaN             NaN       NaN          NaN   \n",
       "6421 2015-11-01  NaN     NaN             NaN       NaN          NaN   \n",
       "6422 2016-01-01  NaN     NaN             NaN       NaN          NaN   \n",
       "6423 2016-05-01  NaN     NaN             NaN       NaN          NaN   \n",
       "\n",
       "      dolar_informal  expec_utdt   emae  \n",
       "0                NaN         NaN    NaN  \n",
       "1                NaN         NaN    NaN  \n",
       "2                NaN         NaN    NaN  \n",
       "3                NaN         NaN    NaN  \n",
       "4                NaN         NaN    NaN  \n",
       "...              ...         ...    ...  \n",
       "6419             NaN   30.560357  132.6  \n",
       "6420             NaN   27.695385  168.9  \n",
       "6421             NaN   27.464382  146.5  \n",
       "6422             NaN   30.523226  147.0  \n",
       "6423             NaN   35.951784  134.2  \n",
       "\n",
       "[6424 rows x 9 columns]"
      ],
      "text/html": "<div>\n<style scoped>\n    .dataframe tbody tr th:only-of-type {\n        vertical-align: middle;\n    }\n\n    .dataframe tbody tr th {\n        vertical-align: top;\n    }\n\n    .dataframe thead th {\n        text-align: right;\n    }\n</style>\n<table border=\"1\" class=\"dataframe\">\n  <thead>\n    <tr style=\"text-align: right;\">\n      <th></th>\n      <th>fecha</th>\n      <th>rem</th>\n      <th>badlar</th>\n      <th>base_monetaria</th>\n      <th>reservas</th>\n      <th>dolar_mayor</th>\n      <th>dolar_informal</th>\n      <th>expec_utdt</th>\n      <th>emae</th>\n    </tr>\n  </thead>\n  <tbody>\n    <tr>\n      <th>0</th>\n      <td>1996-01-02</td>\n      <td>NaN</td>\n      <td>NaN</td>\n      <td>13069.0</td>\n      <td>NaN</td>\n      <td>NaN</td>\n      <td>NaN</td>\n      <td>NaN</td>\n      <td>NaN</td>\n    </tr>\n    <tr>\n      <th>1</th>\n      <td>1996-01-03</td>\n      <td>NaN</td>\n      <td>NaN</td>\n      <td>1297.0</td>\n      <td>NaN</td>\n      <td>NaN</td>\n      <td>NaN</td>\n      <td>NaN</td>\n      <td>NaN</td>\n    </tr>\n    <tr>\n      <th>2</th>\n      <td>1996-01-04</td>\n      <td>NaN</td>\n      <td>NaN</td>\n      <td>13034.0</td>\n      <td>NaN</td>\n      <td>NaN</td>\n      <td>NaN</td>\n      <td>NaN</td>\n      <td>NaN</td>\n    </tr>\n    <tr>\n      <th>3</th>\n      <td>1996-01-05</td>\n      <td>NaN</td>\n      <td>NaN</td>\n      <td>13097.0</td>\n      <td>NaN</td>\n      <td>NaN</td>\n      <td>NaN</td>\n      <td>NaN</td>\n      <td>NaN</td>\n    </tr>\n    <tr>\n      <th>4</th>\n      <td>1996-01-08</td>\n      <td>NaN</td>\n      <td>NaN</td>\n      <td>13104.0</td>\n      <td>NaN</td>\n      <td>NaN</td>\n      <td>NaN</td>\n      <td>NaN</td>\n      <td>NaN</td>\n    </tr>\n    <tr>\n      <th>...</th>\n      <td>...</td>\n      <td>...</td>\n      <td>...</td>\n      <td>...</td>\n      <td>...</td>\n      <td>...</td>\n      <td>...</td>\n      <td>...</td>\n      <td>...</td>\n    </tr>\n    <tr>\n      <th>6419</th>\n      <td>2015-05-01</td>\n      <td>NaN</td>\n      <td>NaN</td>\n      <td>NaN</td>\n      <td>NaN</td>\n      <td>NaN</td>\n      <td>NaN</td>\n      <td>30.560357</td>\n      <td>132.6</td>\n    </tr>\n    <tr>\n      <th>6420</th>\n      <td>2015-08-01</td>\n      <td>NaN</td>\n      <td>NaN</td>\n      <td>NaN</td>\n      <td>NaN</td>\n      <td>NaN</td>\n      <td>NaN</td>\n      <td>27.695385</td>\n      <td>168.9</td>\n    </tr>\n    <tr>\n      <th>6421</th>\n      <td>2015-11-01</td>\n      <td>NaN</td>\n      <td>NaN</td>\n      <td>NaN</td>\n      <td>NaN</td>\n      <td>NaN</td>\n      <td>NaN</td>\n      <td>27.464382</td>\n      <td>146.5</td>\n    </tr>\n    <tr>\n      <th>6422</th>\n      <td>2016-01-01</td>\n      <td>NaN</td>\n      <td>NaN</td>\n      <td>NaN</td>\n      <td>NaN</td>\n      <td>NaN</td>\n      <td>NaN</td>\n      <td>30.523226</td>\n      <td>147.0</td>\n    </tr>\n    <tr>\n      <th>6423</th>\n      <td>2016-05-01</td>\n      <td>NaN</td>\n      <td>NaN</td>\n      <td>NaN</td>\n      <td>NaN</td>\n      <td>NaN</td>\n      <td>NaN</td>\n      <td>35.951784</td>\n      <td>134.2</td>\n    </tr>\n  </tbody>\n</table>\n<p>6424 rows × 9 columns</p>\n</div>"
     },
     "metadata": {},
     "execution_count": 47
    }
   ],
   "source": [
    "data = data.merge(emae, how='outer', on='fecha').reset_index(drop=True)\n",
    "data"
   ]
  },
  {
   "cell_type": "markdown",
   "id": "d3cf6963-b021-4b5b-b3eb-c041e69968ad",
   "metadata": {},
   "source": [
    "## IPC <a class=\"anchor\" id=\"ipc\"> </a>\n",
    "### Datos Anteriores a 2007 <a class=\"anchor\" id=\"ipc1943\"> </a>"
   ]
  },
  {
   "cell_type": "code",
   "execution_count": 48,
   "id": "90b92bde-b158-4a19-a164-f59301c01d45",
   "metadata": {},
   "outputs": [
    {
     "output_type": "stream",
     "name": "stdout",
     "text": [
      "Fecha    object\nValor    object\ndtype: object\n"
     ]
    },
    {
     "output_type": "execute_result",
     "data": {
      "text/plain": [
       "          Fecha Valor\n",
       "0    28/02/1943  -0,6\n",
       "1    31/03/1943   1,6\n",
       "2    30/04/1943   0,7\n",
       "3    31/05/1943  -0,9\n",
       "4    30/06/1943   0,1\n",
       "..          ...   ...\n",
       "762  31/08/2006   0,6\n",
       "763  30/09/2006   0,9\n",
       "764  31/10/2006   0,9\n",
       "765  30/11/2006   0,7\n",
       "766  31/12/2006   1,0\n",
       "\n",
       "[767 rows x 2 columns]"
      ],
      "text/html": "<div>\n<style scoped>\n    .dataframe tbody tr th:only-of-type {\n        vertical-align: middle;\n    }\n\n    .dataframe tbody tr th {\n        vertical-align: top;\n    }\n\n    .dataframe thead th {\n        text-align: right;\n    }\n</style>\n<table border=\"1\" class=\"dataframe\">\n  <thead>\n    <tr style=\"text-align: right;\">\n      <th></th>\n      <th>Fecha</th>\n      <th>Valor</th>\n    </tr>\n  </thead>\n  <tbody>\n    <tr>\n      <th>0</th>\n      <td>28/02/1943</td>\n      <td>-0,6</td>\n    </tr>\n    <tr>\n      <th>1</th>\n      <td>31/03/1943</td>\n      <td>1,6</td>\n    </tr>\n    <tr>\n      <th>2</th>\n      <td>30/04/1943</td>\n      <td>0,7</td>\n    </tr>\n    <tr>\n      <th>3</th>\n      <td>31/05/1943</td>\n      <td>-0,9</td>\n    </tr>\n    <tr>\n      <th>4</th>\n      <td>30/06/1943</td>\n      <td>0,1</td>\n    </tr>\n    <tr>\n      <th>...</th>\n      <td>...</td>\n      <td>...</td>\n    </tr>\n    <tr>\n      <th>762</th>\n      <td>31/08/2006</td>\n      <td>0,6</td>\n    </tr>\n    <tr>\n      <th>763</th>\n      <td>30/09/2006</td>\n      <td>0,9</td>\n    </tr>\n    <tr>\n      <th>764</th>\n      <td>31/10/2006</td>\n      <td>0,9</td>\n    </tr>\n    <tr>\n      <th>765</th>\n      <td>30/11/2006</td>\n      <td>0,7</td>\n    </tr>\n    <tr>\n      <th>766</th>\n      <td>31/12/2006</td>\n      <td>1,0</td>\n    </tr>\n  </tbody>\n</table>\n<p>767 rows × 2 columns</p>\n</div>"
     },
     "metadata": {},
     "execution_count": 48
    }
   ],
   "source": [
    "# Reading the file\n",
    "ipc_old = pd.read_csv('IPC/IPC 1943-2006.csv')\n",
    "print(ipc_old.dtypes)\n",
    "ipc_old"
   ]
  },
  {
   "cell_type": "code",
   "execution_count": 49,
   "id": "e3fb9d2e-56cc-4ed7-aad2-e7ef9950e58f",
   "metadata": {},
   "outputs": [
    {
     "output_type": "stream",
     "name": "stdout",
     "text": [
      "fecha    datetime64[ns]\nipc             float32\ndtype: object\n"
     ]
    },
    {
     "output_type": "execute_result",
     "data": {
      "text/plain": [
       "         fecha  ipc\n",
       "0   1943-02-01 -0.6\n",
       "1   1943-03-01  1.6\n",
       "2   1943-04-01  0.7\n",
       "3   1943-05-01 -0.9\n",
       "4   1943-06-01  0.1\n",
       "..         ...  ...\n",
       "762 2006-08-01  0.6\n",
       "763 2006-09-01  0.9\n",
       "764 2006-10-01  0.9\n",
       "765 2006-11-01  0.7\n",
       "766 2006-12-01  1.0\n",
       "\n",
       "[767 rows x 2 columns]"
      ],
      "text/html": "<div>\n<style scoped>\n    .dataframe tbody tr th:only-of-type {\n        vertical-align: middle;\n    }\n\n    .dataframe tbody tr th {\n        vertical-align: top;\n    }\n\n    .dataframe thead th {\n        text-align: right;\n    }\n</style>\n<table border=\"1\" class=\"dataframe\">\n  <thead>\n    <tr style=\"text-align: right;\">\n      <th></th>\n      <th>fecha</th>\n      <th>ipc</th>\n    </tr>\n  </thead>\n  <tbody>\n    <tr>\n      <th>0</th>\n      <td>1943-02-01</td>\n      <td>-0.6</td>\n    </tr>\n    <tr>\n      <th>1</th>\n      <td>1943-03-01</td>\n      <td>1.6</td>\n    </tr>\n    <tr>\n      <th>2</th>\n      <td>1943-04-01</td>\n      <td>0.7</td>\n    </tr>\n    <tr>\n      <th>3</th>\n      <td>1943-05-01</td>\n      <td>-0.9</td>\n    </tr>\n    <tr>\n      <th>4</th>\n      <td>1943-06-01</td>\n      <td>0.1</td>\n    </tr>\n    <tr>\n      <th>...</th>\n      <td>...</td>\n      <td>...</td>\n    </tr>\n    <tr>\n      <th>762</th>\n      <td>2006-08-01</td>\n      <td>0.6</td>\n    </tr>\n    <tr>\n      <th>763</th>\n      <td>2006-09-01</td>\n      <td>0.9</td>\n    </tr>\n    <tr>\n      <th>764</th>\n      <td>2006-10-01</td>\n      <td>0.9</td>\n    </tr>\n    <tr>\n      <th>765</th>\n      <td>2006-11-01</td>\n      <td>0.7</td>\n    </tr>\n    <tr>\n      <th>766</th>\n      <td>2006-12-01</td>\n      <td>1.0</td>\n    </tr>\n  </tbody>\n</table>\n<p>767 rows × 2 columns</p>\n</div>"
     },
     "metadata": {},
     "execution_count": 49
    }
   ],
   "source": [
    "# Changing the column names\n",
    "ipc_old.columns = ['fecha', 'ipc']\n",
    "\n",
    "# Converting the \"fecha\" column to datetime\n",
    "ipc_old['fecha'] = pd.to_datetime(ipc_old['fecha'], format='%d/%m/%Y')\n",
    "\n",
    "# Setting the day values in \"Mes\" to 1\n",
    "def replace_dt(series, year=None, month=None, day=None):\n",
    "    return pd.to_datetime(\n",
    "        {'year': series.dt.year if year is None else year,\n",
    "         'month': series.dt.month if month is None else month,\n",
    "         'day': series.dt.day if day is None else day})\n",
    "\n",
    "ipc_old['fecha'] = replace_dt(ipc_old['fecha'], day=1)\n",
    "\n",
    "# Converting the values to fp32\n",
    "ipc_old['ipc'] = convert_str_to_float(ipc_old['ipc'])\n",
    "\n",
    "print(ipc_old.dtypes)\n",
    "ipc_old"
   ]
  },
  {
   "cell_type": "markdown",
   "id": "6bc39f56-6db3-45ce-b7a8-95dbf42787b8",
   "metadata": {},
   "source": [
    "### Datos entre 2007 y 2017 <a class=\"anchor\" id=\"ipc2007\"> </a>\n",
    "#### IPC San Luis <a class=\"anchor\" id=\"ipcsl\"> </a>"
   ]
  },
  {
   "cell_type": "code",
   "execution_count": 50,
   "id": "d5283bc5-cbcc-4977-8b33-d09417bfd38c",
   "metadata": {},
   "outputs": [
    {
     "output_type": "stream",
     "name": "stdout",
     "text": [
      "INDICE DE PRECIOS AL CONSUMIDOR SAN LUIS, base 2003=100    object\nUnnamed: 1                                                 object\nUnnamed: 2                                                 object\nUnnamed: 3                                                 object\ndtype: object\n"
     ]
    },
    {
     "output_type": "execute_result",
     "data": {
      "text/plain": [
       "    INDICE DE PRECIOS AL CONSUMIDOR SAN LUIS, base 2003=100 Unnamed: 1  \\\n",
       "0    Evolución del Indice de Precios al Consumidor ...             NaN   \n",
       "1                                                  Año             Mes   \n",
       "2                                                 2005         Octubre   \n",
       "3                                                 2005       Noviembre   \n",
       "4                                                 2005       Diciembre   \n",
       "..                                                 ...             ...   \n",
       "183                                               2020       Noviembre   \n",
       "184                                               2020       Diciembre   \n",
       "185                                               2021           Enero   \n",
       "186                                               2021         Febrero   \n",
       "187                                               2021           Marzo   \n",
       "\n",
       "    Unnamed: 2                                      Unnamed: 3  \n",
       "0          NaN                                             NaN  \n",
       "1       Índice  Variación porcentual respecto del mes anterior  \n",
       "2       116.16                                             0.6  \n",
       "3       117.45                                             1.1  \n",
       "4       117.92                                             0.4  \n",
       "..         ...                                             ...  \n",
       "183    5293.17                                             3.7  \n",
       "184    5626.28                                             6.3  \n",
       "185    5907.94                                               5  \n",
       "186     6123.9                                             3.7  \n",
       "187    6361.08                                             3.9  \n",
       "\n",
       "[188 rows x 4 columns]"
      ],
      "text/html": "<div>\n<style scoped>\n    .dataframe tbody tr th:only-of-type {\n        vertical-align: middle;\n    }\n\n    .dataframe tbody tr th {\n        vertical-align: top;\n    }\n\n    .dataframe thead th {\n        text-align: right;\n    }\n</style>\n<table border=\"1\" class=\"dataframe\">\n  <thead>\n    <tr style=\"text-align: right;\">\n      <th></th>\n      <th>INDICE DE PRECIOS AL CONSUMIDOR SAN LUIS, base 2003=100</th>\n      <th>Unnamed: 1</th>\n      <th>Unnamed: 2</th>\n      <th>Unnamed: 3</th>\n    </tr>\n  </thead>\n  <tbody>\n    <tr>\n      <th>0</th>\n      <td>Evolución del Indice de Precios al Consumidor ...</td>\n      <td>NaN</td>\n      <td>NaN</td>\n      <td>NaN</td>\n    </tr>\n    <tr>\n      <th>1</th>\n      <td>Año</td>\n      <td>Mes</td>\n      <td>Índice</td>\n      <td>Variación porcentual respecto del mes anterior</td>\n    </tr>\n    <tr>\n      <th>2</th>\n      <td>2005</td>\n      <td>Octubre</td>\n      <td>116.16</td>\n      <td>0.6</td>\n    </tr>\n    <tr>\n      <th>3</th>\n      <td>2005</td>\n      <td>Noviembre</td>\n      <td>117.45</td>\n      <td>1.1</td>\n    </tr>\n    <tr>\n      <th>4</th>\n      <td>2005</td>\n      <td>Diciembre</td>\n      <td>117.92</td>\n      <td>0.4</td>\n    </tr>\n    <tr>\n      <th>...</th>\n      <td>...</td>\n      <td>...</td>\n      <td>...</td>\n      <td>...</td>\n    </tr>\n    <tr>\n      <th>183</th>\n      <td>2020</td>\n      <td>Noviembre</td>\n      <td>5293.17</td>\n      <td>3.7</td>\n    </tr>\n    <tr>\n      <th>184</th>\n      <td>2020</td>\n      <td>Diciembre</td>\n      <td>5626.28</td>\n      <td>6.3</td>\n    </tr>\n    <tr>\n      <th>185</th>\n      <td>2021</td>\n      <td>Enero</td>\n      <td>5907.94</td>\n      <td>5</td>\n    </tr>\n    <tr>\n      <th>186</th>\n      <td>2021</td>\n      <td>Febrero</td>\n      <td>6123.9</td>\n      <td>3.7</td>\n    </tr>\n    <tr>\n      <th>187</th>\n      <td>2021</td>\n      <td>Marzo</td>\n      <td>6361.08</td>\n      <td>3.9</td>\n    </tr>\n  </tbody>\n</table>\n<p>188 rows × 4 columns</p>\n</div>"
     },
     "metadata": {},
     "execution_count": 50
    }
   ],
   "source": [
    "# Reading the file\n",
    "ipc_sl = pd.read_csv('IPC/IPC San Luis.csv')\n",
    "print(ipc_sl.dtypes)\n",
    "ipc_sl"
   ]
  },
  {
   "cell_type": "code",
   "execution_count": 51,
   "id": "e2f980f1-7242-49a4-b491-c4651188d0d8",
   "metadata": {},
   "outputs": [
    {
     "output_type": "stream",
     "name": "stdout",
     "text": [
      "1\nAño                                               object\nMes                                               object\nÍndice                                            object\nVariación porcentual respecto del mes anterior    object\ndtype: object\n"
     ]
    },
    {
     "output_type": "execute_result",
     "data": {
      "text/plain": [
       "1     Año        Mes   Índice Variación porcentual respecto del mes anterior\n",
       "0    2005    Octubre   116.16                                            0.6\n",
       "1    2005  Noviembre   117.45                                            1.1\n",
       "2    2005  Diciembre   117.92                                            0.4\n",
       "3    2006      Enero   119.32                                            1.2\n",
       "4    2006    Febrero   119.55                                            0.2\n",
       "..    ...        ...      ...                                            ...\n",
       "181  2020  Noviembre  5293.17                                            3.7\n",
       "182  2020  Diciembre  5626.28                                            6.3\n",
       "183  2021      Enero  5907.94                                              5\n",
       "184  2021    Febrero   6123.9                                            3.7\n",
       "185  2021      Marzo  6361.08                                            3.9\n",
       "\n",
       "[186 rows x 4 columns]"
      ],
      "text/html": "<div>\n<style scoped>\n    .dataframe tbody tr th:only-of-type {\n        vertical-align: middle;\n    }\n\n    .dataframe tbody tr th {\n        vertical-align: top;\n    }\n\n    .dataframe thead th {\n        text-align: right;\n    }\n</style>\n<table border=\"1\" class=\"dataframe\">\n  <thead>\n    <tr style=\"text-align: right;\">\n      <th>1</th>\n      <th>Año</th>\n      <th>Mes</th>\n      <th>Índice</th>\n      <th>Variación porcentual respecto del mes anterior</th>\n    </tr>\n  </thead>\n  <tbody>\n    <tr>\n      <th>0</th>\n      <td>2005</td>\n      <td>Octubre</td>\n      <td>116.16</td>\n      <td>0.6</td>\n    </tr>\n    <tr>\n      <th>1</th>\n      <td>2005</td>\n      <td>Noviembre</td>\n      <td>117.45</td>\n      <td>1.1</td>\n    </tr>\n    <tr>\n      <th>2</th>\n      <td>2005</td>\n      <td>Diciembre</td>\n      <td>117.92</td>\n      <td>0.4</td>\n    </tr>\n    <tr>\n      <th>3</th>\n      <td>2006</td>\n      <td>Enero</td>\n      <td>119.32</td>\n      <td>1.2</td>\n    </tr>\n    <tr>\n      <th>4</th>\n      <td>2006</td>\n      <td>Febrero</td>\n      <td>119.55</td>\n      <td>0.2</td>\n    </tr>\n    <tr>\n      <th>...</th>\n      <td>...</td>\n      <td>...</td>\n      <td>...</td>\n      <td>...</td>\n    </tr>\n    <tr>\n      <th>181</th>\n      <td>2020</td>\n      <td>Noviembre</td>\n      <td>5293.17</td>\n      <td>3.7</td>\n    </tr>\n    <tr>\n      <th>182</th>\n      <td>2020</td>\n      <td>Diciembre</td>\n      <td>5626.28</td>\n      <td>6.3</td>\n    </tr>\n    <tr>\n      <th>183</th>\n      <td>2021</td>\n      <td>Enero</td>\n      <td>5907.94</td>\n      <td>5</td>\n    </tr>\n    <tr>\n      <th>184</th>\n      <td>2021</td>\n      <td>Febrero</td>\n      <td>6123.9</td>\n      <td>3.7</td>\n    </tr>\n    <tr>\n      <th>185</th>\n      <td>2021</td>\n      <td>Marzo</td>\n      <td>6361.08</td>\n      <td>3.9</td>\n    </tr>\n  </tbody>\n</table>\n<p>186 rows × 4 columns</p>\n</div>"
     },
     "metadata": {},
     "execution_count": 51
    }
   ],
   "source": [
    "# Fixing the header\n",
    "ipc_sl.columns = ipc_sl.loc[1, :]\n",
    "ipc_sl = ipc_sl.loc[2:, :].reset_index(drop=True)\n",
    "print(ipc_sl.dtypes)\n",
    "ipc_sl"
   ]
  },
  {
   "cell_type": "code",
   "execution_count": 52,
   "id": "ecebd850-8ae5-4c1b-ae7b-851174e8f59c",
   "metadata": {},
   "outputs": [
    {
     "output_type": "execute_result",
     "data": {
      "text/plain": [
       "1     Año  Mes   Índice Variación porcentual respecto del mes anterior\n",
       "0    2005   10   116.16                                            0.6\n",
       "1    2005   11   117.45                                            1.1\n",
       "2    2005   12   117.92                                            0.4\n",
       "3    2006    1   119.32                                            1.2\n",
       "4    2006    2   119.55                                            0.2\n",
       "..    ...  ...      ...                                            ...\n",
       "181  2020   11  5293.17                                            3.7\n",
       "182  2020   12  5626.28                                            6.3\n",
       "183  2021    1  5907.94                                              5\n",
       "184  2021    2   6123.9                                            3.7\n",
       "185  2021    3  6361.08                                            3.9\n",
       "\n",
       "[186 rows x 4 columns]"
      ],
      "text/html": "<div>\n<style scoped>\n    .dataframe tbody tr th:only-of-type {\n        vertical-align: middle;\n    }\n\n    .dataframe tbody tr th {\n        vertical-align: top;\n    }\n\n    .dataframe thead th {\n        text-align: right;\n    }\n</style>\n<table border=\"1\" class=\"dataframe\">\n  <thead>\n    <tr style=\"text-align: right;\">\n      <th>1</th>\n      <th>Año</th>\n      <th>Mes</th>\n      <th>Índice</th>\n      <th>Variación porcentual respecto del mes anterior</th>\n    </tr>\n  </thead>\n  <tbody>\n    <tr>\n      <th>0</th>\n      <td>2005</td>\n      <td>10</td>\n      <td>116.16</td>\n      <td>0.6</td>\n    </tr>\n    <tr>\n      <th>1</th>\n      <td>2005</td>\n      <td>11</td>\n      <td>117.45</td>\n      <td>1.1</td>\n    </tr>\n    <tr>\n      <th>2</th>\n      <td>2005</td>\n      <td>12</td>\n      <td>117.92</td>\n      <td>0.4</td>\n    </tr>\n    <tr>\n      <th>3</th>\n      <td>2006</td>\n      <td>1</td>\n      <td>119.32</td>\n      <td>1.2</td>\n    </tr>\n    <tr>\n      <th>4</th>\n      <td>2006</td>\n      <td>2</td>\n      <td>119.55</td>\n      <td>0.2</td>\n    </tr>\n    <tr>\n      <th>...</th>\n      <td>...</td>\n      <td>...</td>\n      <td>...</td>\n      <td>...</td>\n    </tr>\n    <tr>\n      <th>181</th>\n      <td>2020</td>\n      <td>11</td>\n      <td>5293.17</td>\n      <td>3.7</td>\n    </tr>\n    <tr>\n      <th>182</th>\n      <td>2020</td>\n      <td>12</td>\n      <td>5626.28</td>\n      <td>6.3</td>\n    </tr>\n    <tr>\n      <th>183</th>\n      <td>2021</td>\n      <td>1</td>\n      <td>5907.94</td>\n      <td>5</td>\n    </tr>\n    <tr>\n      <th>184</th>\n      <td>2021</td>\n      <td>2</td>\n      <td>6123.9</td>\n      <td>3.7</td>\n    </tr>\n    <tr>\n      <th>185</th>\n      <td>2021</td>\n      <td>3</td>\n      <td>6361.08</td>\n      <td>3.9</td>\n    </tr>\n  </tbody>\n</table>\n<p>186 rows × 4 columns</p>\n</div>"
     },
     "metadata": {},
     "execution_count": 52
    }
   ],
   "source": [
    "# Formatting the \"Año\" and \"Mes\" columns\n",
    "ipc_sl['Año'] = ipc_sl['Año'].astype('int')\n",
    "month_dict = {'Enero':1, 'Febrero':2, 'Marzo':3, 'Abril': 4, 'Mayo':5, 'Junio':6, \n",
    "              'Julio':7, 'Agosto':8, 'Septiembre':9, 'Octubre':10, 'Noviembre':11, \n",
    "              'Diciembre':12}\n",
    "\n",
    "ipc_sl['Mes'] = ipc_sl['Mes'].replace(month_dict)\n",
    "ipc_sl"
   ]
  },
  {
   "cell_type": "code",
   "execution_count": 53,
   "id": "141db687-0c9c-4438-8ade-4e9ec270301c",
   "metadata": {},
   "outputs": [
    {
     "output_type": "stream",
     "name": "stdout",
     "text": [
      "ipc_sl           float32\nfecha     datetime64[ns]\ndtype: object\n"
     ]
    },
    {
     "output_type": "execute_result",
     "data": {
      "text/plain": [
       "     ipc_sl      fecha\n",
       "0       0.6 2005-10-01\n",
       "1       1.1 2005-11-01\n",
       "2       0.4 2005-12-01\n",
       "3       1.2 2006-01-01\n",
       "4       0.2 2006-02-01\n",
       "..      ...        ...\n",
       "181     3.7 2020-11-01\n",
       "182     6.3 2020-12-01\n",
       "183     5.0 2021-01-01\n",
       "184     3.7 2021-02-01\n",
       "185     3.9 2021-03-01\n",
       "\n",
       "[186 rows x 2 columns]"
      ],
      "text/html": "<div>\n<style scoped>\n    .dataframe tbody tr th:only-of-type {\n        vertical-align: middle;\n    }\n\n    .dataframe tbody tr th {\n        vertical-align: top;\n    }\n\n    .dataframe thead th {\n        text-align: right;\n    }\n</style>\n<table border=\"1\" class=\"dataframe\">\n  <thead>\n    <tr style=\"text-align: right;\">\n      <th></th>\n      <th>ipc_sl</th>\n      <th>fecha</th>\n    </tr>\n  </thead>\n  <tbody>\n    <tr>\n      <th>0</th>\n      <td>0.6</td>\n      <td>2005-10-01</td>\n    </tr>\n    <tr>\n      <th>1</th>\n      <td>1.1</td>\n      <td>2005-11-01</td>\n    </tr>\n    <tr>\n      <th>2</th>\n      <td>0.4</td>\n      <td>2005-12-01</td>\n    </tr>\n    <tr>\n      <th>3</th>\n      <td>1.2</td>\n      <td>2006-01-01</td>\n    </tr>\n    <tr>\n      <th>4</th>\n      <td>0.2</td>\n      <td>2006-02-01</td>\n    </tr>\n    <tr>\n      <th>...</th>\n      <td>...</td>\n      <td>...</td>\n    </tr>\n    <tr>\n      <th>181</th>\n      <td>3.7</td>\n      <td>2020-11-01</td>\n    </tr>\n    <tr>\n      <th>182</th>\n      <td>6.3</td>\n      <td>2020-12-01</td>\n    </tr>\n    <tr>\n      <th>183</th>\n      <td>5.0</td>\n      <td>2021-01-01</td>\n    </tr>\n    <tr>\n      <th>184</th>\n      <td>3.7</td>\n      <td>2021-02-01</td>\n    </tr>\n    <tr>\n      <th>185</th>\n      <td>3.9</td>\n      <td>2021-03-01</td>\n    </tr>\n  </tbody>\n</table>\n<p>186 rows × 2 columns</p>\n</div>"
     },
     "metadata": {},
     "execution_count": 53
    }
   ],
   "source": [
    "# Creating the datetime column\n",
    "ipc_sl['fecha'] = pd.to_datetime((ipc_sl['Año']*100 + ipc_sl['Mes']).astype(str), format='%Y%m')\n",
    "\n",
    "# Dropping unnecessary columns\n",
    "ipc_sl = ipc_sl.drop(columns=['Año', 'Mes', 'Índice'])\n",
    "\n",
    "# Renaming columns\n",
    "ipc_sl.columns = ['ipc_sl', 'fecha']\n",
    "\n",
    "# Casting the \"ipc\" column to fp32\n",
    "ipc_sl['ipc_sl'] = ipc_sl['ipc_sl'].astype('float32')\n",
    "\n",
    "print(ipc_sl.dtypes)\n",
    "ipc_sl"
   ]
  },
  {
   "cell_type": "code",
   "execution_count": 54,
   "id": "fb54a1f6-14fe-462f-a9e3-90d87589c649",
   "metadata": {},
   "outputs": [
    {
     "output_type": "execute_result",
     "data": {
      "text/plain": [
       "     ipc_sl      fecha\n",
       "15      1.1 2007-01-01\n",
       "16      0.7 2007-02-01\n",
       "17      1.0 2007-03-01\n",
       "18      2.3 2007-04-01\n",
       "19      2.1 2007-05-01\n",
       "..      ...        ...\n",
       "130     0.6 2016-08-01\n",
       "131     1.7 2016-09-01\n",
       "132     1.9 2016-10-01\n",
       "133     1.3 2016-11-01\n",
       "134     0.9 2016-12-01\n",
       "\n",
       "[120 rows x 2 columns]"
      ],
      "text/html": "<div>\n<style scoped>\n    .dataframe tbody tr th:only-of-type {\n        vertical-align: middle;\n    }\n\n    .dataframe tbody tr th {\n        vertical-align: top;\n    }\n\n    .dataframe thead th {\n        text-align: right;\n    }\n</style>\n<table border=\"1\" class=\"dataframe\">\n  <thead>\n    <tr style=\"text-align: right;\">\n      <th></th>\n      <th>ipc_sl</th>\n      <th>fecha</th>\n    </tr>\n  </thead>\n  <tbody>\n    <tr>\n      <th>15</th>\n      <td>1.1</td>\n      <td>2007-01-01</td>\n    </tr>\n    <tr>\n      <th>16</th>\n      <td>0.7</td>\n      <td>2007-02-01</td>\n    </tr>\n    <tr>\n      <th>17</th>\n      <td>1.0</td>\n      <td>2007-03-01</td>\n    </tr>\n    <tr>\n      <th>18</th>\n      <td>2.3</td>\n      <td>2007-04-01</td>\n    </tr>\n    <tr>\n      <th>19</th>\n      <td>2.1</td>\n      <td>2007-05-01</td>\n    </tr>\n    <tr>\n      <th>...</th>\n      <td>...</td>\n      <td>...</td>\n    </tr>\n    <tr>\n      <th>130</th>\n      <td>0.6</td>\n      <td>2016-08-01</td>\n    </tr>\n    <tr>\n      <th>131</th>\n      <td>1.7</td>\n      <td>2016-09-01</td>\n    </tr>\n    <tr>\n      <th>132</th>\n      <td>1.9</td>\n      <td>2016-10-01</td>\n    </tr>\n    <tr>\n      <th>133</th>\n      <td>1.3</td>\n      <td>2016-11-01</td>\n    </tr>\n    <tr>\n      <th>134</th>\n      <td>0.9</td>\n      <td>2016-12-01</td>\n    </tr>\n  </tbody>\n</table>\n<p>120 rows × 2 columns</p>\n</div>"
     },
     "metadata": {},
     "execution_count": 54
    }
   ],
   "source": [
    "# Limiting the df to the relevant period\n",
    "bool_mask_1 = ipc_sl['fecha'] < dt.datetime(year=2017, month=1, day=1)\n",
    "bool_mask_2 = ipc_sl['fecha'] > dt.datetime(year=2006, month=12, day=1)\n",
    "ipc_sl = ipc_sl[bool_mask_1 & bool_mask_2]\n",
    "ipc_sl"
   ]
  },
  {
   "cell_type": "markdown",
   "id": "9dd7a004-d0cd-4757-8520-a7420af2fd82",
   "metadata": {},
   "source": [
    "#### IPC CABA <a class=\"anchor\" id=\"ipccaba\"> </a>"
   ]
  },
  {
   "cell_type": "code",
   "execution_count": 55,
   "id": "872fa379-531f-48e0-8d14-7f4376999c52",
   "metadata": {},
   "outputs": [
    {
     "output_type": "stream",
     "name": "stdout",
     "text": [
      "Mes                     object\nÍndice1                 object\nUnnamed: 2              object\nUnnamed: 3              object\nVariación porcentual    object\nUnnamed: 5              object\nUnnamed: 6              object\ndtype: object\n"
     ]
    },
    {
     "output_type": "execute_result",
     "data": {
      "text/plain": [
       "         Mes        Índice1 Unnamed: 2 Unnamed: 3 Variación porcentual  \\\n",
       "0        NaN  Nivel General     Bienes  Servicios        Nivel General   \n",
       "1     Jul-12         111.67     112.02     111.36                  1.9   \n",
       "2     Aug-12         114.25      113.6     114.83                  2.3   \n",
       "3     Sep-12         115.96     115.66     116.23                  1.5   \n",
       "4     Oct-12         117.67     117.72     117.62                  1.5   \n",
       "..       ...            ...        ...        ...                  ...   \n",
       "102   Dec-20        1381.02    1493.65    1280.03                  3.8   \n",
       "103   Jan-21        1433.99    1552.27    1327.93                  3.8   \n",
       "104   Feb-21        1474.86    1615.19    1349.02                  2.9   \n",
       "105   Mar-21        1532.21    1675.88    1403.37                  3.9   \n",
       "106  abr-21*        1593.88    1761.53    1443.54                  4.0   \n",
       "\n",
       "    Unnamed: 5 Unnamed: 6  \n",
       "0       Bienes  Servicios  \n",
       "1          1.7        2.1  \n",
       "2          1.4        3.1  \n",
       "3          1.8        1.2  \n",
       "4          1.8        1.2  \n",
       "..         ...        ...  \n",
       "102        3.5          4  \n",
       "103        3.9        3.7  \n",
       "104        4.1        1.6  \n",
       "105        3.8        4.0  \n",
       "106        5.1        2.9  \n",
       "\n",
       "[107 rows x 7 columns]"
      ],
      "text/html": "<div>\n<style scoped>\n    .dataframe tbody tr th:only-of-type {\n        vertical-align: middle;\n    }\n\n    .dataframe tbody tr th {\n        vertical-align: top;\n    }\n\n    .dataframe thead th {\n        text-align: right;\n    }\n</style>\n<table border=\"1\" class=\"dataframe\">\n  <thead>\n    <tr style=\"text-align: right;\">\n      <th></th>\n      <th>Mes</th>\n      <th>Índice1</th>\n      <th>Unnamed: 2</th>\n      <th>Unnamed: 3</th>\n      <th>Variación porcentual</th>\n      <th>Unnamed: 5</th>\n      <th>Unnamed: 6</th>\n    </tr>\n  </thead>\n  <tbody>\n    <tr>\n      <th>0</th>\n      <td>NaN</td>\n      <td>Nivel General</td>\n      <td>Bienes</td>\n      <td>Servicios</td>\n      <td>Nivel General</td>\n      <td>Bienes</td>\n      <td>Servicios</td>\n    </tr>\n    <tr>\n      <th>1</th>\n      <td>Jul-12</td>\n      <td>111.67</td>\n      <td>112.02</td>\n      <td>111.36</td>\n      <td>1.9</td>\n      <td>1.7</td>\n      <td>2.1</td>\n    </tr>\n    <tr>\n      <th>2</th>\n      <td>Aug-12</td>\n      <td>114.25</td>\n      <td>113.6</td>\n      <td>114.83</td>\n      <td>2.3</td>\n      <td>1.4</td>\n      <td>3.1</td>\n    </tr>\n    <tr>\n      <th>3</th>\n      <td>Sep-12</td>\n      <td>115.96</td>\n      <td>115.66</td>\n      <td>116.23</td>\n      <td>1.5</td>\n      <td>1.8</td>\n      <td>1.2</td>\n    </tr>\n    <tr>\n      <th>4</th>\n      <td>Oct-12</td>\n      <td>117.67</td>\n      <td>117.72</td>\n      <td>117.62</td>\n      <td>1.5</td>\n      <td>1.8</td>\n      <td>1.2</td>\n    </tr>\n    <tr>\n      <th>...</th>\n      <td>...</td>\n      <td>...</td>\n      <td>...</td>\n      <td>...</td>\n      <td>...</td>\n      <td>...</td>\n      <td>...</td>\n    </tr>\n    <tr>\n      <th>102</th>\n      <td>Dec-20</td>\n      <td>1381.02</td>\n      <td>1493.65</td>\n      <td>1280.03</td>\n      <td>3.8</td>\n      <td>3.5</td>\n      <td>4</td>\n    </tr>\n    <tr>\n      <th>103</th>\n      <td>Jan-21</td>\n      <td>1433.99</td>\n      <td>1552.27</td>\n      <td>1327.93</td>\n      <td>3.8</td>\n      <td>3.9</td>\n      <td>3.7</td>\n    </tr>\n    <tr>\n      <th>104</th>\n      <td>Feb-21</td>\n      <td>1474.86</td>\n      <td>1615.19</td>\n      <td>1349.02</td>\n      <td>2.9</td>\n      <td>4.1</td>\n      <td>1.6</td>\n    </tr>\n    <tr>\n      <th>105</th>\n      <td>Mar-21</td>\n      <td>1532.21</td>\n      <td>1675.88</td>\n      <td>1403.37</td>\n      <td>3.9</td>\n      <td>3.8</td>\n      <td>4.0</td>\n    </tr>\n    <tr>\n      <th>106</th>\n      <td>abr-21*</td>\n      <td>1593.88</td>\n      <td>1761.53</td>\n      <td>1443.54</td>\n      <td>4.0</td>\n      <td>5.1</td>\n      <td>2.9</td>\n    </tr>\n  </tbody>\n</table>\n<p>107 rows × 7 columns</p>\n</div>"
     },
     "metadata": {},
     "execution_count": 55
    }
   ],
   "source": [
    "# Reading the file\n",
    "ipc_caba = pd.read_csv('IPC/IPC CABA.csv')\n",
    "print(ipc_caba.dtypes)\n",
    "ipc_caba"
   ]
  },
  {
   "cell_type": "code",
   "execution_count": 56,
   "id": "ba571352-6827-4212-8d06-904c6a34c656",
   "metadata": {},
   "outputs": [
    {
     "output_type": "execute_result",
     "data": {
      "text/plain": [
       "        Mes Variación porcentual\n",
       "0    Jul-12                  1.9\n",
       "1    Aug-12                  2.3\n",
       "2    Sep-12                  1.5\n",
       "3    Oct-12                  1.5\n",
       "4    Nov-12                  2.1\n",
       "..      ...                  ...\n",
       "100  Nov-20                  3.1\n",
       "101  Dec-20                  3.8\n",
       "102  Jan-21                  3.8\n",
       "103  Feb-21                  2.9\n",
       "104  Mar-21                  3.9\n",
       "\n",
       "[105 rows x 2 columns]"
      ],
      "text/html": "<div>\n<style scoped>\n    .dataframe tbody tr th:only-of-type {\n        vertical-align: middle;\n    }\n\n    .dataframe tbody tr th {\n        vertical-align: top;\n    }\n\n    .dataframe thead th {\n        text-align: right;\n    }\n</style>\n<table border=\"1\" class=\"dataframe\">\n  <thead>\n    <tr style=\"text-align: right;\">\n      <th></th>\n      <th>Mes</th>\n      <th>Variación porcentual</th>\n    </tr>\n  </thead>\n  <tbody>\n    <tr>\n      <th>0</th>\n      <td>Jul-12</td>\n      <td>1.9</td>\n    </tr>\n    <tr>\n      <th>1</th>\n      <td>Aug-12</td>\n      <td>2.3</td>\n    </tr>\n    <tr>\n      <th>2</th>\n      <td>Sep-12</td>\n      <td>1.5</td>\n    </tr>\n    <tr>\n      <th>3</th>\n      <td>Oct-12</td>\n      <td>1.5</td>\n    </tr>\n    <tr>\n      <th>4</th>\n      <td>Nov-12</td>\n      <td>2.1</td>\n    </tr>\n    <tr>\n      <th>...</th>\n      <td>...</td>\n      <td>...</td>\n    </tr>\n    <tr>\n      <th>100</th>\n      <td>Nov-20</td>\n      <td>3.1</td>\n    </tr>\n    <tr>\n      <th>101</th>\n      <td>Dec-20</td>\n      <td>3.8</td>\n    </tr>\n    <tr>\n      <th>102</th>\n      <td>Jan-21</td>\n      <td>3.8</td>\n    </tr>\n    <tr>\n      <th>103</th>\n      <td>Feb-21</td>\n      <td>2.9</td>\n    </tr>\n    <tr>\n      <th>104</th>\n      <td>Mar-21</td>\n      <td>3.9</td>\n    </tr>\n  </tbody>\n</table>\n<p>105 rows × 2 columns</p>\n</div>"
     },
     "metadata": {},
     "execution_count": 56
    }
   ],
   "source": [
    "# Dropping unnecessary columns\n",
    "ipc_caba = ipc_caba.drop(columns=['Índice1', 'Unnamed: 2', 'Unnamed: 3', 'Unnamed: 5', 'Unnamed: 6'])\n",
    "ipc_caba = ipc_caba.loc[1:105, :].reset_index(drop=True)\n",
    "ipc_caba"
   ]
  },
  {
   "cell_type": "code",
   "execution_count": 57,
   "id": "00bb2c34-62ec-49d3-bb73-1a4c0569feac",
   "metadata": {},
   "outputs": [
    {
     "output_type": "stream",
     "name": "stdout",
     "text": [
      "fecha       datetime64[ns]\nipc_caba           float32\ndtype: object\n"
     ]
    },
    {
     "output_type": "execute_result",
     "data": {
      "text/plain": [
       "         fecha  ipc_caba\n",
       "0   2012-07-01       1.9\n",
       "1   2012-08-01       2.3\n",
       "2   2012-09-01       1.5\n",
       "3   2012-10-01       1.5\n",
       "4   2012-11-01       2.1\n",
       "..         ...       ...\n",
       "100 2020-11-01       3.1\n",
       "101 2020-12-01       3.8\n",
       "102 2021-01-01       3.8\n",
       "103 2021-02-01       2.9\n",
       "104 2021-03-01       3.9\n",
       "\n",
       "[105 rows x 2 columns]"
      ],
      "text/html": "<div>\n<style scoped>\n    .dataframe tbody tr th:only-of-type {\n        vertical-align: middle;\n    }\n\n    .dataframe tbody tr th {\n        vertical-align: top;\n    }\n\n    .dataframe thead th {\n        text-align: right;\n    }\n</style>\n<table border=\"1\" class=\"dataframe\">\n  <thead>\n    <tr style=\"text-align: right;\">\n      <th></th>\n      <th>fecha</th>\n      <th>ipc_caba</th>\n    </tr>\n  </thead>\n  <tbody>\n    <tr>\n      <th>0</th>\n      <td>2012-07-01</td>\n      <td>1.9</td>\n    </tr>\n    <tr>\n      <th>1</th>\n      <td>2012-08-01</td>\n      <td>2.3</td>\n    </tr>\n    <tr>\n      <th>2</th>\n      <td>2012-09-01</td>\n      <td>1.5</td>\n    </tr>\n    <tr>\n      <th>3</th>\n      <td>2012-10-01</td>\n      <td>1.5</td>\n    </tr>\n    <tr>\n      <th>4</th>\n      <td>2012-11-01</td>\n      <td>2.1</td>\n    </tr>\n    <tr>\n      <th>...</th>\n      <td>...</td>\n      <td>...</td>\n    </tr>\n    <tr>\n      <th>100</th>\n      <td>2020-11-01</td>\n      <td>3.1</td>\n    </tr>\n    <tr>\n      <th>101</th>\n      <td>2020-12-01</td>\n      <td>3.8</td>\n    </tr>\n    <tr>\n      <th>102</th>\n      <td>2021-01-01</td>\n      <td>3.8</td>\n    </tr>\n    <tr>\n      <th>103</th>\n      <td>2021-02-01</td>\n      <td>2.9</td>\n    </tr>\n    <tr>\n      <th>104</th>\n      <td>2021-03-01</td>\n      <td>3.9</td>\n    </tr>\n  </tbody>\n</table>\n<p>105 rows × 2 columns</p>\n</div>"
     },
     "metadata": {},
     "execution_count": 57
    }
   ],
   "source": [
    "# Casting the \"fecha\" column as datetime\n",
    "ipc_caba['Mes'] = pd.to_datetime(ipc_caba['Mes'], format='%b-%y')\n",
    "\n",
    "# Renaming columns\n",
    "ipc_caba.columns = ['fecha', 'ipc_caba']\n",
    "\n",
    "# Casting \"ipc_caba\" as fp32\n",
    "ipc_caba['ipc_caba'] = ipc_caba['ipc_caba'].astype('float32') \n",
    "print(ipc_caba.dtypes)\n",
    "ipc_caba"
   ]
  },
  {
   "cell_type": "code",
   "execution_count": 58,
   "id": "00cd331c-9f2b-42fb-85bd-fa01e941251d",
   "metadata": {},
   "outputs": [
    {
     "output_type": "execute_result",
     "data": {
      "text/plain": [
       "        fecha  ipc_caba\n",
       "0  2012-07-01       1.9\n",
       "1  2012-08-01       2.3\n",
       "2  2012-09-01       1.5\n",
       "3  2012-10-01       1.5\n",
       "4  2012-11-01       2.1\n",
       "5  2012-12-01       2.0\n",
       "6  2013-01-01       2.3\n",
       "7  2013-02-01       1.1\n",
       "8  2013-03-01       1.5\n",
       "9  2013-04-01       2.0\n",
       "10 2013-05-01       1.5\n",
       "11 2013-06-01       1.9\n",
       "12 2013-07-01       2.5\n",
       "13 2013-08-01       2.1\n",
       "14 2013-09-01       2.1\n",
       "15 2013-10-01       2.2\n",
       "16 2013-11-01       2.4\n",
       "17 2013-12-01       2.3\n",
       "18 2014-01-01       4.8\n",
       "19 2014-02-01       4.4\n",
       "20 2014-03-01       3.6\n",
       "21 2014-04-01       3.1\n",
       "22 2014-05-01       2.5\n",
       "23 2014-06-01       2.3\n",
       "24 2014-07-01       2.2\n",
       "25 2014-08-01       2.3\n",
       "26 2014-09-01       2.2\n",
       "27 2014-10-01       1.9\n",
       "28 2014-11-01       1.8\n",
       "29 2014-12-01       1.5\n",
       "30 2015-01-01       2.0\n",
       "31 2015-02-01       1.5\n",
       "32 2015-03-01       1.7\n",
       "33 2015-04-01       2.4\n",
       "34 2015-05-01       2.2\n",
       "35 2015-06-01       1.4\n",
       "36 2015-07-01       2.0\n",
       "37 2015-08-01       1.8\n",
       "38 2015-09-01       1.7\n",
       "39 2015-10-01       1.7\n",
       "40 2015-11-01       2.0\n",
       "41 2015-12-01       3.9\n",
       "42 2016-01-01       4.1\n",
       "43 2016-02-01       4.0\n",
       "44 2016-03-01       3.3\n",
       "45 2016-04-01       6.5\n",
       "46 2016-05-01       5.0\n",
       "47 2016-06-01       3.2\n",
       "48 2016-07-01       2.2\n",
       "49 2016-08-01      -0.8\n",
       "50 2016-09-01       1.3\n",
       "51 2016-10-01       2.9\n",
       "52 2016-11-01       2.0\n",
       "53 2016-12-01       1.2"
      ],
      "text/html": "<div>\n<style scoped>\n    .dataframe tbody tr th:only-of-type {\n        vertical-align: middle;\n    }\n\n    .dataframe tbody tr th {\n        vertical-align: top;\n    }\n\n    .dataframe thead th {\n        text-align: right;\n    }\n</style>\n<table border=\"1\" class=\"dataframe\">\n  <thead>\n    <tr style=\"text-align: right;\">\n      <th></th>\n      <th>fecha</th>\n      <th>ipc_caba</th>\n    </tr>\n  </thead>\n  <tbody>\n    <tr>\n      <th>0</th>\n      <td>2012-07-01</td>\n      <td>1.9</td>\n    </tr>\n    <tr>\n      <th>1</th>\n      <td>2012-08-01</td>\n      <td>2.3</td>\n    </tr>\n    <tr>\n      <th>2</th>\n      <td>2012-09-01</td>\n      <td>1.5</td>\n    </tr>\n    <tr>\n      <th>3</th>\n      <td>2012-10-01</td>\n      <td>1.5</td>\n    </tr>\n    <tr>\n      <th>4</th>\n      <td>2012-11-01</td>\n      <td>2.1</td>\n    </tr>\n    <tr>\n      <th>5</th>\n      <td>2012-12-01</td>\n      <td>2.0</td>\n    </tr>\n    <tr>\n      <th>6</th>\n      <td>2013-01-01</td>\n      <td>2.3</td>\n    </tr>\n    <tr>\n      <th>7</th>\n      <td>2013-02-01</td>\n      <td>1.1</td>\n    </tr>\n    <tr>\n      <th>8</th>\n      <td>2013-03-01</td>\n      <td>1.5</td>\n    </tr>\n    <tr>\n      <th>9</th>\n      <td>2013-04-01</td>\n      <td>2.0</td>\n    </tr>\n    <tr>\n      <th>10</th>\n      <td>2013-05-01</td>\n      <td>1.5</td>\n    </tr>\n    <tr>\n      <th>11</th>\n      <td>2013-06-01</td>\n      <td>1.9</td>\n    </tr>\n    <tr>\n      <th>12</th>\n      <td>2013-07-01</td>\n      <td>2.5</td>\n    </tr>\n    <tr>\n      <th>13</th>\n      <td>2013-08-01</td>\n      <td>2.1</td>\n    </tr>\n    <tr>\n      <th>14</th>\n      <td>2013-09-01</td>\n      <td>2.1</td>\n    </tr>\n    <tr>\n      <th>15</th>\n      <td>2013-10-01</td>\n      <td>2.2</td>\n    </tr>\n    <tr>\n      <th>16</th>\n      <td>2013-11-01</td>\n      <td>2.4</td>\n    </tr>\n    <tr>\n      <th>17</th>\n      <td>2013-12-01</td>\n      <td>2.3</td>\n    </tr>\n    <tr>\n      <th>18</th>\n      <td>2014-01-01</td>\n      <td>4.8</td>\n    </tr>\n    <tr>\n      <th>19</th>\n      <td>2014-02-01</td>\n      <td>4.4</td>\n    </tr>\n    <tr>\n      <th>20</th>\n      <td>2014-03-01</td>\n      <td>3.6</td>\n    </tr>\n    <tr>\n      <th>21</th>\n      <td>2014-04-01</td>\n      <td>3.1</td>\n    </tr>\n    <tr>\n      <th>22</th>\n      <td>2014-05-01</td>\n      <td>2.5</td>\n    </tr>\n    <tr>\n      <th>23</th>\n      <td>2014-06-01</td>\n      <td>2.3</td>\n    </tr>\n    <tr>\n      <th>24</th>\n      <td>2014-07-01</td>\n      <td>2.2</td>\n    </tr>\n    <tr>\n      <th>25</th>\n      <td>2014-08-01</td>\n      <td>2.3</td>\n    </tr>\n    <tr>\n      <th>26</th>\n      <td>2014-09-01</td>\n      <td>2.2</td>\n    </tr>\n    <tr>\n      <th>27</th>\n      <td>2014-10-01</td>\n      <td>1.9</td>\n    </tr>\n    <tr>\n      <th>28</th>\n      <td>2014-11-01</td>\n      <td>1.8</td>\n    </tr>\n    <tr>\n      <th>29</th>\n      <td>2014-12-01</td>\n      <td>1.5</td>\n    </tr>\n    <tr>\n      <th>30</th>\n      <td>2015-01-01</td>\n      <td>2.0</td>\n    </tr>\n    <tr>\n      <th>31</th>\n      <td>2015-02-01</td>\n      <td>1.5</td>\n    </tr>\n    <tr>\n      <th>32</th>\n      <td>2015-03-01</td>\n      <td>1.7</td>\n    </tr>\n    <tr>\n      <th>33</th>\n      <td>2015-04-01</td>\n      <td>2.4</td>\n    </tr>\n    <tr>\n      <th>34</th>\n      <td>2015-05-01</td>\n      <td>2.2</td>\n    </tr>\n    <tr>\n      <th>35</th>\n      <td>2015-06-01</td>\n      <td>1.4</td>\n    </tr>\n    <tr>\n      <th>36</th>\n      <td>2015-07-01</td>\n      <td>2.0</td>\n    </tr>\n    <tr>\n      <th>37</th>\n      <td>2015-08-01</td>\n      <td>1.8</td>\n    </tr>\n    <tr>\n      <th>38</th>\n      <td>2015-09-01</td>\n      <td>1.7</td>\n    </tr>\n    <tr>\n      <th>39</th>\n      <td>2015-10-01</td>\n      <td>1.7</td>\n    </tr>\n    <tr>\n      <th>40</th>\n      <td>2015-11-01</td>\n      <td>2.0</td>\n    </tr>\n    <tr>\n      <th>41</th>\n      <td>2015-12-01</td>\n      <td>3.9</td>\n    </tr>\n    <tr>\n      <th>42</th>\n      <td>2016-01-01</td>\n      <td>4.1</td>\n    </tr>\n    <tr>\n      <th>43</th>\n      <td>2016-02-01</td>\n      <td>4.0</td>\n    </tr>\n    <tr>\n      <th>44</th>\n      <td>2016-03-01</td>\n      <td>3.3</td>\n    </tr>\n    <tr>\n      <th>45</th>\n      <td>2016-04-01</td>\n      <td>6.5</td>\n    </tr>\n    <tr>\n      <th>46</th>\n      <td>2016-05-01</td>\n      <td>5.0</td>\n    </tr>\n    <tr>\n      <th>47</th>\n      <td>2016-06-01</td>\n      <td>3.2</td>\n    </tr>\n    <tr>\n      <th>48</th>\n      <td>2016-07-01</td>\n      <td>2.2</td>\n    </tr>\n    <tr>\n      <th>49</th>\n      <td>2016-08-01</td>\n      <td>-0.8</td>\n    </tr>\n    <tr>\n      <th>50</th>\n      <td>2016-09-01</td>\n      <td>1.3</td>\n    </tr>\n    <tr>\n      <th>51</th>\n      <td>2016-10-01</td>\n      <td>2.9</td>\n    </tr>\n    <tr>\n      <th>52</th>\n      <td>2016-11-01</td>\n      <td>2.0</td>\n    </tr>\n    <tr>\n      <th>53</th>\n      <td>2016-12-01</td>\n      <td>1.2</td>\n    </tr>\n  </tbody>\n</table>\n</div>"
     },
     "metadata": {},
     "execution_count": 58
    }
   ],
   "source": [
    "# Limiting the df to the relevant period\n",
    "bool_mask = ipc_caba['fecha'] < dt.datetime(year=2017, month=1, day=1)\n",
    "ipc_caba = ipc_caba[bool_mask]\n",
    "ipc_caba"
   ]
  },
  {
   "cell_type": "markdown",
   "id": "d95cbcbc-a669-4904-b547-c784ebad859e",
   "metadata": {},
   "source": [
    "#### Uniendo y Tomando la Media de Ambos <a class=\"anchor\" id=\"uniendo\"> </a>"
   ]
  },
  {
   "cell_type": "code",
   "execution_count": 59,
   "id": "d011160c-fec6-40f3-89a3-5bf59b7e2760",
   "metadata": {},
   "outputs": [
    {
     "output_type": "stream",
     "name": "stdout",
     "text": [
      "fecha       datetime64[ns]\nipc_caba           float32\nipc_sl             float32\ndtype: object\n"
     ]
    },
    {
     "output_type": "execute_result",
     "data": {
      "text/plain": [
       "        fecha  ipc_caba  ipc_sl\n",
       "54 2007-01-01       NaN     1.1\n",
       "55 2007-02-01       NaN     0.7\n",
       "56 2007-03-01       NaN     1.0\n",
       "57 2007-04-01       NaN     2.3\n",
       "58 2007-05-01       NaN     2.1\n",
       "..        ...       ...     ...\n",
       "49 2016-08-01      -0.8     0.6\n",
       "50 2016-09-01       1.3     1.7\n",
       "51 2016-10-01       2.9     1.9\n",
       "52 2016-11-01       2.0     1.3\n",
       "53 2016-12-01       1.2     0.9\n",
       "\n",
       "[120 rows x 3 columns]"
      ],
      "text/html": "<div>\n<style scoped>\n    .dataframe tbody tr th:only-of-type {\n        vertical-align: middle;\n    }\n\n    .dataframe tbody tr th {\n        vertical-align: top;\n    }\n\n    .dataframe thead th {\n        text-align: right;\n    }\n</style>\n<table border=\"1\" class=\"dataframe\">\n  <thead>\n    <tr style=\"text-align: right;\">\n      <th></th>\n      <th>fecha</th>\n      <th>ipc_caba</th>\n      <th>ipc_sl</th>\n    </tr>\n  </thead>\n  <tbody>\n    <tr>\n      <th>54</th>\n      <td>2007-01-01</td>\n      <td>NaN</td>\n      <td>1.1</td>\n    </tr>\n    <tr>\n      <th>55</th>\n      <td>2007-02-01</td>\n      <td>NaN</td>\n      <td>0.7</td>\n    </tr>\n    <tr>\n      <th>56</th>\n      <td>2007-03-01</td>\n      <td>NaN</td>\n      <td>1.0</td>\n    </tr>\n    <tr>\n      <th>57</th>\n      <td>2007-04-01</td>\n      <td>NaN</td>\n      <td>2.3</td>\n    </tr>\n    <tr>\n      <th>58</th>\n      <td>2007-05-01</td>\n      <td>NaN</td>\n      <td>2.1</td>\n    </tr>\n    <tr>\n      <th>...</th>\n      <td>...</td>\n      <td>...</td>\n      <td>...</td>\n    </tr>\n    <tr>\n      <th>49</th>\n      <td>2016-08-01</td>\n      <td>-0.8</td>\n      <td>0.6</td>\n    </tr>\n    <tr>\n      <th>50</th>\n      <td>2016-09-01</td>\n      <td>1.3</td>\n      <td>1.7</td>\n    </tr>\n    <tr>\n      <th>51</th>\n      <td>2016-10-01</td>\n      <td>2.9</td>\n      <td>1.9</td>\n    </tr>\n    <tr>\n      <th>52</th>\n      <td>2016-11-01</td>\n      <td>2.0</td>\n      <td>1.3</td>\n    </tr>\n    <tr>\n      <th>53</th>\n      <td>2016-12-01</td>\n      <td>1.2</td>\n      <td>0.9</td>\n    </tr>\n  </tbody>\n</table>\n<p>120 rows × 3 columns</p>\n</div>"
     },
     "metadata": {},
     "execution_count": 59
    }
   ],
   "source": [
    "# Merging both dfs\n",
    "ipc_mid = ipc_caba.merge(ipc_sl, how='outer', on='fecha')\n",
    "ipc_mid = ipc_mid.sort_values(by='fecha', axis=0)\n",
    "print(ipc_mid.dtypes)\n",
    "ipc_mid"
   ]
  },
  {
   "cell_type": "code",
   "execution_count": 60,
   "id": "a25ef94c-9dbc-40aa-9470-6e623efecfa0",
   "metadata": {},
   "outputs": [
    {
     "output_type": "execute_result",
     "data": {
      "text/plain": [
       "        fecha  ipc_caba  ipc_sl   ipc\n",
       "54 2007-01-01       NaN     1.1  1.10\n",
       "55 2007-02-01       NaN     0.7  0.70\n",
       "56 2007-03-01       NaN     1.0  1.00\n",
       "57 2007-04-01       NaN     2.3  2.30\n",
       "58 2007-05-01       NaN     2.1  2.10\n",
       "..        ...       ...     ...   ...\n",
       "49 2016-08-01      -0.8     0.6 -0.10\n",
       "50 2016-09-01       1.3     1.7  1.50\n",
       "51 2016-10-01       2.9     1.9  2.40\n",
       "52 2016-11-01       2.0     1.3  1.65\n",
       "53 2016-12-01       1.2     0.9  1.05\n",
       "\n",
       "[120 rows x 4 columns]"
      ],
      "text/html": "<div>\n<style scoped>\n    .dataframe tbody tr th:only-of-type {\n        vertical-align: middle;\n    }\n\n    .dataframe tbody tr th {\n        vertical-align: top;\n    }\n\n    .dataframe thead th {\n        text-align: right;\n    }\n</style>\n<table border=\"1\" class=\"dataframe\">\n  <thead>\n    <tr style=\"text-align: right;\">\n      <th></th>\n      <th>fecha</th>\n      <th>ipc_caba</th>\n      <th>ipc_sl</th>\n      <th>ipc</th>\n    </tr>\n  </thead>\n  <tbody>\n    <tr>\n      <th>54</th>\n      <td>2007-01-01</td>\n      <td>NaN</td>\n      <td>1.1</td>\n      <td>1.10</td>\n    </tr>\n    <tr>\n      <th>55</th>\n      <td>2007-02-01</td>\n      <td>NaN</td>\n      <td>0.7</td>\n      <td>0.70</td>\n    </tr>\n    <tr>\n      <th>56</th>\n      <td>2007-03-01</td>\n      <td>NaN</td>\n      <td>1.0</td>\n      <td>1.00</td>\n    </tr>\n    <tr>\n      <th>57</th>\n      <td>2007-04-01</td>\n      <td>NaN</td>\n      <td>2.3</td>\n      <td>2.30</td>\n    </tr>\n    <tr>\n      <th>58</th>\n      <td>2007-05-01</td>\n      <td>NaN</td>\n      <td>2.1</td>\n      <td>2.10</td>\n    </tr>\n    <tr>\n      <th>...</th>\n      <td>...</td>\n      <td>...</td>\n      <td>...</td>\n      <td>...</td>\n    </tr>\n    <tr>\n      <th>49</th>\n      <td>2016-08-01</td>\n      <td>-0.8</td>\n      <td>0.6</td>\n      <td>-0.10</td>\n    </tr>\n    <tr>\n      <th>50</th>\n      <td>2016-09-01</td>\n      <td>1.3</td>\n      <td>1.7</td>\n      <td>1.50</td>\n    </tr>\n    <tr>\n      <th>51</th>\n      <td>2016-10-01</td>\n      <td>2.9</td>\n      <td>1.9</td>\n      <td>2.40</td>\n    </tr>\n    <tr>\n      <th>52</th>\n      <td>2016-11-01</td>\n      <td>2.0</td>\n      <td>1.3</td>\n      <td>1.65</td>\n    </tr>\n    <tr>\n      <th>53</th>\n      <td>2016-12-01</td>\n      <td>1.2</td>\n      <td>0.9</td>\n      <td>1.05</td>\n    </tr>\n  </tbody>\n</table>\n<p>120 rows × 4 columns</p>\n</div>"
     },
     "metadata": {},
     "execution_count": 60
    }
   ],
   "source": [
    "# Taking the averge of both ipc measurements when possible\n",
    "bool_mask_1 = ipc_mid['fecha'] < dt.datetime(year=2012, month=7, day=1)\n",
    "bool_mask_2 = ipc_mid['fecha'] >= dt.datetime(year=2012, month=7, day=1)\n",
    "\n",
    "ipc_mid.loc[bool_mask_1, 'ipc'] = ipc_mid.loc[bool_mask_1, 'ipc_sl']\n",
    "\n",
    "ipc_sum = ipc_mid.loc[bool_mask_2, 'ipc_caba'] + ipc_mid.loc[bool_mask_2, 'ipc_sl']\n",
    "ipc_mid.loc[bool_mask_2, 'ipc'] = ipc_sum / 2\n",
    "\n",
    "ipc_mid"
   ]
  },
  {
   "cell_type": "code",
   "execution_count": 61,
   "id": "771738a1-48b6-4c55-bb42-11b9bc751c51",
   "metadata": {},
   "outputs": [
    {
     "output_type": "execute_result",
     "data": {
      "text/plain": [
       "         fecha   ipc\n",
       "0   2007-01-01  1.10\n",
       "1   2007-02-01  0.70\n",
       "2   2007-03-01  1.00\n",
       "3   2007-04-01  2.30\n",
       "4   2007-05-01  2.10\n",
       "..         ...   ...\n",
       "115 2016-08-01 -0.10\n",
       "116 2016-09-01  1.50\n",
       "117 2016-10-01  2.40\n",
       "118 2016-11-01  1.65\n",
       "119 2016-12-01  1.05\n",
       "\n",
       "[120 rows x 2 columns]"
      ],
      "text/html": "<div>\n<style scoped>\n    .dataframe tbody tr th:only-of-type {\n        vertical-align: middle;\n    }\n\n    .dataframe tbody tr th {\n        vertical-align: top;\n    }\n\n    .dataframe thead th {\n        text-align: right;\n    }\n</style>\n<table border=\"1\" class=\"dataframe\">\n  <thead>\n    <tr style=\"text-align: right;\">\n      <th></th>\n      <th>fecha</th>\n      <th>ipc</th>\n    </tr>\n  </thead>\n  <tbody>\n    <tr>\n      <th>0</th>\n      <td>2007-01-01</td>\n      <td>1.10</td>\n    </tr>\n    <tr>\n      <th>1</th>\n      <td>2007-02-01</td>\n      <td>0.70</td>\n    </tr>\n    <tr>\n      <th>2</th>\n      <td>2007-03-01</td>\n      <td>1.00</td>\n    </tr>\n    <tr>\n      <th>3</th>\n      <td>2007-04-01</td>\n      <td>2.30</td>\n    </tr>\n    <tr>\n      <th>4</th>\n      <td>2007-05-01</td>\n      <td>2.10</td>\n    </tr>\n    <tr>\n      <th>...</th>\n      <td>...</td>\n      <td>...</td>\n    </tr>\n    <tr>\n      <th>115</th>\n      <td>2016-08-01</td>\n      <td>-0.10</td>\n    </tr>\n    <tr>\n      <th>116</th>\n      <td>2016-09-01</td>\n      <td>1.50</td>\n    </tr>\n    <tr>\n      <th>117</th>\n      <td>2016-10-01</td>\n      <td>2.40</td>\n    </tr>\n    <tr>\n      <th>118</th>\n      <td>2016-11-01</td>\n      <td>1.65</td>\n    </tr>\n    <tr>\n      <th>119</th>\n      <td>2016-12-01</td>\n      <td>1.05</td>\n    </tr>\n  </tbody>\n</table>\n<p>120 rows × 2 columns</p>\n</div>"
     },
     "metadata": {},
     "execution_count": 61
    }
   ],
   "source": [
    "# Removing columns\n",
    "ipc_mid = ipc_mid.drop(columns=['ipc_caba', 'ipc_sl']).reset_index(drop=True)\n",
    "ipc_mid"
   ]
  },
  {
   "cell_type": "markdown",
   "id": "bd0e9bd6-3a10-425e-a06d-37f4224ca835",
   "metadata": {},
   "source": [
    "### Datos Posteriores a 2017 <a class=\"anchor\" id=\"ipc2017\"> </a>"
   ]
  },
  {
   "cell_type": "code",
   "execution_count": 62,
   "id": "c4da6dd2-8ce8-48f8-b538-1802b925801d",
   "metadata": {},
   "outputs": [
    {
     "output_type": "stream",
     "name": "stdout",
     "text": [
      "Mes      object\nvalor    object\ndtype: object\n"
     ]
    },
    {
     "output_type": "execute_result",
     "data": {
      "text/plain": [
       "       Mes valor\n",
       "0   Jan-17  1.6%\n",
       "1   Feb-17  2.1%\n",
       "2   Mar-17  2.4%\n",
       "3   Apr-17  2.7%\n",
       "4   May-17  1.4%\n",
       "5   Jun-17  1.2%\n",
       "6   Jul-17  1.7%\n",
       "7   Aug-17  1.4%\n",
       "8   Sep-17  1.9%\n",
       "9   Oct-17  1.5%\n",
       "10  Nov-17  1.4%\n",
       "11  Dec-17  3.1%\n",
       "12  Jan-18  1.8%\n",
       "13  Feb-18  2.4%\n",
       "14  Mar-18  2.3%\n",
       "15  Apr-18  2.7%\n",
       "16  May-18  2.1%\n",
       "17  Jun-18  3.7%\n",
       "18  Jul-18  3.1%\n",
       "19  Aug-18  3.9%\n",
       "20  Sep-18  6.5%\n",
       "21  Oct-18  5.4%\n",
       "22  Nov-18  3.2%\n",
       "23  Dec-18  2.6%\n",
       "24  Jan-19  2.9%\n",
       "25  Feb-19  3.8%\n",
       "26  Mar-19  4.7%\n",
       "27  Apr-19  3.4%\n",
       "28  May-19  3.1%\n",
       "29  Jun-19  2.7%\n",
       "30  Jul-19  2.2%\n",
       "31  Aug-19  4.0%\n",
       "32  Sep-19  5.9%\n",
       "33  Oct-19  3.3%\n",
       "34  Nov-19  4.3%\n",
       "35  Dec-19  3.7%\n",
       "36  Jan-20  2.3%\n",
       "37  Feb-20  2.0%\n",
       "38  Mar-20  3.3%\n",
       "39  Apr-20  1.5%\n",
       "40  May-20  1.5%\n",
       "41  Jun-20  2.2%\n",
       "42  Jul-20  1.9%\n",
       "43  Aug-20  2.7%\n",
       "44  Sep-20  2.8%\n",
       "45  Oct-20  3.8%\n",
       "46  Nov-20  3.2%\n",
       "47  Dec-20  4.0%\n",
       "48  Jan-21  4.0%\n",
       "49  Feb-21  3.6%\n",
       "50  Mar-21  4.8%\n",
       "51  Apr-21  4.1%"
      ],
      "text/html": "<div>\n<style scoped>\n    .dataframe tbody tr th:only-of-type {\n        vertical-align: middle;\n    }\n\n    .dataframe tbody tr th {\n        vertical-align: top;\n    }\n\n    .dataframe thead th {\n        text-align: right;\n    }\n</style>\n<table border=\"1\" class=\"dataframe\">\n  <thead>\n    <tr style=\"text-align: right;\">\n      <th></th>\n      <th>Mes</th>\n      <th>valor</th>\n    </tr>\n  </thead>\n  <tbody>\n    <tr>\n      <th>0</th>\n      <td>Jan-17</td>\n      <td>1.6%</td>\n    </tr>\n    <tr>\n      <th>1</th>\n      <td>Feb-17</td>\n      <td>2.1%</td>\n    </tr>\n    <tr>\n      <th>2</th>\n      <td>Mar-17</td>\n      <td>2.4%</td>\n    </tr>\n    <tr>\n      <th>3</th>\n      <td>Apr-17</td>\n      <td>2.7%</td>\n    </tr>\n    <tr>\n      <th>4</th>\n      <td>May-17</td>\n      <td>1.4%</td>\n    </tr>\n    <tr>\n      <th>5</th>\n      <td>Jun-17</td>\n      <td>1.2%</td>\n    </tr>\n    <tr>\n      <th>6</th>\n      <td>Jul-17</td>\n      <td>1.7%</td>\n    </tr>\n    <tr>\n      <th>7</th>\n      <td>Aug-17</td>\n      <td>1.4%</td>\n    </tr>\n    <tr>\n      <th>8</th>\n      <td>Sep-17</td>\n      <td>1.9%</td>\n    </tr>\n    <tr>\n      <th>9</th>\n      <td>Oct-17</td>\n      <td>1.5%</td>\n    </tr>\n    <tr>\n      <th>10</th>\n      <td>Nov-17</td>\n      <td>1.4%</td>\n    </tr>\n    <tr>\n      <th>11</th>\n      <td>Dec-17</td>\n      <td>3.1%</td>\n    </tr>\n    <tr>\n      <th>12</th>\n      <td>Jan-18</td>\n      <td>1.8%</td>\n    </tr>\n    <tr>\n      <th>13</th>\n      <td>Feb-18</td>\n      <td>2.4%</td>\n    </tr>\n    <tr>\n      <th>14</th>\n      <td>Mar-18</td>\n      <td>2.3%</td>\n    </tr>\n    <tr>\n      <th>15</th>\n      <td>Apr-18</td>\n      <td>2.7%</td>\n    </tr>\n    <tr>\n      <th>16</th>\n      <td>May-18</td>\n      <td>2.1%</td>\n    </tr>\n    <tr>\n      <th>17</th>\n      <td>Jun-18</td>\n      <td>3.7%</td>\n    </tr>\n    <tr>\n      <th>18</th>\n      <td>Jul-18</td>\n      <td>3.1%</td>\n    </tr>\n    <tr>\n      <th>19</th>\n      <td>Aug-18</td>\n      <td>3.9%</td>\n    </tr>\n    <tr>\n      <th>20</th>\n      <td>Sep-18</td>\n      <td>6.5%</td>\n    </tr>\n    <tr>\n      <th>21</th>\n      <td>Oct-18</td>\n      <td>5.4%</td>\n    </tr>\n    <tr>\n      <th>22</th>\n      <td>Nov-18</td>\n      <td>3.2%</td>\n    </tr>\n    <tr>\n      <th>23</th>\n      <td>Dec-18</td>\n      <td>2.6%</td>\n    </tr>\n    <tr>\n      <th>24</th>\n      <td>Jan-19</td>\n      <td>2.9%</td>\n    </tr>\n    <tr>\n      <th>25</th>\n      <td>Feb-19</td>\n      <td>3.8%</td>\n    </tr>\n    <tr>\n      <th>26</th>\n      <td>Mar-19</td>\n      <td>4.7%</td>\n    </tr>\n    <tr>\n      <th>27</th>\n      <td>Apr-19</td>\n      <td>3.4%</td>\n    </tr>\n    <tr>\n      <th>28</th>\n      <td>May-19</td>\n      <td>3.1%</td>\n    </tr>\n    <tr>\n      <th>29</th>\n      <td>Jun-19</td>\n      <td>2.7%</td>\n    </tr>\n    <tr>\n      <th>30</th>\n      <td>Jul-19</td>\n      <td>2.2%</td>\n    </tr>\n    <tr>\n      <th>31</th>\n      <td>Aug-19</td>\n      <td>4.0%</td>\n    </tr>\n    <tr>\n      <th>32</th>\n      <td>Sep-19</td>\n      <td>5.9%</td>\n    </tr>\n    <tr>\n      <th>33</th>\n      <td>Oct-19</td>\n      <td>3.3%</td>\n    </tr>\n    <tr>\n      <th>34</th>\n      <td>Nov-19</td>\n      <td>4.3%</td>\n    </tr>\n    <tr>\n      <th>35</th>\n      <td>Dec-19</td>\n      <td>3.7%</td>\n    </tr>\n    <tr>\n      <th>36</th>\n      <td>Jan-20</td>\n      <td>2.3%</td>\n    </tr>\n    <tr>\n      <th>37</th>\n      <td>Feb-20</td>\n      <td>2.0%</td>\n    </tr>\n    <tr>\n      <th>38</th>\n      <td>Mar-20</td>\n      <td>3.3%</td>\n    </tr>\n    <tr>\n      <th>39</th>\n      <td>Apr-20</td>\n      <td>1.5%</td>\n    </tr>\n    <tr>\n      <th>40</th>\n      <td>May-20</td>\n      <td>1.5%</td>\n    </tr>\n    <tr>\n      <th>41</th>\n      <td>Jun-20</td>\n      <td>2.2%</td>\n    </tr>\n    <tr>\n      <th>42</th>\n      <td>Jul-20</td>\n      <td>1.9%</td>\n    </tr>\n    <tr>\n      <th>43</th>\n      <td>Aug-20</td>\n      <td>2.7%</td>\n    </tr>\n    <tr>\n      <th>44</th>\n      <td>Sep-20</td>\n      <td>2.8%</td>\n    </tr>\n    <tr>\n      <th>45</th>\n      <td>Oct-20</td>\n      <td>3.8%</td>\n    </tr>\n    <tr>\n      <th>46</th>\n      <td>Nov-20</td>\n      <td>3.2%</td>\n    </tr>\n    <tr>\n      <th>47</th>\n      <td>Dec-20</td>\n      <td>4.0%</td>\n    </tr>\n    <tr>\n      <th>48</th>\n      <td>Jan-21</td>\n      <td>4.0%</td>\n    </tr>\n    <tr>\n      <th>49</th>\n      <td>Feb-21</td>\n      <td>3.6%</td>\n    </tr>\n    <tr>\n      <th>50</th>\n      <td>Mar-21</td>\n      <td>4.8%</td>\n    </tr>\n    <tr>\n      <th>51</th>\n      <td>Apr-21</td>\n      <td>4.1%</td>\n    </tr>\n  </tbody>\n</table>\n</div>"
     },
     "metadata": {},
     "execution_count": 62
    }
   ],
   "source": [
    "# Reading the file\n",
    "ipc_new = pd.read_csv('IPC/IPC 2017-.csv', names=['Mes', 'valor'])\n",
    "print(ipc_new.dtypes)\n",
    "ipc_new"
   ]
  },
  {
   "cell_type": "code",
   "execution_count": 63,
   "id": "5bf4c027-50bf-44f3-8112-277a364f4343",
   "metadata": {},
   "outputs": [
    {
     "output_type": "execute_result",
     "data": {
      "text/plain": [
       "        fecha  ipc\n",
       "0  2017-01-01  1.6\n",
       "1  2017-02-01  2.1\n",
       "2  2017-03-01  2.4\n",
       "3  2017-04-01  2.7\n",
       "4  2017-05-01  1.4\n",
       "5  2017-06-01  1.2\n",
       "6  2017-07-01  1.7\n",
       "7  2017-08-01  1.4\n",
       "8  2017-09-01  1.9\n",
       "9  2017-10-01  1.5\n",
       "10 2017-11-01  1.4\n",
       "11 2017-12-01  3.1\n",
       "12 2018-01-01  1.8\n",
       "13 2018-02-01  2.4\n",
       "14 2018-03-01  2.3\n",
       "15 2018-04-01  2.7\n",
       "16 2018-05-01  2.1\n",
       "17 2018-06-01  3.7\n",
       "18 2018-07-01  3.1\n",
       "19 2018-08-01  3.9\n",
       "20 2018-09-01  6.5\n",
       "21 2018-10-01  5.4\n",
       "22 2018-11-01  3.2\n",
       "23 2018-12-01  2.6\n",
       "24 2019-01-01  2.9\n",
       "25 2019-02-01  3.8\n",
       "26 2019-03-01  4.7\n",
       "27 2019-04-01  3.4\n",
       "28 2019-05-01  3.1\n",
       "29 2019-06-01  2.7\n",
       "30 2019-07-01  2.2\n",
       "31 2019-08-01  4.0\n",
       "32 2019-09-01  5.9\n",
       "33 2019-10-01  3.3\n",
       "34 2019-11-01  4.3\n",
       "35 2019-12-01  3.7\n",
       "36 2020-01-01  2.3\n",
       "37 2020-02-01  2.0\n",
       "38 2020-03-01  3.3\n",
       "39 2020-04-01  1.5\n",
       "40 2020-05-01  1.5\n",
       "41 2020-06-01  2.2\n",
       "42 2020-07-01  1.9\n",
       "43 2020-08-01  2.7\n",
       "44 2020-09-01  2.8\n",
       "45 2020-10-01  3.8\n",
       "46 2020-11-01  3.2\n",
       "47 2020-12-01  4.0\n",
       "48 2021-01-01  4.0\n",
       "49 2021-02-01  3.6\n",
       "50 2021-03-01  4.8\n",
       "51 2021-04-01  4.1"
      ],
      "text/html": "<div>\n<style scoped>\n    .dataframe tbody tr th:only-of-type {\n        vertical-align: middle;\n    }\n\n    .dataframe tbody tr th {\n        vertical-align: top;\n    }\n\n    .dataframe thead th {\n        text-align: right;\n    }\n</style>\n<table border=\"1\" class=\"dataframe\">\n  <thead>\n    <tr style=\"text-align: right;\">\n      <th></th>\n      <th>fecha</th>\n      <th>ipc</th>\n    </tr>\n  </thead>\n  <tbody>\n    <tr>\n      <th>0</th>\n      <td>2017-01-01</td>\n      <td>1.6</td>\n    </tr>\n    <tr>\n      <th>1</th>\n      <td>2017-02-01</td>\n      <td>2.1</td>\n    </tr>\n    <tr>\n      <th>2</th>\n      <td>2017-03-01</td>\n      <td>2.4</td>\n    </tr>\n    <tr>\n      <th>3</th>\n      <td>2017-04-01</td>\n      <td>2.7</td>\n    </tr>\n    <tr>\n      <th>4</th>\n      <td>2017-05-01</td>\n      <td>1.4</td>\n    </tr>\n    <tr>\n      <th>5</th>\n      <td>2017-06-01</td>\n      <td>1.2</td>\n    </tr>\n    <tr>\n      <th>6</th>\n      <td>2017-07-01</td>\n      <td>1.7</td>\n    </tr>\n    <tr>\n      <th>7</th>\n      <td>2017-08-01</td>\n      <td>1.4</td>\n    </tr>\n    <tr>\n      <th>8</th>\n      <td>2017-09-01</td>\n      <td>1.9</td>\n    </tr>\n    <tr>\n      <th>9</th>\n      <td>2017-10-01</td>\n      <td>1.5</td>\n    </tr>\n    <tr>\n      <th>10</th>\n      <td>2017-11-01</td>\n      <td>1.4</td>\n    </tr>\n    <tr>\n      <th>11</th>\n      <td>2017-12-01</td>\n      <td>3.1</td>\n    </tr>\n    <tr>\n      <th>12</th>\n      <td>2018-01-01</td>\n      <td>1.8</td>\n    </tr>\n    <tr>\n      <th>13</th>\n      <td>2018-02-01</td>\n      <td>2.4</td>\n    </tr>\n    <tr>\n      <th>14</th>\n      <td>2018-03-01</td>\n      <td>2.3</td>\n    </tr>\n    <tr>\n      <th>15</th>\n      <td>2018-04-01</td>\n      <td>2.7</td>\n    </tr>\n    <tr>\n      <th>16</th>\n      <td>2018-05-01</td>\n      <td>2.1</td>\n    </tr>\n    <tr>\n      <th>17</th>\n      <td>2018-06-01</td>\n      <td>3.7</td>\n    </tr>\n    <tr>\n      <th>18</th>\n      <td>2018-07-01</td>\n      <td>3.1</td>\n    </tr>\n    <tr>\n      <th>19</th>\n      <td>2018-08-01</td>\n      <td>3.9</td>\n    </tr>\n    <tr>\n      <th>20</th>\n      <td>2018-09-01</td>\n      <td>6.5</td>\n    </tr>\n    <tr>\n      <th>21</th>\n      <td>2018-10-01</td>\n      <td>5.4</td>\n    </tr>\n    <tr>\n      <th>22</th>\n      <td>2018-11-01</td>\n      <td>3.2</td>\n    </tr>\n    <tr>\n      <th>23</th>\n      <td>2018-12-01</td>\n      <td>2.6</td>\n    </tr>\n    <tr>\n      <th>24</th>\n      <td>2019-01-01</td>\n      <td>2.9</td>\n    </tr>\n    <tr>\n      <th>25</th>\n      <td>2019-02-01</td>\n      <td>3.8</td>\n    </tr>\n    <tr>\n      <th>26</th>\n      <td>2019-03-01</td>\n      <td>4.7</td>\n    </tr>\n    <tr>\n      <th>27</th>\n      <td>2019-04-01</td>\n      <td>3.4</td>\n    </tr>\n    <tr>\n      <th>28</th>\n      <td>2019-05-01</td>\n      <td>3.1</td>\n    </tr>\n    <tr>\n      <th>29</th>\n      <td>2019-06-01</td>\n      <td>2.7</td>\n    </tr>\n    <tr>\n      <th>30</th>\n      <td>2019-07-01</td>\n      <td>2.2</td>\n    </tr>\n    <tr>\n      <th>31</th>\n      <td>2019-08-01</td>\n      <td>4.0</td>\n    </tr>\n    <tr>\n      <th>32</th>\n      <td>2019-09-01</td>\n      <td>5.9</td>\n    </tr>\n    <tr>\n      <th>33</th>\n      <td>2019-10-01</td>\n      <td>3.3</td>\n    </tr>\n    <tr>\n      <th>34</th>\n      <td>2019-11-01</td>\n      <td>4.3</td>\n    </tr>\n    <tr>\n      <th>35</th>\n      <td>2019-12-01</td>\n      <td>3.7</td>\n    </tr>\n    <tr>\n      <th>36</th>\n      <td>2020-01-01</td>\n      <td>2.3</td>\n    </tr>\n    <tr>\n      <th>37</th>\n      <td>2020-02-01</td>\n      <td>2.0</td>\n    </tr>\n    <tr>\n      <th>38</th>\n      <td>2020-03-01</td>\n      <td>3.3</td>\n    </tr>\n    <tr>\n      <th>39</th>\n      <td>2020-04-01</td>\n      <td>1.5</td>\n    </tr>\n    <tr>\n      <th>40</th>\n      <td>2020-05-01</td>\n      <td>1.5</td>\n    </tr>\n    <tr>\n      <th>41</th>\n      <td>2020-06-01</td>\n      <td>2.2</td>\n    </tr>\n    <tr>\n      <th>42</th>\n      <td>2020-07-01</td>\n      <td>1.9</td>\n    </tr>\n    <tr>\n      <th>43</th>\n      <td>2020-08-01</td>\n      <td>2.7</td>\n    </tr>\n    <tr>\n      <th>44</th>\n      <td>2020-09-01</td>\n      <td>2.8</td>\n    </tr>\n    <tr>\n      <th>45</th>\n      <td>2020-10-01</td>\n      <td>3.8</td>\n    </tr>\n    <tr>\n      <th>46</th>\n      <td>2020-11-01</td>\n      <td>3.2</td>\n    </tr>\n    <tr>\n      <th>47</th>\n      <td>2020-12-01</td>\n      <td>4.0</td>\n    </tr>\n    <tr>\n      <th>48</th>\n      <td>2021-01-01</td>\n      <td>4.0</td>\n    </tr>\n    <tr>\n      <th>49</th>\n      <td>2021-02-01</td>\n      <td>3.6</td>\n    </tr>\n    <tr>\n      <th>50</th>\n      <td>2021-03-01</td>\n      <td>4.8</td>\n    </tr>\n    <tr>\n      <th>51</th>\n      <td>2021-04-01</td>\n      <td>4.1</td>\n    </tr>\n  </tbody>\n</table>\n</div>"
     },
     "metadata": {},
     "execution_count": 63
    }
   ],
   "source": [
    "# Casting the values as float\n",
    "ipc_new['valor'] = ipc_new['valor'].str.replace('%', '')\n",
    "ipc_new['valor'] = ipc_new['valor'].astype('float')\n",
    "ipc_new['Mes'] = pd.to_datetime(ipc_new['Mes'], format='%b-%y')\n",
    "\n",
    "# Renaming columns\n",
    "ipc_new.columns = ['fecha', 'ipc']\n",
    "ipc_new"
   ]
  },
  {
   "cell_type": "markdown",
   "id": "739a8b41-627e-4809-b09d-f6ac13b8a24e",
   "metadata": {},
   "source": [
    "### Uniendo todos los Datos del IPC <a class=\"anchor\" id=\"ipcfin\"> </a> "
   ]
  },
  {
   "cell_type": "code",
   "execution_count": 64,
   "id": "a119ca06-953c-49ab-80bb-b472eb4c59b7",
   "metadata": {},
   "outputs": [
    {
     "output_type": "execute_result",
     "data": {
      "text/plain": [
       "         fecha  ipc\n",
       "0   1943-02-01 -0.6\n",
       "1   1943-03-01  1.6\n",
       "2   1943-04-01  0.7\n",
       "3   1943-05-01 -0.9\n",
       "4   1943-06-01  0.1\n",
       "..         ...  ...\n",
       "934 2020-12-01  4.0\n",
       "935 2021-01-01  4.0\n",
       "936 2021-02-01  3.6\n",
       "937 2021-03-01  4.8\n",
       "938 2021-04-01  4.1\n",
       "\n",
       "[939 rows x 2 columns]"
      ],
      "text/html": "<div>\n<style scoped>\n    .dataframe tbody tr th:only-of-type {\n        vertical-align: middle;\n    }\n\n    .dataframe tbody tr th {\n        vertical-align: top;\n    }\n\n    .dataframe thead th {\n        text-align: right;\n    }\n</style>\n<table border=\"1\" class=\"dataframe\">\n  <thead>\n    <tr style=\"text-align: right;\">\n      <th></th>\n      <th>fecha</th>\n      <th>ipc</th>\n    </tr>\n  </thead>\n  <tbody>\n    <tr>\n      <th>0</th>\n      <td>1943-02-01</td>\n      <td>-0.6</td>\n    </tr>\n    <tr>\n      <th>1</th>\n      <td>1943-03-01</td>\n      <td>1.6</td>\n    </tr>\n    <tr>\n      <th>2</th>\n      <td>1943-04-01</td>\n      <td>0.7</td>\n    </tr>\n    <tr>\n      <th>3</th>\n      <td>1943-05-01</td>\n      <td>-0.9</td>\n    </tr>\n    <tr>\n      <th>4</th>\n      <td>1943-06-01</td>\n      <td>0.1</td>\n    </tr>\n    <tr>\n      <th>...</th>\n      <td>...</td>\n      <td>...</td>\n    </tr>\n    <tr>\n      <th>934</th>\n      <td>2020-12-01</td>\n      <td>4.0</td>\n    </tr>\n    <tr>\n      <th>935</th>\n      <td>2021-01-01</td>\n      <td>4.0</td>\n    </tr>\n    <tr>\n      <th>936</th>\n      <td>2021-02-01</td>\n      <td>3.6</td>\n    </tr>\n    <tr>\n      <th>937</th>\n      <td>2021-03-01</td>\n      <td>4.8</td>\n    </tr>\n    <tr>\n      <th>938</th>\n      <td>2021-04-01</td>\n      <td>4.1</td>\n    </tr>\n  </tbody>\n</table>\n<p>939 rows × 2 columns</p>\n</div>"
     },
     "metadata": {},
     "execution_count": 64
    }
   ],
   "source": [
    "# Stacking the dataframes on top of each other\n",
    "ipc = pd.concat([ipc_old, ipc_mid]).reset_index(drop=True)\n",
    "ipc = pd.concat([ipc, ipc_new]).reset_index(drop=True)\n",
    "ipc"
   ]
  },
  {
   "cell_type": "code",
   "execution_count": 65,
   "id": "835f6c9d-e400-41df-aead-06c8520ed483",
   "metadata": {},
   "outputs": [
    {
     "output_type": "execute_result",
     "data": {
      "text/plain": [
       "          fecha  rem  badlar  base_monetaria  reservas  dolar_mayor  \\\n",
       "0    1996-01-02  NaN     NaN         13069.0       NaN          NaN   \n",
       "1    1996-01-03  NaN     NaN          1297.0       NaN          NaN   \n",
       "2    1996-01-04  NaN     NaN         13034.0       NaN          NaN   \n",
       "3    1996-01-05  NaN     NaN         13097.0       NaN          NaN   \n",
       "4    1996-01-08  NaN     NaN         13104.0       NaN          NaN   \n",
       "...         ...  ...     ...             ...       ...          ...   \n",
       "7098 2003-02-01  NaN     NaN             NaN       NaN          NaN   \n",
       "7099 2003-03-01  NaN     NaN             NaN       NaN          NaN   \n",
       "7100 2003-05-01  NaN     NaN             NaN       NaN          NaN   \n",
       "7101 2003-06-01  NaN     NaN             NaN       NaN          NaN   \n",
       "7102 2004-01-01  NaN     NaN             NaN       NaN          NaN   \n",
       "\n",
       "      dolar_informal  expec_utdt  emae  ipc  \n",
       "0                NaN         NaN   NaN  NaN  \n",
       "1                NaN         NaN   NaN  NaN  \n",
       "2                NaN         NaN   NaN  NaN  \n",
       "3                NaN         NaN   NaN  NaN  \n",
       "4                NaN         NaN   NaN  NaN  \n",
       "...              ...         ...   ...  ...  \n",
       "7098             NaN         NaN   NaN  0.6  \n",
       "7099             NaN         NaN   NaN  0.6  \n",
       "7100             NaN         NaN   NaN -0.4  \n",
       "7101             NaN         NaN   NaN -0.1  \n",
       "7102             NaN         NaN   NaN  0.4  \n",
       "\n",
       "[7103 rows x 10 columns]"
      ],
      "text/html": "<div>\n<style scoped>\n    .dataframe tbody tr th:only-of-type {\n        vertical-align: middle;\n    }\n\n    .dataframe tbody tr th {\n        vertical-align: top;\n    }\n\n    .dataframe thead th {\n        text-align: right;\n    }\n</style>\n<table border=\"1\" class=\"dataframe\">\n  <thead>\n    <tr style=\"text-align: right;\">\n      <th></th>\n      <th>fecha</th>\n      <th>rem</th>\n      <th>badlar</th>\n      <th>base_monetaria</th>\n      <th>reservas</th>\n      <th>dolar_mayor</th>\n      <th>dolar_informal</th>\n      <th>expec_utdt</th>\n      <th>emae</th>\n      <th>ipc</th>\n    </tr>\n  </thead>\n  <tbody>\n    <tr>\n      <th>0</th>\n      <td>1996-01-02</td>\n      <td>NaN</td>\n      <td>NaN</td>\n      <td>13069.0</td>\n      <td>NaN</td>\n      <td>NaN</td>\n      <td>NaN</td>\n      <td>NaN</td>\n      <td>NaN</td>\n      <td>NaN</td>\n    </tr>\n    <tr>\n      <th>1</th>\n      <td>1996-01-03</td>\n      <td>NaN</td>\n      <td>NaN</td>\n      <td>1297.0</td>\n      <td>NaN</td>\n      <td>NaN</td>\n      <td>NaN</td>\n      <td>NaN</td>\n      <td>NaN</td>\n      <td>NaN</td>\n    </tr>\n    <tr>\n      <th>2</th>\n      <td>1996-01-04</td>\n      <td>NaN</td>\n      <td>NaN</td>\n      <td>13034.0</td>\n      <td>NaN</td>\n      <td>NaN</td>\n      <td>NaN</td>\n      <td>NaN</td>\n      <td>NaN</td>\n      <td>NaN</td>\n    </tr>\n    <tr>\n      <th>3</th>\n      <td>1996-01-05</td>\n      <td>NaN</td>\n      <td>NaN</td>\n      <td>13097.0</td>\n      <td>NaN</td>\n      <td>NaN</td>\n      <td>NaN</td>\n      <td>NaN</td>\n      <td>NaN</td>\n      <td>NaN</td>\n    </tr>\n    <tr>\n      <th>4</th>\n      <td>1996-01-08</td>\n      <td>NaN</td>\n      <td>NaN</td>\n      <td>13104.0</td>\n      <td>NaN</td>\n      <td>NaN</td>\n      <td>NaN</td>\n      <td>NaN</td>\n      <td>NaN</td>\n      <td>NaN</td>\n    </tr>\n    <tr>\n      <th>...</th>\n      <td>...</td>\n      <td>...</td>\n      <td>...</td>\n      <td>...</td>\n      <td>...</td>\n      <td>...</td>\n      <td>...</td>\n      <td>...</td>\n      <td>...</td>\n      <td>...</td>\n    </tr>\n    <tr>\n      <th>7098</th>\n      <td>2003-02-01</td>\n      <td>NaN</td>\n      <td>NaN</td>\n      <td>NaN</td>\n      <td>NaN</td>\n      <td>NaN</td>\n      <td>NaN</td>\n      <td>NaN</td>\n      <td>NaN</td>\n      <td>0.6</td>\n    </tr>\n    <tr>\n      <th>7099</th>\n      <td>2003-03-01</td>\n      <td>NaN</td>\n      <td>NaN</td>\n      <td>NaN</td>\n      <td>NaN</td>\n      <td>NaN</td>\n      <td>NaN</td>\n      <td>NaN</td>\n      <td>NaN</td>\n      <td>0.6</td>\n    </tr>\n    <tr>\n      <th>7100</th>\n      <td>2003-05-01</td>\n      <td>NaN</td>\n      <td>NaN</td>\n      <td>NaN</td>\n      <td>NaN</td>\n      <td>NaN</td>\n      <td>NaN</td>\n      <td>NaN</td>\n      <td>NaN</td>\n      <td>-0.4</td>\n    </tr>\n    <tr>\n      <th>7101</th>\n      <td>2003-06-01</td>\n      <td>NaN</td>\n      <td>NaN</td>\n      <td>NaN</td>\n      <td>NaN</td>\n      <td>NaN</td>\n      <td>NaN</td>\n      <td>NaN</td>\n      <td>NaN</td>\n      <td>-0.1</td>\n    </tr>\n    <tr>\n      <th>7102</th>\n      <td>2004-01-01</td>\n      <td>NaN</td>\n      <td>NaN</td>\n      <td>NaN</td>\n      <td>NaN</td>\n      <td>NaN</td>\n      <td>NaN</td>\n      <td>NaN</td>\n      <td>NaN</td>\n      <td>0.4</td>\n    </tr>\n  </tbody>\n</table>\n<p>7103 rows × 10 columns</p>\n</div>"
     },
     "metadata": {},
     "execution_count": 65
    }
   ],
   "source": [
    "# Merging with the data df\n",
    "data = data.merge(ipc, how='outer', on='fecha').reset_index(drop=True)\n",
    "data"
   ]
  },
  {
   "cell_type": "markdown",
   "id": "e1c7baa9-ff18-4233-a41f-1f99ae80f425",
   "metadata": {},
   "source": [
    "## Elaboracion del Dataset Final <a class=\"anchor\" id=\"dataset\"> </a>\n",
    "### Ordenando los Datos cronologicamente <a class=\"anchor\" id=\"sorting\"> </a>"
   ]
  },
  {
   "cell_type": "code",
   "execution_count": 66,
   "id": "d96ea4b3-310a-4799-a36f-dc8ce05c2686",
   "metadata": {},
   "outputs": [
    {
     "output_type": "execute_result",
     "data": {
      "text/plain": [
       "          fecha  rem   badlar  base_monetaria  reservas  dolar_mayor  \\\n",
       "0    1943-02-01  NaN      NaN             NaN       NaN          NaN   \n",
       "1    1943-03-01  NaN      NaN             NaN       NaN          NaN   \n",
       "2    1943-04-01  NaN      NaN             NaN       NaN          NaN   \n",
       "3    1943-05-01  NaN      NaN             NaN       NaN          NaN   \n",
       "4    1943-06-01  NaN      NaN             NaN       NaN          NaN   \n",
       "...         ...  ...      ...             ...       ...          ...   \n",
       "7098 2021-05-10  NaN  34.0000       2502577.0   40616.0    93.930000   \n",
       "7099 2021-05-11  NaN  34.1250       2545019.0   40762.0    93.959999   \n",
       "7100 2021-05-12  NaN  34.1875       2538706.0   40880.0    93.989998   \n",
       "7101 2021-05-13  NaN  34.1875             NaN       NaN    94.019997   \n",
       "7102 2021-05-14  NaN      NaN             NaN       NaN    94.050003   \n",
       "\n",
       "      dolar_informal  expec_utdt  emae  ipc  \n",
       "0                NaN         NaN   NaN -0.6  \n",
       "1                NaN         NaN   NaN  1.6  \n",
       "2                NaN         NaN   NaN  0.7  \n",
       "3                NaN         NaN   NaN -0.9  \n",
       "4                NaN         NaN   NaN  0.1  \n",
       "...              ...         ...   ...  ...  \n",
       "7098           149.5         NaN   NaN  NaN  \n",
       "7099           148.5         NaN   NaN  NaN  \n",
       "7100           149.5         NaN   NaN  NaN  \n",
       "7101           148.5         NaN   NaN  NaN  \n",
       "7102           150.5         NaN   NaN  NaN  \n",
       "\n",
       "[7103 rows x 10 columns]"
      ],
      "text/html": "<div>\n<style scoped>\n    .dataframe tbody tr th:only-of-type {\n        vertical-align: middle;\n    }\n\n    .dataframe tbody tr th {\n        vertical-align: top;\n    }\n\n    .dataframe thead th {\n        text-align: right;\n    }\n</style>\n<table border=\"1\" class=\"dataframe\">\n  <thead>\n    <tr style=\"text-align: right;\">\n      <th></th>\n      <th>fecha</th>\n      <th>rem</th>\n      <th>badlar</th>\n      <th>base_monetaria</th>\n      <th>reservas</th>\n      <th>dolar_mayor</th>\n      <th>dolar_informal</th>\n      <th>expec_utdt</th>\n      <th>emae</th>\n      <th>ipc</th>\n    </tr>\n  </thead>\n  <tbody>\n    <tr>\n      <th>0</th>\n      <td>1943-02-01</td>\n      <td>NaN</td>\n      <td>NaN</td>\n      <td>NaN</td>\n      <td>NaN</td>\n      <td>NaN</td>\n      <td>NaN</td>\n      <td>NaN</td>\n      <td>NaN</td>\n      <td>-0.6</td>\n    </tr>\n    <tr>\n      <th>1</th>\n      <td>1943-03-01</td>\n      <td>NaN</td>\n      <td>NaN</td>\n      <td>NaN</td>\n      <td>NaN</td>\n      <td>NaN</td>\n      <td>NaN</td>\n      <td>NaN</td>\n      <td>NaN</td>\n      <td>1.6</td>\n    </tr>\n    <tr>\n      <th>2</th>\n      <td>1943-04-01</td>\n      <td>NaN</td>\n      <td>NaN</td>\n      <td>NaN</td>\n      <td>NaN</td>\n      <td>NaN</td>\n      <td>NaN</td>\n      <td>NaN</td>\n      <td>NaN</td>\n      <td>0.7</td>\n    </tr>\n    <tr>\n      <th>3</th>\n      <td>1943-05-01</td>\n      <td>NaN</td>\n      <td>NaN</td>\n      <td>NaN</td>\n      <td>NaN</td>\n      <td>NaN</td>\n      <td>NaN</td>\n      <td>NaN</td>\n      <td>NaN</td>\n      <td>-0.9</td>\n    </tr>\n    <tr>\n      <th>4</th>\n      <td>1943-06-01</td>\n      <td>NaN</td>\n      <td>NaN</td>\n      <td>NaN</td>\n      <td>NaN</td>\n      <td>NaN</td>\n      <td>NaN</td>\n      <td>NaN</td>\n      <td>NaN</td>\n      <td>0.1</td>\n    </tr>\n    <tr>\n      <th>...</th>\n      <td>...</td>\n      <td>...</td>\n      <td>...</td>\n      <td>...</td>\n      <td>...</td>\n      <td>...</td>\n      <td>...</td>\n      <td>...</td>\n      <td>...</td>\n      <td>...</td>\n    </tr>\n    <tr>\n      <th>7098</th>\n      <td>2021-05-10</td>\n      <td>NaN</td>\n      <td>34.0000</td>\n      <td>2502577.0</td>\n      <td>40616.0</td>\n      <td>93.930000</td>\n      <td>149.5</td>\n      <td>NaN</td>\n      <td>NaN</td>\n      <td>NaN</td>\n    </tr>\n    <tr>\n      <th>7099</th>\n      <td>2021-05-11</td>\n      <td>NaN</td>\n      <td>34.1250</td>\n      <td>2545019.0</td>\n      <td>40762.0</td>\n      <td>93.959999</td>\n      <td>148.5</td>\n      <td>NaN</td>\n      <td>NaN</td>\n      <td>NaN</td>\n    </tr>\n    <tr>\n      <th>7100</th>\n      <td>2021-05-12</td>\n      <td>NaN</td>\n      <td>34.1875</td>\n      <td>2538706.0</td>\n      <td>40880.0</td>\n      <td>93.989998</td>\n      <td>149.5</td>\n      <td>NaN</td>\n      <td>NaN</td>\n      <td>NaN</td>\n    </tr>\n    <tr>\n      <th>7101</th>\n      <td>2021-05-13</td>\n      <td>NaN</td>\n      <td>34.1875</td>\n      <td>NaN</td>\n      <td>NaN</td>\n      <td>94.019997</td>\n      <td>148.5</td>\n      <td>NaN</td>\n      <td>NaN</td>\n      <td>NaN</td>\n    </tr>\n    <tr>\n      <th>7102</th>\n      <td>2021-05-14</td>\n      <td>NaN</td>\n      <td>NaN</td>\n      <td>NaN</td>\n      <td>NaN</td>\n      <td>94.050003</td>\n      <td>150.5</td>\n      <td>NaN</td>\n      <td>NaN</td>\n      <td>NaN</td>\n    </tr>\n  </tbody>\n</table>\n<p>7103 rows × 10 columns</p>\n</div>"
     },
     "metadata": {},
     "execution_count": 66
    }
   ],
   "source": [
    "data = data.sort_values('fecha', axis=0).reset_index(drop=True)\n",
    "data"
   ]
  },
  {
   "cell_type": "markdown",
   "id": "f40c698f-4330-44e1-88f4-560db10b8af2",
   "metadata": {},
   "source": [
    "#### Delimitando los Datos al periodo 2002-2021 <a class=\"anchor\" id=\"delimitando\"> </a>"
   ]
  },
  {
   "cell_type": "code",
   "execution_count": 67,
   "id": "a02abcb1-fc17-487d-abc8-b27892cd9731",
   "metadata": {},
   "outputs": [
    {
     "output_type": "execute_result",
     "data": {
      "text/plain": [
       "          fecha  rem   badlar  base_monetaria  reservas  dolar_mayor  \\\n",
       "0    2002-01-01  NaN      NaN             NaN       NaN          NaN   \n",
       "1    2002-01-02  NaN   7.5000         12169.0   15164.0          NaN   \n",
       "2    2002-01-03  NaN   7.0000         12122.0   15215.0          NaN   \n",
       "3    2002-01-04  NaN   7.6875          1189.0   15237.0          NaN   \n",
       "4    2002-01-07  NaN      NaN         11964.0   15371.0          NaN   \n",
       "...         ...  ...      ...             ...       ...          ...   \n",
       "4920 2021-04-26  NaN  34.0625       2487344.0   40271.0    93.279999   \n",
       "4921 2021-04-27  NaN  34.1250       2482754.0   40330.0    93.339996   \n",
       "4922 2021-04-28  NaN  33.9375       2490201.0   40339.0    93.419998   \n",
       "4923 2021-04-29  NaN  34.1875       2406780.0   40357.0    93.500000   \n",
       "4924 2021-04-30  NaN  34.0625       2370115.0   40263.0    93.559998   \n",
       "\n",
       "      dolar_informal  expec_utdt  emae  ipc  \n",
       "0                NaN         NaN   NaN  2.3  \n",
       "1                NaN         NaN   NaN  NaN  \n",
       "2                NaN         NaN   NaN  NaN  \n",
       "3                NaN         NaN   NaN  NaN  \n",
       "4                NaN         NaN   NaN  NaN  \n",
       "...              ...         ...   ...  ...  \n",
       "4920           155.5         NaN   NaN  NaN  \n",
       "4921           158.5         NaN   NaN  NaN  \n",
       "4922           159.5         NaN   NaN  NaN  \n",
       "4923           151.5         NaN   NaN  NaN  \n",
       "4924           147.5         NaN   NaN  NaN  \n",
       "\n",
       "[4925 rows x 10 columns]"
      ],
      "text/html": "<div>\n<style scoped>\n    .dataframe tbody tr th:only-of-type {\n        vertical-align: middle;\n    }\n\n    .dataframe tbody tr th {\n        vertical-align: top;\n    }\n\n    .dataframe thead th {\n        text-align: right;\n    }\n</style>\n<table border=\"1\" class=\"dataframe\">\n  <thead>\n    <tr style=\"text-align: right;\">\n      <th></th>\n      <th>fecha</th>\n      <th>rem</th>\n      <th>badlar</th>\n      <th>base_monetaria</th>\n      <th>reservas</th>\n      <th>dolar_mayor</th>\n      <th>dolar_informal</th>\n      <th>expec_utdt</th>\n      <th>emae</th>\n      <th>ipc</th>\n    </tr>\n  </thead>\n  <tbody>\n    <tr>\n      <th>0</th>\n      <td>2002-01-01</td>\n      <td>NaN</td>\n      <td>NaN</td>\n      <td>NaN</td>\n      <td>NaN</td>\n      <td>NaN</td>\n      <td>NaN</td>\n      <td>NaN</td>\n      <td>NaN</td>\n      <td>2.3</td>\n    </tr>\n    <tr>\n      <th>1</th>\n      <td>2002-01-02</td>\n      <td>NaN</td>\n      <td>7.5000</td>\n      <td>12169.0</td>\n      <td>15164.0</td>\n      <td>NaN</td>\n      <td>NaN</td>\n      <td>NaN</td>\n      <td>NaN</td>\n      <td>NaN</td>\n    </tr>\n    <tr>\n      <th>2</th>\n      <td>2002-01-03</td>\n      <td>NaN</td>\n      <td>7.0000</td>\n      <td>12122.0</td>\n      <td>15215.0</td>\n      <td>NaN</td>\n      <td>NaN</td>\n      <td>NaN</td>\n      <td>NaN</td>\n      <td>NaN</td>\n    </tr>\n    <tr>\n      <th>3</th>\n      <td>2002-01-04</td>\n      <td>NaN</td>\n      <td>7.6875</td>\n      <td>1189.0</td>\n      <td>15237.0</td>\n      <td>NaN</td>\n      <td>NaN</td>\n      <td>NaN</td>\n      <td>NaN</td>\n      <td>NaN</td>\n    </tr>\n    <tr>\n      <th>4</th>\n      <td>2002-01-07</td>\n      <td>NaN</td>\n      <td>NaN</td>\n      <td>11964.0</td>\n      <td>15371.0</td>\n      <td>NaN</td>\n      <td>NaN</td>\n      <td>NaN</td>\n      <td>NaN</td>\n      <td>NaN</td>\n    </tr>\n    <tr>\n      <th>...</th>\n      <td>...</td>\n      <td>...</td>\n      <td>...</td>\n      <td>...</td>\n      <td>...</td>\n      <td>...</td>\n      <td>...</td>\n      <td>...</td>\n      <td>...</td>\n      <td>...</td>\n    </tr>\n    <tr>\n      <th>4920</th>\n      <td>2021-04-26</td>\n      <td>NaN</td>\n      <td>34.0625</td>\n      <td>2487344.0</td>\n      <td>40271.0</td>\n      <td>93.279999</td>\n      <td>155.5</td>\n      <td>NaN</td>\n      <td>NaN</td>\n      <td>NaN</td>\n    </tr>\n    <tr>\n      <th>4921</th>\n      <td>2021-04-27</td>\n      <td>NaN</td>\n      <td>34.1250</td>\n      <td>2482754.0</td>\n      <td>40330.0</td>\n      <td>93.339996</td>\n      <td>158.5</td>\n      <td>NaN</td>\n      <td>NaN</td>\n      <td>NaN</td>\n    </tr>\n    <tr>\n      <th>4922</th>\n      <td>2021-04-28</td>\n      <td>NaN</td>\n      <td>33.9375</td>\n      <td>2490201.0</td>\n      <td>40339.0</td>\n      <td>93.419998</td>\n      <td>159.5</td>\n      <td>NaN</td>\n      <td>NaN</td>\n      <td>NaN</td>\n    </tr>\n    <tr>\n      <th>4923</th>\n      <td>2021-04-29</td>\n      <td>NaN</td>\n      <td>34.1875</td>\n      <td>2406780.0</td>\n      <td>40357.0</td>\n      <td>93.500000</td>\n      <td>151.5</td>\n      <td>NaN</td>\n      <td>NaN</td>\n      <td>NaN</td>\n    </tr>\n    <tr>\n      <th>4924</th>\n      <td>2021-04-30</td>\n      <td>NaN</td>\n      <td>34.0625</td>\n      <td>2370115.0</td>\n      <td>40263.0</td>\n      <td>93.559998</td>\n      <td>147.5</td>\n      <td>NaN</td>\n      <td>NaN</td>\n      <td>NaN</td>\n    </tr>\n  </tbody>\n</table>\n<p>4925 rows × 10 columns</p>\n</div>"
     },
     "metadata": {},
     "execution_count": 67
    }
   ],
   "source": [
    "data = data[data['fecha'] >= dt.datetime(year=2002, month=1, day=1)]\n",
    "data = data[data['fecha'] < dt.datetime(year=2021, month=5, day=1)].reset_index(drop=True)\n",
    "data"
   ]
  },
  {
   "source": [
    "#### Preparando las variables de frecuencia mensual <a class=\"anchor\" id=\"monthly_var\"> </a>"
   ],
   "cell_type": "markdown",
   "metadata": {}
  },
  {
   "cell_type": "code",
   "execution_count": 68,
   "metadata": {},
   "outputs": [
    {
     "output_type": "execute_result",
     "data": {
      "text/plain": [
       "         fecha   ipc       rem  expec_utdt   emae\n",
       "0   2002-01-01   2.3       NaN         NaN    NaN\n",
       "1   2002-02-01   3.1       NaN         NaN    NaN\n",
       "2   2002-03-01   4.0       NaN         NaN    NaN\n",
       "3   2002-04-01  10.4       NaN         NaN    NaN\n",
       "4   2002-05-01   4.0       NaN         NaN    NaN\n",
       "..         ...   ...       ...         ...    ...\n",
       "227 2020-12-01   4.0  3.652041   44.481538  127.1\n",
       "228 2021-01-01   4.0  3.852123   42.854528  132.1\n",
       "229 2021-02-01   3.6  3.803133   44.139414  133.4\n",
       "230 2021-03-01   4.8  3.530524   45.238070  132.6\n",
       "231 2021-04-01   4.1  3.945794   46.339870  129.2\n",
       "\n",
       "[232 rows x 5 columns]"
      ],
      "text/html": "<div>\n<style scoped>\n    .dataframe tbody tr th:only-of-type {\n        vertical-align: middle;\n    }\n\n    .dataframe tbody tr th {\n        vertical-align: top;\n    }\n\n    .dataframe thead th {\n        text-align: right;\n    }\n</style>\n<table border=\"1\" class=\"dataframe\">\n  <thead>\n    <tr style=\"text-align: right;\">\n      <th></th>\n      <th>fecha</th>\n      <th>ipc</th>\n      <th>rem</th>\n      <th>expec_utdt</th>\n      <th>emae</th>\n    </tr>\n  </thead>\n  <tbody>\n    <tr>\n      <th>0</th>\n      <td>2002-01-01</td>\n      <td>2.3</td>\n      <td>NaN</td>\n      <td>NaN</td>\n      <td>NaN</td>\n    </tr>\n    <tr>\n      <th>1</th>\n      <td>2002-02-01</td>\n      <td>3.1</td>\n      <td>NaN</td>\n      <td>NaN</td>\n      <td>NaN</td>\n    </tr>\n    <tr>\n      <th>2</th>\n      <td>2002-03-01</td>\n      <td>4.0</td>\n      <td>NaN</td>\n      <td>NaN</td>\n      <td>NaN</td>\n    </tr>\n    <tr>\n      <th>3</th>\n      <td>2002-04-01</td>\n      <td>10.4</td>\n      <td>NaN</td>\n      <td>NaN</td>\n      <td>NaN</td>\n    </tr>\n    <tr>\n      <th>4</th>\n      <td>2002-05-01</td>\n      <td>4.0</td>\n      <td>NaN</td>\n      <td>NaN</td>\n      <td>NaN</td>\n    </tr>\n    <tr>\n      <th>...</th>\n      <td>...</td>\n      <td>...</td>\n      <td>...</td>\n      <td>...</td>\n      <td>...</td>\n    </tr>\n    <tr>\n      <th>227</th>\n      <td>2020-12-01</td>\n      <td>4.0</td>\n      <td>3.652041</td>\n      <td>44.481538</td>\n      <td>127.1</td>\n    </tr>\n    <tr>\n      <th>228</th>\n      <td>2021-01-01</td>\n      <td>4.0</td>\n      <td>3.852123</td>\n      <td>42.854528</td>\n      <td>132.1</td>\n    </tr>\n    <tr>\n      <th>229</th>\n      <td>2021-02-01</td>\n      <td>3.6</td>\n      <td>3.803133</td>\n      <td>44.139414</td>\n      <td>133.4</td>\n    </tr>\n    <tr>\n      <th>230</th>\n      <td>2021-03-01</td>\n      <td>4.8</td>\n      <td>3.530524</td>\n      <td>45.238070</td>\n      <td>132.6</td>\n    </tr>\n    <tr>\n      <th>231</th>\n      <td>2021-04-01</td>\n      <td>4.1</td>\n      <td>3.945794</td>\n      <td>46.339870</td>\n      <td>129.2</td>\n    </tr>\n  </tbody>\n</table>\n<p>232 rows × 5 columns</p>\n</div>"
     },
     "metadata": {},
     "execution_count": 68
    }
   ],
   "source": [
    "# Preparing the data published monthly\n",
    "monthly_cols = ['ipc', 'rem', 'expec_utdt', 'emae']\n",
    "for i in range(len(monthly_cols)):\n",
    "    variable = monthly_cols[i]\n",
    "    if i == 0:\n",
    "        new_data = data[['fecha', variable]].dropna().reset_index(drop=True)\n",
    "    else:\n",
    "        new_data = new_data.merge(data[['fecha', variable]], on='fecha')\n",
    "new_data"
   ]
  },
  {
   "source": [
    "#### Preparando las variables diarias <a class=\"anchor\" id=\"dayly_var\"> </a>"
   ],
   "cell_type": "markdown",
   "metadata": {}
  },
  {
   "cell_type": "code",
   "execution_count": 69,
   "metadata": {},
   "outputs": [
    {
     "output_type": "execute_result",
     "data": {
      "text/plain": [
       "          fecha  reservas\n",
       "0    2002-01-02   15164.0\n",
       "1    2002-01-03   15215.0\n",
       "2    2002-01-04   15237.0\n",
       "3    2002-01-07   15371.0\n",
       "4    2002-01-08   15392.0\n",
       "...         ...       ...\n",
       "1155 2021-04-05   39645.0\n",
       "1156 2021-04-06   39709.0\n",
       "1157 2021-04-07   39751.0\n",
       "1158 2021-04-08   39801.0\n",
       "1159 2021-04-09   39850.0\n",
       "\n",
       "[1160 rows x 2 columns]"
      ],
      "text/html": "<div>\n<style scoped>\n    .dataframe tbody tr th:only-of-type {\n        vertical-align: middle;\n    }\n\n    .dataframe tbody tr th {\n        vertical-align: top;\n    }\n\n    .dataframe thead th {\n        text-align: right;\n    }\n</style>\n<table border=\"1\" class=\"dataframe\">\n  <thead>\n    <tr style=\"text-align: right;\">\n      <th></th>\n      <th>fecha</th>\n      <th>reservas</th>\n    </tr>\n  </thead>\n  <tbody>\n    <tr>\n      <th>0</th>\n      <td>2002-01-02</td>\n      <td>15164.0</td>\n    </tr>\n    <tr>\n      <th>1</th>\n      <td>2002-01-03</td>\n      <td>15215.0</td>\n    </tr>\n    <tr>\n      <th>2</th>\n      <td>2002-01-04</td>\n      <td>15237.0</td>\n    </tr>\n    <tr>\n      <th>3</th>\n      <td>2002-01-07</td>\n      <td>15371.0</td>\n    </tr>\n    <tr>\n      <th>4</th>\n      <td>2002-01-08</td>\n      <td>15392.0</td>\n    </tr>\n    <tr>\n      <th>...</th>\n      <td>...</td>\n      <td>...</td>\n    </tr>\n    <tr>\n      <th>1155</th>\n      <td>2021-04-05</td>\n      <td>39645.0</td>\n    </tr>\n    <tr>\n      <th>1156</th>\n      <td>2021-04-06</td>\n      <td>39709.0</td>\n    </tr>\n    <tr>\n      <th>1157</th>\n      <td>2021-04-07</td>\n      <td>39751.0</td>\n    </tr>\n    <tr>\n      <th>1158</th>\n      <td>2021-04-08</td>\n      <td>39801.0</td>\n    </tr>\n    <tr>\n      <th>1159</th>\n      <td>2021-04-09</td>\n      <td>39850.0</td>\n    </tr>\n  </tbody>\n</table>\n<p>1160 rows × 2 columns</p>\n</div>"
     },
     "metadata": {},
     "execution_count": 69
    }
   ],
   "source": [
    "# Selecting the first five days of each month\n",
    "\n",
    "def select_first_five_days(df, date_col):\n",
    "    \"\"\"This function takes the data from the first five days from \n",
    "       each month \"\"\"\n",
    "    # Creating the empty df   \n",
    "    new_df = pd.DataFrame()\n",
    "    # Creating a list of years\n",
    "    min_year = min(df[date_col].dt.year)\n",
    "    max_year = max(df[date_col].dt.year)\n",
    "    years = [i for i in range(min_year, max_year+1)]\n",
    "    # Looping over the years\n",
    "    for year in years:\n",
    "        # Selecting only the current year in the loop\n",
    "        year_df = df[df[date_col].dt.year == year].reset_index(drop=True)\n",
    "        # Creating a list of months for each year\n",
    "        min_month = min(year_df[date_col].dt.month)\n",
    "        max_month = max(year_df[date_col].dt.month)\n",
    "        months = [i for i in range(min_month, max_month+1)]\n",
    "        # Looping over the months\n",
    "        for month in months:\n",
    "            # Selecting only the current month in the loop\n",
    "            month_df = year_df[year_df[date_col].dt.month == month].reset_index(drop=True)\n",
    "            # Dropping rows with NaN values\n",
    "            month_df = month_df.dropna().reset_index(drop=True)\n",
    "            # Selecting the first five rows\n",
    "            first_five_days = month_df.loc[:4, :]\n",
    "            # Appending those rows to the final dataframe\n",
    "            new_df = new_df.append(first_five_days)\n",
    "    # Resetting the index of the final dataframe\n",
    "    new_df = new_df.reset_index(drop=True)\n",
    "    return new_df\n",
    "\n",
    "# List of cols where the data is published monthly\n",
    "daily_cols = ['badlar', 'base_monetaria', 'reservas', 'dolar_mayor', 'dolar_informal']\n",
    "# Dict to store the resulting dataframes\n",
    "daily_dict = {}\n",
    "\n",
    "# Looping over the previous list\n",
    "for i in range(len(daily_cols)):\n",
    "    daily_dict[i] = select_first_five_days(data[['fecha', daily_cols[i]]], 'fecha')\n",
    "\n",
    "daily_dict[2]   "
   ]
  },
  {
   "cell_type": "code",
   "execution_count": 70,
   "metadata": {},
   "outputs": [
    {
     "output_type": "execute_result",
     "data": {
      "text/plain": [
       "         fecha  reservas_1  reservas_2  reservas_3  reservas_4  reservas_5\n",
       "0   2002-01-01     15164.0     15215.0     15237.0     15371.0     15392.0\n",
       "1   2002-02-01     14025.0     13674.0     13973.0     13971.0     13974.0\n",
       "2   2002-03-01     13788.0     13732.0     13794.0     13798.0     13809.0\n",
       "3   2002-04-01     12762.0     12667.0     12699.0     12686.0     12665.0\n",
       "4   2002-05-01     12135.0     12027.0     12009.0     11980.0     11770.0\n",
       "..         ...         ...         ...         ...         ...         ...\n",
       "227 2020-12-01     38619.0     38622.0     38652.0     38661.0     38710.0\n",
       "228 2021-01-01     39501.0     39540.0     39546.0     39556.0     39462.0\n",
       "229 2021-02-01     39460.0     39453.0     39473.0     39134.0     39174.0\n",
       "230 2021-03-01     39617.0     39654.0     39718.0     39784.0     39799.0\n",
       "231 2021-04-01     39645.0     39709.0     39751.0     39801.0     39850.0\n",
       "\n",
       "[232 rows x 6 columns]"
      ],
      "text/html": "<div>\n<style scoped>\n    .dataframe tbody tr th:only-of-type {\n        vertical-align: middle;\n    }\n\n    .dataframe tbody tr th {\n        vertical-align: top;\n    }\n\n    .dataframe thead th {\n        text-align: right;\n    }\n</style>\n<table border=\"1\" class=\"dataframe\">\n  <thead>\n    <tr style=\"text-align: right;\">\n      <th></th>\n      <th>fecha</th>\n      <th>reservas_1</th>\n      <th>reservas_2</th>\n      <th>reservas_3</th>\n      <th>reservas_4</th>\n      <th>reservas_5</th>\n    </tr>\n  </thead>\n  <tbody>\n    <tr>\n      <th>0</th>\n      <td>2002-01-01</td>\n      <td>15164.0</td>\n      <td>15215.0</td>\n      <td>15237.0</td>\n      <td>15371.0</td>\n      <td>15392.0</td>\n    </tr>\n    <tr>\n      <th>1</th>\n      <td>2002-02-01</td>\n      <td>14025.0</td>\n      <td>13674.0</td>\n      <td>13973.0</td>\n      <td>13971.0</td>\n      <td>13974.0</td>\n    </tr>\n    <tr>\n      <th>2</th>\n      <td>2002-03-01</td>\n      <td>13788.0</td>\n      <td>13732.0</td>\n      <td>13794.0</td>\n      <td>13798.0</td>\n      <td>13809.0</td>\n    </tr>\n    <tr>\n      <th>3</th>\n      <td>2002-04-01</td>\n      <td>12762.0</td>\n      <td>12667.0</td>\n      <td>12699.0</td>\n      <td>12686.0</td>\n      <td>12665.0</td>\n    </tr>\n    <tr>\n      <th>4</th>\n      <td>2002-05-01</td>\n      <td>12135.0</td>\n      <td>12027.0</td>\n      <td>12009.0</td>\n      <td>11980.0</td>\n      <td>11770.0</td>\n    </tr>\n    <tr>\n      <th>...</th>\n      <td>...</td>\n      <td>...</td>\n      <td>...</td>\n      <td>...</td>\n      <td>...</td>\n      <td>...</td>\n    </tr>\n    <tr>\n      <th>227</th>\n      <td>2020-12-01</td>\n      <td>38619.0</td>\n      <td>38622.0</td>\n      <td>38652.0</td>\n      <td>38661.0</td>\n      <td>38710.0</td>\n    </tr>\n    <tr>\n      <th>228</th>\n      <td>2021-01-01</td>\n      <td>39501.0</td>\n      <td>39540.0</td>\n      <td>39546.0</td>\n      <td>39556.0</td>\n      <td>39462.0</td>\n    </tr>\n    <tr>\n      <th>229</th>\n      <td>2021-02-01</td>\n      <td>39460.0</td>\n      <td>39453.0</td>\n      <td>39473.0</td>\n      <td>39134.0</td>\n      <td>39174.0</td>\n    </tr>\n    <tr>\n      <th>230</th>\n      <td>2021-03-01</td>\n      <td>39617.0</td>\n      <td>39654.0</td>\n      <td>39718.0</td>\n      <td>39784.0</td>\n      <td>39799.0</td>\n    </tr>\n    <tr>\n      <th>231</th>\n      <td>2021-04-01</td>\n      <td>39645.0</td>\n      <td>39709.0</td>\n      <td>39751.0</td>\n      <td>39801.0</td>\n      <td>39850.0</td>\n    </tr>\n  </tbody>\n</table>\n<p>232 rows × 6 columns</p>\n</div>"
     },
     "metadata": {},
     "execution_count": 70
    }
   ],
   "source": [
    "# Making a row for each month \n",
    "\n",
    "def rotate_data(df, date_col, value_col, new_value_col, new_period_col):\n",
    "    new_df = pd.DataFrame()\n",
    "    # Looping over the rows of the original df\n",
    "    for i in range(0, df.shape[0], 5):\n",
    "        # Extracting the corresponding year and month\n",
    "        year = df.loc[i, date_col].year\n",
    "        month = df.loc[i, date_col].month \n",
    "        # Creating the new period col\n",
    "        new_df.loc[i, new_period_col] = dt.datetime(year=year, month=month, day=1)\n",
    "        # Creating the new cols\n",
    "        new_df.loc[i, new_value_col+'_1'] = df.loc[i, value_col]\n",
    "        new_df.loc[i, new_value_col+'_2'] = df.loc[i+1, value_col]\n",
    "        new_df.loc[i, new_value_col+'_3'] = df.loc[i+2, value_col]\n",
    "        new_df.loc[i, new_value_col+'_4'] = df.loc[i+3, value_col]\n",
    "        new_df.loc[i, new_value_col+'_5'] = df.loc[i+4, value_col]\n",
    "    # Resetting the index in new_df    \n",
    "    new_df = new_df.reset_index(drop=True)\n",
    "    # Setting new_period_col to datetime64\n",
    "    new_df[new_period_col] = pd.to_datetime(new_df[new_period_col])    \n",
    "    return new_df\n",
    "\n",
    "for i in daily_dict:\n",
    "    date_col = daily_dict[i].columns[0]\n",
    "    value_col =  daily_dict[i].columns[1]\n",
    "    daily_dict[i] = rotate_data(daily_dict[i], date_col, value_col, value_col, date_col)\n",
    "\n",
    "daily_dict[2]"
   ]
  },
  {
   "source": [
    "#### Uniendo ambos dataframes y rellenando datos faltantes <a class=\"anchor\" id=\"rellenando\"> </a>"
   ],
   "cell_type": "markdown",
   "metadata": {}
  },
  {
   "cell_type": "code",
   "execution_count": 71,
   "metadata": {},
   "outputs": [
    {
     "output_type": "execute_result",
     "data": {
      "text/plain": [
       "         fecha   ipc       rem  expec_utdt   emae  badlar_1  badlar_2  \\\n",
       "0   2002-03-01   4.0  0.000000    0.000000    0.0   21.5000   19.5000   \n",
       "1   2002-04-01  10.4  0.000000    0.000000    0.0   52.0625   47.3750   \n",
       "2   2002-05-01   4.0  0.000000    0.000000    0.0  138.4375  115.8750   \n",
       "3   2002-06-01   3.6  0.000000    0.000000    0.0  119.3750  147.6875   \n",
       "4   2002-07-01   3.2  0.000000    0.000000    0.0   84.1875   94.3750   \n",
       "..         ...   ...       ...         ...    ...       ...       ...   \n",
       "225 2020-12-01   4.0  3.652041   44.481538  127.1   34.3750   34.3125   \n",
       "226 2021-01-01   4.0  3.852123   42.854528  132.1   34.0625   34.3125   \n",
       "227 2021-02-01   3.6  3.803133   44.139414  133.4   34.1875   34.1875   \n",
       "228 2021-03-01   4.8  3.530524   45.238070  132.6   34.0625   34.0625   \n",
       "229 2021-04-01   4.1  3.945794   46.339870  129.2   33.9375   34.1250   \n",
       "\n",
       "     badlar_3  badlar_4  badlar_5  ...  dolar_mayor_1  dolar_mayor_2  \\\n",
       "0     14.5000   20.6250    0.0000  ...       2.370000       2.340000   \n",
       "1     55.4375   65.0000   35.0000  ...       2.890000       2.900000   \n",
       "2    141.1875  160.1250  189.1875  ...       3.040000       3.160000   \n",
       "3    109.5625   86.1250   99.1875  ...       3.590000       3.610000   \n",
       "4    113.3750  115.6250   94.0000  ...       3.790000       3.690000   \n",
       "..        ...       ...       ...  ...            ...            ...   \n",
       "225   34.1875   34.0625   34.2500  ...      81.400002      81.480003   \n",
       "226   33.9375   33.8125   34.1250  ...      84.699997      84.800003   \n",
       "227   34.0000   34.1875   34.0625  ...      87.610001      87.699997   \n",
       "228   34.1875   33.8750   33.8750  ...      90.089996      90.160004   \n",
       "229   34.0625   34.0625   34.0625  ...      92.239998      92.290001   \n",
       "\n",
       "     dolar_mayor_3  dolar_mayor_4  dolar_mayor_5  dolar_informal_1  \\\n",
       "0         2.320000       2.380000       2.430000             2.185   \n",
       "1         2.800000       2.670000       2.700000             2.915   \n",
       "2         3.160000       3.170000       3.190000             3.135   \n",
       "3         3.630000       3.640000       3.630000             3.640   \n",
       "4         3.580000       3.560000       3.570000             3.820   \n",
       "..             ...            ...            ...               ...   \n",
       "225      81.559998      81.650002      82.050003           150.000   \n",
       "226      84.900002      85.000000      85.110001           162.000   \n",
       "227      87.809998      87.910004      88.010002           150.500   \n",
       "228      90.220001      90.300003      90.370003           143.500   \n",
       "229      92.339996      92.389999      92.440002           137.500   \n",
       "\n",
       "     dolar_informal_2  dolar_informal_3  dolar_informal_4  dolar_informal_5  \n",
       "0               2.110              2.11              2.13             2.210  \n",
       "1               2.955              2.83              2.80             2.775  \n",
       "2               3.190              3.20              3.22             3.240  \n",
       "3               3.650              3.66              3.69             3.700  \n",
       "4               3.690              3.63              3.59             3.630  \n",
       "..                ...               ...               ...               ...  \n",
       "225           150.000            148.00            147.00           146.000  \n",
       "226           157.000            157.00            159.00           158.000  \n",
       "227           150.500            150.50            147.50           148.500  \n",
       "228           142.500            142.50            141.50           141.500  \n",
       "229           137.500            136.50            137.50           137.500  \n",
       "\n",
       "[230 rows x 30 columns]"
      ],
      "text/html": "<div>\n<style scoped>\n    .dataframe tbody tr th:only-of-type {\n        vertical-align: middle;\n    }\n\n    .dataframe tbody tr th {\n        vertical-align: top;\n    }\n\n    .dataframe thead th {\n        text-align: right;\n    }\n</style>\n<table border=\"1\" class=\"dataframe\">\n  <thead>\n    <tr style=\"text-align: right;\">\n      <th></th>\n      <th>fecha</th>\n      <th>ipc</th>\n      <th>rem</th>\n      <th>expec_utdt</th>\n      <th>emae</th>\n      <th>badlar_1</th>\n      <th>badlar_2</th>\n      <th>badlar_3</th>\n      <th>badlar_4</th>\n      <th>badlar_5</th>\n      <th>...</th>\n      <th>dolar_mayor_1</th>\n      <th>dolar_mayor_2</th>\n      <th>dolar_mayor_3</th>\n      <th>dolar_mayor_4</th>\n      <th>dolar_mayor_5</th>\n      <th>dolar_informal_1</th>\n      <th>dolar_informal_2</th>\n      <th>dolar_informal_3</th>\n      <th>dolar_informal_4</th>\n      <th>dolar_informal_5</th>\n    </tr>\n  </thead>\n  <tbody>\n    <tr>\n      <th>0</th>\n      <td>2002-03-01</td>\n      <td>4.0</td>\n      <td>0.000000</td>\n      <td>0.000000</td>\n      <td>0.0</td>\n      <td>21.5000</td>\n      <td>19.5000</td>\n      <td>14.5000</td>\n      <td>20.6250</td>\n      <td>0.0000</td>\n      <td>...</td>\n      <td>2.370000</td>\n      <td>2.340000</td>\n      <td>2.320000</td>\n      <td>2.380000</td>\n      <td>2.430000</td>\n      <td>2.185</td>\n      <td>2.110</td>\n      <td>2.11</td>\n      <td>2.13</td>\n      <td>2.210</td>\n    </tr>\n    <tr>\n      <th>1</th>\n      <td>2002-04-01</td>\n      <td>10.4</td>\n      <td>0.000000</td>\n      <td>0.000000</td>\n      <td>0.0</td>\n      <td>52.0625</td>\n      <td>47.3750</td>\n      <td>55.4375</td>\n      <td>65.0000</td>\n      <td>35.0000</td>\n      <td>...</td>\n      <td>2.890000</td>\n      <td>2.900000</td>\n      <td>2.800000</td>\n      <td>2.670000</td>\n      <td>2.700000</td>\n      <td>2.915</td>\n      <td>2.955</td>\n      <td>2.83</td>\n      <td>2.80</td>\n      <td>2.775</td>\n    </tr>\n    <tr>\n      <th>2</th>\n      <td>2002-05-01</td>\n      <td>4.0</td>\n      <td>0.000000</td>\n      <td>0.000000</td>\n      <td>0.0</td>\n      <td>138.4375</td>\n      <td>115.8750</td>\n      <td>141.1875</td>\n      <td>160.1250</td>\n      <td>189.1875</td>\n      <td>...</td>\n      <td>3.040000</td>\n      <td>3.160000</td>\n      <td>3.160000</td>\n      <td>3.170000</td>\n      <td>3.190000</td>\n      <td>3.135</td>\n      <td>3.190</td>\n      <td>3.20</td>\n      <td>3.22</td>\n      <td>3.240</td>\n    </tr>\n    <tr>\n      <th>3</th>\n      <td>2002-06-01</td>\n      <td>3.6</td>\n      <td>0.000000</td>\n      <td>0.000000</td>\n      <td>0.0</td>\n      <td>119.3750</td>\n      <td>147.6875</td>\n      <td>109.5625</td>\n      <td>86.1250</td>\n      <td>99.1875</td>\n      <td>...</td>\n      <td>3.590000</td>\n      <td>3.610000</td>\n      <td>3.630000</td>\n      <td>3.640000</td>\n      <td>3.630000</td>\n      <td>3.640</td>\n      <td>3.650</td>\n      <td>3.66</td>\n      <td>3.69</td>\n      <td>3.700</td>\n    </tr>\n    <tr>\n      <th>4</th>\n      <td>2002-07-01</td>\n      <td>3.2</td>\n      <td>0.000000</td>\n      <td>0.000000</td>\n      <td>0.0</td>\n      <td>84.1875</td>\n      <td>94.3750</td>\n      <td>113.3750</td>\n      <td>115.6250</td>\n      <td>94.0000</td>\n      <td>...</td>\n      <td>3.790000</td>\n      <td>3.690000</td>\n      <td>3.580000</td>\n      <td>3.560000</td>\n      <td>3.570000</td>\n      <td>3.820</td>\n      <td>3.690</td>\n      <td>3.63</td>\n      <td>3.59</td>\n      <td>3.630</td>\n    </tr>\n    <tr>\n      <th>...</th>\n      <td>...</td>\n      <td>...</td>\n      <td>...</td>\n      <td>...</td>\n      <td>...</td>\n      <td>...</td>\n      <td>...</td>\n      <td>...</td>\n      <td>...</td>\n      <td>...</td>\n      <td>...</td>\n      <td>...</td>\n      <td>...</td>\n      <td>...</td>\n      <td>...</td>\n      <td>...</td>\n      <td>...</td>\n      <td>...</td>\n      <td>...</td>\n      <td>...</td>\n      <td>...</td>\n    </tr>\n    <tr>\n      <th>225</th>\n      <td>2020-12-01</td>\n      <td>4.0</td>\n      <td>3.652041</td>\n      <td>44.481538</td>\n      <td>127.1</td>\n      <td>34.3750</td>\n      <td>34.3125</td>\n      <td>34.1875</td>\n      <td>34.0625</td>\n      <td>34.2500</td>\n      <td>...</td>\n      <td>81.400002</td>\n      <td>81.480003</td>\n      <td>81.559998</td>\n      <td>81.650002</td>\n      <td>82.050003</td>\n      <td>150.000</td>\n      <td>150.000</td>\n      <td>148.00</td>\n      <td>147.00</td>\n      <td>146.000</td>\n    </tr>\n    <tr>\n      <th>226</th>\n      <td>2021-01-01</td>\n      <td>4.0</td>\n      <td>3.852123</td>\n      <td>42.854528</td>\n      <td>132.1</td>\n      <td>34.0625</td>\n      <td>34.3125</td>\n      <td>33.9375</td>\n      <td>33.8125</td>\n      <td>34.1250</td>\n      <td>...</td>\n      <td>84.699997</td>\n      <td>84.800003</td>\n      <td>84.900002</td>\n      <td>85.000000</td>\n      <td>85.110001</td>\n      <td>162.000</td>\n      <td>157.000</td>\n      <td>157.00</td>\n      <td>159.00</td>\n      <td>158.000</td>\n    </tr>\n    <tr>\n      <th>227</th>\n      <td>2021-02-01</td>\n      <td>3.6</td>\n      <td>3.803133</td>\n      <td>44.139414</td>\n      <td>133.4</td>\n      <td>34.1875</td>\n      <td>34.1875</td>\n      <td>34.0000</td>\n      <td>34.1875</td>\n      <td>34.0625</td>\n      <td>...</td>\n      <td>87.610001</td>\n      <td>87.699997</td>\n      <td>87.809998</td>\n      <td>87.910004</td>\n      <td>88.010002</td>\n      <td>150.500</td>\n      <td>150.500</td>\n      <td>150.50</td>\n      <td>147.50</td>\n      <td>148.500</td>\n    </tr>\n    <tr>\n      <th>228</th>\n      <td>2021-03-01</td>\n      <td>4.8</td>\n      <td>3.530524</td>\n      <td>45.238070</td>\n      <td>132.6</td>\n      <td>34.0625</td>\n      <td>34.0625</td>\n      <td>34.1875</td>\n      <td>33.8750</td>\n      <td>33.8750</td>\n      <td>...</td>\n      <td>90.089996</td>\n      <td>90.160004</td>\n      <td>90.220001</td>\n      <td>90.300003</td>\n      <td>90.370003</td>\n      <td>143.500</td>\n      <td>142.500</td>\n      <td>142.50</td>\n      <td>141.50</td>\n      <td>141.500</td>\n    </tr>\n    <tr>\n      <th>229</th>\n      <td>2021-04-01</td>\n      <td>4.1</td>\n      <td>3.945794</td>\n      <td>46.339870</td>\n      <td>129.2</td>\n      <td>33.9375</td>\n      <td>34.1250</td>\n      <td>34.0625</td>\n      <td>34.0625</td>\n      <td>34.0625</td>\n      <td>...</td>\n      <td>92.239998</td>\n      <td>92.290001</td>\n      <td>92.339996</td>\n      <td>92.389999</td>\n      <td>92.440002</td>\n      <td>137.500</td>\n      <td>137.500</td>\n      <td>136.50</td>\n      <td>137.50</td>\n      <td>137.500</td>\n    </tr>\n  </tbody>\n</table>\n<p>230 rows × 30 columns</p>\n</div>"
     },
     "metadata": {},
     "execution_count": 71
    }
   ],
   "source": [
    "# Merging the daily data with the monthly data\n",
    "for i in daily_dict:\n",
    "    new_data = new_data.merge(daily_dict[i], on='fecha')\n",
    "\n",
    "# Filling NaNs with zeros\n",
    "new_data = new_data.fillna(0)\n",
    "new_data"
   ]
  },
  {
   "cell_type": "markdown",
   "id": "1adab415",
   "metadata": {},
   "source": [
    "### Guardando los datos a un archivo <a class=\"anchor\" id=\"Guardando\"> </a>"
   ]
  },
  {
   "cell_type": "code",
   "execution_count": 72,
   "id": "92abc56c-70c6-49db-83a7-062f17a79eab",
   "metadata": {},
   "outputs": [],
   "source": [
    "# Saving the data\n",
    "new_data.to_csv('processed data.csv', index=False)"
   ]
  }
 ],
 "metadata": {
  "kernelspec": {
   "name": "python3",
   "display_name": "Python 3.8.10 64-bit ('bcra': conda)"
  },
  "language_info": {
   "codemirror_mode": {
    "name": "ipython",
    "version": 3
   },
   "file_extension": ".py",
   "mimetype": "text/x-python",
   "name": "python",
   "nbconvert_exporter": "python",
   "pygments_lexer": "ipython3",
   "version": "3.8.10"
  },
  "interpreter": {
   "hash": "342361fb56600ae4cbdd9448e1b6d55b1dab6bef2cfd46f636278328513ec4c9"
  }
 },
 "nbformat": 4,
 "nbformat_minor": 5
}